{
  "nbformat": 4,
  "nbformat_minor": 0,
  "metadata": {
    "colab": {
      "provenance": [],
      "authorship_tag": "ABX9TyNz07YwZR6C5TiEXU2hdzme",
      "include_colab_link": true
    },
    "kernelspec": {
      "name": "python3",
      "display_name": "Python 3"
    },
    "language_info": {
      "name": "python"
    },
    "widgets": {
      "application/vnd.jupyter.widget-state+json": {
        "d7d13bb920ac4f88878c7d546d09edb3": {
          "model_module": "@jupyter-widgets/controls",
          "model_name": "VBoxModel",
          "model_module_version": "1.5.0",
          "state": {
            "_dom_classes": [
              "widget-interact"
            ],
            "_model_module": "@jupyter-widgets/controls",
            "_model_module_version": "1.5.0",
            "_model_name": "VBoxModel",
            "_view_count": null,
            "_view_module": "@jupyter-widgets/controls",
            "_view_module_version": "1.5.0",
            "_view_name": "VBoxView",
            "box_style": "",
            "children": [
              "IPY_MODEL_14db2dffcaa44ecbb6c40b3df5590f2d",
              "IPY_MODEL_25c1f4f08b204abda9513e739c2033cf",
              "IPY_MODEL_01786a681fc64190ae0410b00a1a375a"
            ],
            "layout": "IPY_MODEL_0692cd5adfbf45b78490718c423690fe"
          }
        },
        "14db2dffcaa44ecbb6c40b3df5590f2d": {
          "model_module": "@jupyter-widgets/controls",
          "model_name": "FloatSliderModel",
          "model_module_version": "1.5.0",
          "state": {
            "_dom_classes": [],
            "_model_module": "@jupyter-widgets/controls",
            "_model_module_version": "1.5.0",
            "_model_name": "FloatSliderModel",
            "_view_count": null,
            "_view_module": "@jupyter-widgets/controls",
            "_view_module_version": "1.5.0",
            "_view_name": "FloatSliderView",
            "continuous_update": true,
            "description": "p2_x",
            "description_tooltip": null,
            "disabled": false,
            "layout": "IPY_MODEL_02b248a14389498aa8afda921372908e",
            "max": 12.3,
            "min": 5.5,
            "orientation": "horizontal",
            "readout": true,
            "readout_format": ".2f",
            "step": 0.1,
            "style": "IPY_MODEL_f287569028c94ce28e7c888eae88128b",
            "value": 6.6
          }
        },
        "25c1f4f08b204abda9513e739c2033cf": {
          "model_module": "@jupyter-widgets/controls",
          "model_name": "FloatSliderModel",
          "model_module_version": "1.5.0",
          "state": {
            "_dom_classes": [],
            "_model_module": "@jupyter-widgets/controls",
            "_model_module_version": "1.5.0",
            "_model_name": "FloatSliderModel",
            "_view_count": null,
            "_view_module": "@jupyter-widgets/controls",
            "_view_module_version": "1.5.0",
            "_view_name": "FloatSliderView",
            "continuous_update": true,
            "description": "p2_y",
            "description_tooltip": null,
            "disabled": false,
            "layout": "IPY_MODEL_3fa77b24d3f9432b9bc8e061e1f593a4",
            "max": 10,
            "min": -10,
            "orientation": "horizontal",
            "readout": true,
            "readout_format": ".2f",
            "step": 0.1,
            "style": "IPY_MODEL_7b10e2b36332484aada826fec63b96fa",
            "value": -5.2
          }
        },
        "01786a681fc64190ae0410b00a1a375a": {
          "model_module": "@jupyter-widgets/output",
          "model_name": "OutputModel",
          "model_module_version": "1.0.0",
          "state": {
            "_dom_classes": [],
            "_model_module": "@jupyter-widgets/output",
            "_model_module_version": "1.0.0",
            "_model_name": "OutputModel",
            "_view_count": null,
            "_view_module": "@jupyter-widgets/output",
            "_view_module_version": "1.0.0",
            "_view_name": "OutputView",
            "layout": "IPY_MODEL_aa22aa2e54a242ab95a4fbc80b32e10f",
            "msg_id": "",
            "outputs": [
              {
                "output_type": "display_data",
                "data": {
                  "text/plain": "<Figure size 1000x600 with 1 Axes>",
                  "image/png": "iVBORw0KGgoAAAANSUhEUgAAA0wAAAIjCAYAAAAwSJuMAAAAOXRFWHRTb2Z0d2FyZQBNYXRwbG90bGliIHZlcnNpb24zLjguMCwgaHR0cHM6Ly9tYXRwbG90bGliLm9yZy81sbWrAAAACXBIWXMAAA9hAAAPYQGoP6dpAABS5UlEQVR4nO3deZzNdf//8ccx9mUoWbML2RUlSVSi0nYppZWUS4sibVTSorRvWqRFIqVEpZUW2lGoVLYsyZaSGUtZZs7vj/cv31wcoRmfOTOP++12bpf5zDlnnnOdrrqevd+f1zsWj8fjSJIkSZK2ky/qAJIkSZKUU1mYJEmSJCkBC5MkSZIkJWBhkiRJkqQELEySJEmSlICFSZIkSZISsDBJkiRJUgIWJkmSJElKwMIkSZIkSQlYmCRJtGnThjZt2kQdY6/r2rUr1apVy5L3uvnmm4nFYlnyXtklr37OkvRvWJgkKQk9++yzxGKxrY/ChQtTu3ZtevbsycqVK/dqllGjRvHggw/u1Z+5t7Vp04YGDRpEHSOhatWqbfPXQ9myZWnVqhXjxo3LkvffsGEDN998M5MmTcqS95OkZGJhkqQkduuttzJixAgeeeQRDj/8cB5//HFatGjBhg0bdut9JkyYwIQJE/YoQ14oTLvixhtv5I8//ojs5zdp0oQRI0YwYsQIrr76apYtW0bHjh0ZMmTIv37vDRs2cMstt1iYJOVJ+aMOIEnac8cffzzNmjUD4KKLLqJ06dLcf//9vPbaa5x11lm7/D4FCxbMroh5Rv78+cmfP7p/rO6///6ce+65W78+//zzOeCAA3jggQe4+OKLI8slScnOFSZJykWOPvpoABYuXAjAli1buO2226hZsyaFChWiWrVqXH/99WzcuHGb1/3vvS2TJk0iFovx0ksvcfvtt1OpUiUKFy7MMcccw/z587d53ZtvvsnixYu3bgf7+z1BgwcPpn79+hQtWpR99tmHZs2aMWrUqJ3+Dps2beKmm26iadOmlCxZkmLFitGqVSs+/PDDbZ63aNEiYrEY9957L0OHDt36Ox5yyCFMmzZtu/d99dVXadCgAYULF6ZBgwZZtl3tLzu6hykWi9GzZ8+tP7tQoULUr1+fd955Z7vXL126lG7dulGuXLmtz3vmmWf2OE/58uWpW7fu1r8WEvnll1+48MILKVeuHIULF6Zx48YMHz586/cXLVpEmTJlALjlllu2fs4333zzHmeTpGTiCpMk5SI//vgjAKVLlwbCqtPw4cM5/fTTueqqq5gyZQqDBg3ihx9+2KXCcOedd5IvXz6uvvpq0tLSuPvuuznnnHOYMmUKADfccANpaWn8/PPPPPDAAwAUL14cgCeffJIrrriC008/nV69evHnn3/yzTffMGXKFM4+++yEPzM9PZ2nnnqKs846i+7du7N27Vqefvpp2rdvz9SpU2nSpMk2zx81ahRr166lR48exGIx7r77bjp27MiCBQsoUKAAELYcnnbaadSrV49Bgwbx22+/ccEFF1CpUqXd+y94D3zyySeMHTuWSy+9lBIlSvDwww9z2mmn8dNPP239nFauXMlhhx22tWCVKVOGt99+mwsvvJD09HR69+692z938+bNLFmyZOvP2JE//viDNm3aMH/+fHr27En16tV5+eWX6dq1K2vWrKFXr16UKVOGxx9/nEsuuYT//Oc/dOzYEYBGjRrt0X8fkpR04pKkpDNs2LA4EH/vvffiq1atii9ZsiT+4osvxkuXLh0vUqRI/Oeff47PnDkzDsQvuuiibV579dVXx4H4Bx98sPVa69at461bt9769YcffhgH4nXr1o1v3Lhx6/WHHnooDsS//fbbrdc6dOgQr1q16nYZTznllHj9+vV3+3fbsmXLNj8zHo/Hf//993i5cuXi3bp123pt4cKFcSBeunTp+OrVq7def+211+JAfPz48VuvNWnSJF6hQoX4mjVrtl6bMGFCHNhh9v/VunXrf/xdBgwYEP/ff6wC8YIFC8bnz5+/9drXX38dB+KDBw/eeu3CCy+MV6hQIf7rr79u8/rOnTvHS5YsGd+wYcNOf3bVqlXj7dq1i69atSq+atWq+Ndffx3v3LlzHIhffvnl2/wef/+cH3zwwTgQHzly5NZrmzZtirdo0SJevHjxeHp6ejwej8dXrVoVB+IDBgzYaQ5Jyo3ckidJSaxt27aUKVOGypUr07lzZ4oXL864cePYf//9eeuttwDo06fPNq+56qqrAHjzzTf/8f0vuOCCbe5vatWqFQALFiz4x9eWKlWKn3/+eYfb43YmJSVl68/MzMxk9erVbNmyhWbNmjF9+vTtnn/mmWeyzz77JMy4fPlyZs6cSZcuXShZsuTW5x177LHUq1dvt7LtibZt21KzZs2tXzdq1IjU1NSt+eLxOK+88gonnXQS8XicX3/9deujffv2pKWl7fD3/l8TJkygTJkylClThsaNG/Pyyy9z3nnncddddyV8zVtvvUX58uW3ud+tQIECXHHFFaxbt47Jkyf/i99cknIHt+RJUhJ79NFHqV27Nvnz56dcuXLUqVOHfPnCvwtbvHgx+fLl44ADDtjmNeXLl6dUqVIsXrz4H9+/SpUq23z9VzH5/fff//G11113He+99x6HHnooBxxwAO3atePss8+mZcuW//ja4cOHc9999zF79mw2b9689Xr16tV3O+Nfv2etWrW2e22dOnV2qYz8G/+bD0LGv/KtWrWKNWvWMHToUIYOHbrD9/jll1/+8ec0b96cgQMHEovFKFq0KHXr1qVUqVI7fc3ixYupVavW1r9m/lK3bt2t35ekvM7CJElJ7NBDD906JS+Rf3OYakpKyg6vx+Pxf3xt3bp1mTNnDm+88QbvvPMOr7zyCo899hg33XQTt9xyS8LXjRw5kq5du3LqqadyzTXXULZsWVJSUhg0aNDWe7SyKuPe8E/5MjMzATj33HPp0qXLDp+7K/cL7bfffrRt23YPU0qSErEwSVIuVbVqVTIzM5k3b97WFQMIAwbWrFlD1apVs+Tn7KyQFStWjDPPPJMzzzyTTZs20bFjR26//Xb69etH4cKFd/iaMWPGUKNGDcaOHbvNew8YMGCP8v31e86bN2+7782ZM2eP3jMrlSlThhIlSpCRkbHXC0/VqlX55ptvyMzM3GaVafbs2Vu/D/+udEtSsvMeJknKpU444QSA7Q6Vvf/++wHo0KFDlvycYsWKkZaWtt313377bZuvCxYsSL169YjH49tss/tff63I/H2FaMqUKXz++ed7lK9ChQo0adKE4cOHb5Nz4sSJfP/993v0nlkpJSWF0047jVdeeYVZs2Zt9/1Vq1Zl288+4YQTWLFiBaNHj956bcuWLQwePJjixYvTunVrAIoWLQrAmjVrsi2LJOVUrjBJUi7VuHFjunTpwtChQ1mzZg2tW7dm6tSpDB8+nFNPPZWjjjoqS35O06ZNGT16NH369OGQQw6hePHinHTSSbRr147y5cvTsmVLypUrxw8//MAjjzxChw4dKFGiRML3O/HEExk7diz/+c9/6NChAwsXLmTIkCHUq1ePdevW7VHGQYMG0aFDB4444gi6devG6tWrt54RtavvuWrVKgYOHLjd9erVq3POOefsUa6/3HnnnXz44Yc0b96c7t27U69ePVavXs306dN57733WL169b96/0T++9//8sQTT9C1a1e++uorqlWrxpgxY/j000958MEHt35ORYoUoV69eowePZratWuz77770qBBAxo0aJAtuSQpJ7EwSVIu9tRTT1GjRg2effZZxo0bR/ny5enXr98eb2/bkUsvvZSZM2cybNgwHnjgAapWrcpJJ51Ejx49eP7557n//vtZt24dlSpV4oorruDGG2/c6ft17dqVFStW8MQTT/Duu+9Sr149Ro4cycsvv8ykSZP2KONxxx3Hyy+/zI033ki/fv2oWbMmw4YN47XXXtvl9/zll1/o37//dtePOeaYf12YypUrx9SpU7n11lsZO3Ysjz32GKVLl6Z+/fo7nXL3bxUpUoRJkybRt29fhg8fTnp6OnXq1GHYsGF07dp1m+c+9dRTXH755Vx55ZVs2rSJAQMGWJgk5QmxeE65K1aSJEmSchjvYZIkSZKkBCxMkiRJkpSAhUmSJEmSErAwSZIkSVICFiZJkiRJSsDCJEmSJEkJ5KlzmDIzM1m2bBklSpQgFotFHUeSJElSROLxOGvXrqVixYrky5d4HSlPFaZly5ZRuXLlqGNIkiRJyiGWLFlCpUqVEn4/TxWmEiVKAOG/lNTU1IjTSJIkSYpKeno6lStX3toREslThemvbXipqakWJkmSJEn/eKuOQx8kSZIkKQELkyRJkiQlYGGSJEmSpAQsTJIkSZKUgIVJkiRJkhKwMEmSJElSAhYmSZIkSUrAwiRJkiRJCViYJEmSJCkBC5MkSZIkJWBhkiRJkqQELEySJEmSlICFSZIkSZISyB91gDwpIwM+/hiWL4cKFaBVK0hJiTqVJEmSpP9hYdrbxo6FXr3g55//71qlSvDQQ9CxY3S5JEmSJG3HLXl709ixcPrp25YlgKVLw/WxY6PJJUmSJGmHLEx7S0ZGWFmKx7f/3l/XevcOz5MkSZKUI1iY9paPP95+Zenv4nFYsiQ8T5IkSVKOYGHaW5Yvz9rnSZIkScp2Fqa9pUKFrH2eJEmSpGxnYdpbWrUK0/BisR1/PxaDypXD8yRJkiTlCBamvSUlJYwOh+1L019fP/ig5zFJkiRJOYiFaW/q2BHGjIH999/2eqVK4brnMEmSJEk5igfX7m0dO8Ipp4RpeMuXh3uWWrVyZUmSJEnKgSxMUUhJgTZtok4hSZIk6R+4JU+SJEmSErAwSZIkSVICFiZJkiRJSsDCJEmSJEkJWJgkSZIkKQELkyRJkiQlYGGSJEmSpAQsTJIkSZKUgIVJkiRJkhKwMEmSJElSAhYmSZIkSUrAwiRJkiRJCViYJEmSJCkBC5MkSZIkJWBhkiRJkqQELEySJEmSlICFSZIkSZISsDBJkiRJUgIWJkmSJElKwMIkSZIkSQlYmCRJkiQpAQtTRB5+GObOjTqFJEmSpJ2xMEXgm2+gVy+oWxfOPhu++y7qRJIkSZJ2xMIUgQIF4KSTIDMTXngBGjaETp3g66+jTiZJkiTp7yxMEahbF15/HaZPh44dIR6HMWOgSRM49VT46quoE0qSJEkCC1OkDjoIXnkFvv0WOneGWAxeew2aNYMOHeCLL6JOKEmSJOVtFqYcoEGDsDXv++/hvPMgJQXeegtatIBjj4WPPoo6oSRJkpQ3WZhykAMPhOeeg9mzoVs3yJ8f3nsPWreGNm3g/ffD9j1JkiRJe4eFKQc64AB4+mmYNw969AhDIiZPhrZt4Ygj4J13LE6SJEnS3mBhysGqVYMhQ2DBArj8cihUCD77DI4/Hpo3h/HjLU6SJElSdrIwJYFKlcJBtwsXQp8+ULQoTJsGJ58MBx8cBkdkZkadUpIkScp9LExJpEIFuO++UJyuuw6KF4eZM+H006FRI3jxRcjIiDqlJEmSlHtYmJJQ2bJw552waBHceCOkpsJ338FZZ0H9+jBiBGzZEnVKSZIkKflZmJJY6dJw222weDHceivssw/MmQPnnx8m7j3zDGzeHHVKSZIkKXlZmHKBUqWgf/+w4jRoEOy3H/z4I1x4IdSqFQZHbNwYdUpJkiQp+ViYcpHUVOjbNxSn++6DcuXC6tMll0DNmjB4MPzxR9QpJUmSpORhYcqFihUL0/QWLgzT9fbfH5YuhSuugBo14P77Yf36qFNKkiRJOZ+FKRcrUiSc3/Tjj/D441ClCqxYAVddFc54uusuWLs26pSSJElSzmVhygMKFYKLL4Z58+Cpp8Iq06+/hu171aqFwRFr1kSdUpIkScp5LEx5SMGCYRDEnDnw3HNQuzasXg033RSK0003ha8lSZIkBRamPCh/fjjvPPj+e3jhhXB2U1paWGmqWhX69YNVq6JOKUmSJEXPwpSHpaRA587wzTcwZgw0bgzr1oVDcatVC/c6LV8edUpJkiQpOhYmkS8fnHYazJgBr70GzZrBhg1hml6NGmG63s8/R51SkiRJ2vssTNoqFoOTT4apU+Htt6FFC/jzz3B+U82a4TynxYujTilJkiTtPRYmbScWg+OOg08/hffeg9atYdMmGDIEDjggDI748ceoU0qSJEnZz8KkhGIxOOYYmDQJJk+Gtm1hyxZ45hmoUwfOPz9M3JMkSZJyKwuTdsmRR8LEifDZZ3D88ZCRASNGQN26cNZZMGtW1AklSZKkrGdh0m5p0QLeegumTQv3O8Xj8OKL0LAhnH46zJwZdUJJkiQp61iYtEeaNQsT9WbODEUpFoNXXoGDDgpFatq0qBNKkiRJ/17SFKZBgwZxyCGHUKJECcqWLcupp57KHG+giVzjxvDyy/Dtt2FrXr58MH48HHpo2Lr32WdRJ5QkSZL2XNIUpsmTJ3PZZZfxxRdfMHHiRDZv3ky7du1Yv3591NEE1K8Po0bB99+HYRApKfDOO9CyZRgWMXly1AklSZKk3ReLx+PxqEPsiVWrVlG2bFkmT57MkUceuUuvSU9Pp2TJkqSlpZGamprNCfO2H3+EQYNg+PAwWQ/C4Ij+/cPkvVgs2nySJEnK23a1GyTNCtP/SktLA2DfffdN+JyNGzeSnp6+zUN7R82a8NRTMH9+OPC2YEH46CM49lg4/PBwMG5yVnVJkiTlJUlZmDIzM+nduzctW7akQYMGCZ83aNAgSpYsufVRuXLlvZhSAFWrwmOPwYIFcMUVULgwfPEFnHBCuM/ptdcsTpIkScq5knJL3iWXXMLbb7/NJ598QqVKlRI+b+PGjWzcuHHr1+np6VSuXNkteRFasQLuuy+UqA0bwrXGjeHGG6FjxzA0QpIkScpuuXZLXs+ePXnjjTf48MMPd1qWAAoVKkRqauo2D0WrfHm45x5YtAj69YPixeHrr6FTp3CW0wsvhENxJUmSpJwgaQpTPB6nZ8+ejBs3jg8++IDq1atHHUn/QpkycMcdsHgx3HQTlCwZJuydfTbUqwfPPfd/wyIkSZKkqCRNYbrssssYOXIko0aNokSJEqxYsYIVK1bwxx9/RB1N/8K++8Itt4TidNtt4eu5c6FLF6hTJwyO2LQp6pSSJEnKq5LmHqZYgjnUw4YNo2vXrrv0Ho4Vz/nWroXHH4d774VVq8K1KlWgb1/o1g0KFYo2nyRJknKHXe0GSVOYsoKFKXmsXw9Dh8Ldd4dBEQAVK8J110H37lCkSLT5JEmSlNxy7dAH5Q3FisGVV4Zx5IMHQ6VKsGwZ9OoF1auHFah166JOKUmSpNzOwqQcrUgR6NkzHIA7ZEg412nlSrjmmlCcBg0CzyOWJElSdrEwKSkUKgQ9esC8efDMM1CzJvz6K1x/PVSrBrfeCmvWRJ1SkiRJuY2FSUmlQAG44AKYPRtGjIADD4Tff4cBA8Lq0403wm+/RZ1SkiRJuYWFSUkpf34491yYNQtefBEaNAhb826/Paw4XXcd/PJL1CklSZKU7CxMSmopKXDmmfD11/DKK9CkSRgGcffdoTj16QPLl0edUpIkScnKwqRcIV8+6NgRpk+H8ePhkEPgjz/ggQfCcIjLL4clS6JOKUmSpGRjYVKuEovBiSfClCnwzjvQsiVs3AiPPBIGRfToAYsWRZ1SkiRJycLCpFwpFoP27eHjj+GDD6BNG9i8ORyGW6sWdOsWRpVLkiRJO2NhUq4Wi8FRR8GHH8JHH8Gxx8KWLTBsGNSpA+edFybuSZIkSTtiYVKe0aoVTJgAn38OHTpAZiaMHAn16oXBEd9+G3VCSZIk5TQWJuU5hx0Gb7wBX34Jp54K8Ti89BI0ahQGR8yYEXVCSZIk5RQWJuVZTZvCuHFhJHmnTmH73rhxcPDBcNJJMHVq1AklSZIUNQuT8rxGjcIK06xZcM45YUT5G29A8+Zw3HHw6adRJ5QkSVJULEzS/1evXrinafZs6No1HIr77rtwxBFw9NEwaVLYvidJkqS8w8Ik/Y9atcIUvblzoXt3KFAgTNk76ig48kiYONHiJEmSlFdYmKQEatQI5zbNnw+XXgoFC8Inn0C7dtCiBbz5psVJkiQpt7MwSf+gShV49FFYuBB694bChWHKFDjxRGjWDF59NYwolyRJUu5jYZJ2UcWK8MADsGgRXHMNFCsG06fDf/4DTZqEwREZGVGnlCRJUlayMEm7qVw5uPvuUJyuvx5KlAiH3p55JjRsCM8/D1u2RJ1SkiRJWcHCJO2h/faD22+HxYthwAAoVQp++AHOPTdM3Hv2Wdi8OeqUkiRJ+jcsTNK/tM8+cPPNYcXp9tuhdGmYNw8uuADq1IEnn4RNm6JOKUmSpD1hYZKySMmSYYveokVhy17ZsmFQxH//CwccEAZH/Pln1CklSZK0OyxMUhYrXjwMhVi4MAyJqFABliyBnj3DqPIHH4QNG6JOKUmSpF1hYZKySdGiYQz5ggXwyCNQuTIsXw5XXgnVq8M998C6dVGnlCRJ0s5YmKRsVrgwXHZZOAB36NBQln75Ba69FqpVgzvugPT0qFNKkiRpRyxM0l5SsCB07w5z5sCwYVCrFvz2G9xwA1StGgZH/P571CklSZL0dxYmaS8rUAC6doXvvw9nNtWtC2vWwC23hOJ0ww3w669Rp5QkSRJYmKTI5M8PZ58Ns2bBSy+FQ2/Xrg1b9KpVC1v2Vq6MOqUkSVLeZmGSIpYvH3TqBDNnwrhxcPDBsH59GApRvXoYHLFsWdQpJUmS8iYLk5RD5MsHp54KX34Jb7wBzZvDH3/AQw+FceSXXQY//RR1SkmSpLzFwiTlMLEYdOgAn38OEybAEUfAxo3w2GPhANz//jec8SRJkqTsZ2GScqhYDI49Fj76CD78EI4+GjZvhiefDBP2LrgA5s2LOqUkSVLuZmGScrhYDNq0gfffh08+gfbtISMDnn0WDjwQzjknTNyTJElS1rMwSUmkZUt45x2YMgVOPBEyM2HUKGjQAM44A775JuqEkiRJuYuFSUpChx4K48fDV1/Bf/4D8Ti8/DI0bhy+nj496oSSJEm5g4VJSmIHHwxjx4aVpTPPDNv3Xn0VmjYNK1BTpkSdUJIkKblZmKRcoGFDePFF+O47OPfcMKL8zTfhsMOgXTv4+OOoE0qSJCUnC5OUi9StCyNGwJw5YYpe/vwwcSIceSQcdRR88EHYvidJkqRdY2GScqEDDoBnnoG5c8O5TQUKwKRJcMwx0KoVvPuuxUmSJGlXWJikXKx6dXjiCfjxR+jZEwoVgk8/heOOC9v13njD4iRJkrQzFiYpD6hcGQYPhoUL4coroUgRmDoVTjopDIgYOzaMKJckSdK2LExSHlKhAtx/PyxaBNdeC8WKwYwZcNppYST56NHhUFxJkiQFFiYpDypbFu66KxSnG26A1FSYNQs6dw6H4I4cCVu2RJ1SkiQpehYmKQ/bbz8YOBAWL4ZbboF99oHZs+G88+DAA2HYMNi8OeqUkiRJ0bEwSaJUKbjpprDidMcdoUj9+CN06wa1a4fBERs3Rp1SkiRp77MwSdoqNRX69QvF6d57oVy58OeLLw6jyh95BP78M+qUkiRJe4+FSdJ2ihWDq64KU/UeeggqVoSff4bLLw+jyh94ADZsiDqlJElS9rMwSUqoSBG44oqwPe+xx6BKFVixAvr0gWrVwuCItWujTilJkpR9LEyS/lHhwnDJJTBvHjz5JNSoAatWQd++oTgNHAhpaVGnlCRJynoWJkm7rGBBuOgimDMHhg8PAyFWr4b+/aFqVRgwIHwtSZKUW1iYJO22/Pnh/PPh++9h1CioVy+sMN16a1hxuv76sAIlSZKU7CxMkvZYSgqcdRZ8+y28/DI0ahTuaRo0KBSnq68O9zxJkiQlKwuTpH8tXz44/XSYMQNefRWaNg1T9O67L0zV69ULli6NOqUkSdLuszBJyjL58sEpp8C0afDWW3DYYeHcpocfDoMiLr0UFi+OOqUkSdKuszBJynKxGBx/PHz2GUycCEceCZs2weOPhwNwL7oojCqXJEnK6SxMkrJNLAZt28LkyTBpEhxzDGzZAk8/DXXqQJcuYeKeJElSTmVhkrRXtG4N770Hn34Kxx0HGRnw3HNhwt7ZZ8N330WdUJIkaXsWJkl71eGHw9tvw9SpcNJJkJkJL7wADRqEwREzZ0adUJIk6f9YmCRF4pBD4PXXw2S9004L1155BQ46KAyO+PLLaPNJkiSBhUlSxJo0gTFjwllOnTuH+55efz0UqhNOgM8/jzqhJEnKyyxMknKEBg3C1rzvv4fzzguH4r79dtjCd+yx8NFHUSeUJEl5kYVJUo5y4IFhGMScOXDhhZA/fxgW0bp1eLz/PsTjUaeUJEl5hYVJUo5UsyY89RTMmwcXXwwFC4ZVprZtoWVLeOcdi5MkScp+FiZJOVq1auHA2x9/hMsvh8KFw31Nxx8Phx4a7neyOEmSpOxiYZKUFCpVgocfhoUL4aqroGjRMEnvlFPg4IPDhL3MzKhTSpKk3MbCJCmplC8P994LixZB375QvHg4u+n006FRI3jxxXAoriRJUlawMElKSmXKwKBBoTj17w8lS8J338FZZ0H9+mFwxJYtUaeUJEnJzsIkKamVLg233hqK0623wj77hAl7XbpAnTrw9NOwaVPUKSVJUrKyMEnKFUqVCitNixfDnXfCfvvBggVw0UVQuzYMGQIbN0adUpIkJRsLk6RcpUQJuO66sOJ0333hnqfFi+GSS8Ko8ocfhj/+iDqlJElKFhYmSblSsWLQp09YZXr4Ydh/f1i6FHr1gurVQ5lavz7qlJIkKaezMEnK1YoUCec3/fhjOM+palVYuRKuvjqc8XTnnbB2bdQpJUlSTmVhkpQnFCoEF18M8+aFQRA1asCvv0K/fqFE3XYbrFkTdUpJkpTTWJgk5SkFCkC3bmGS3nPPhUl6v/8ON90UilP//vDbb1GnlCRJOYWFSVKelD8/nHdeOLvphRfC2U3p6TBwYNiq17cv/PJL1CklSVLULEyS8rSUFOjcGb75BsaMgcaNYd06uOuuUJyuugqWL486pSRJioqFSZKAfPngtNNgxgx4/XU45JAwfvz++8NUvcsvh59/jjqlJEna2yxMkvQ3sRicdBJMmQJvvw2HHx4OvH3kkXCO08UXhzOeJElS3mBhkqQdiMXguOPgk0/g/fehdWvYtAmeeAJq1YILL4T586NOKUmSspuFSZJ2IhaDo4+GSZNg8mRo2xa2bIFnngkT9s4/H2bPjjqlJEnKLhYmSdpFRx4JEyfCZ5/BCSdAZiaMGAH16oXBEbNmRZ1QkiRlNQuTJO2mFi3gzTdh2jQ45RSIx2H0aGjY8P8GR0iSpNzBwiRJe6hZM3j1VZg5E04/PWzfGzsWDj4YTj45FCpJkpTcLEyS9C81bgwvvxy25J19dhhRPn48HHooHH982MInSZKSk4VJkrJIvXrw/PPwww/QpUs4FPedd6BlSzjmmDA0QpIkJRcLkyRlsdq14dlnYe5cuOgiyJ8fPvgA2rT5v8ER8XjUKSVJ0q6wMElSNqlRA558MpzXdMklULAgfPwxtGsXDsR96y2LkyRJOZ2FSZKyWdWq8NhjsGAB9OoFhQvDF19Ahw5wyCHw2msWJ0mScqqkK0yPPvoo1apVo3DhwjRv3pypU6dGHUmSdsn++8ODD8LChXD11VC0KHz1FZx6KjRpEgZHZGZGHFKSJG0jqQrT6NGj6dOnDwMGDGD69Ok0btyY9u3b88svv0QdTZJ2WfnycM89sGgR9OsHJUrAN9/AGWeEs5xGjYKMjKhTSpIkgFg8njwbQZo3b84hhxzCI488AkBmZiaVK1fm8ssvp2/fvv/4+vT0dEqWLElaWhqpqanZHVeSdsnq1fDQQ+GRlhau1aoFN9wQxpQXKBBtPkmScqNd7QZJs8K0adMmvvrqK9q2bbv1Wr58+Wjbti2ff/75Dl+zceNG0tPTt3lIUk6z775wyy2weDEMHBi+njcPunaFOnXgqadg06aoU0qSlDclTWH69ddfycjIoFy5cttcL1euHCtWrNjhawYNGkTJkiW3PipXrrw3okrSHilZMqwqLVoEd90FZcqE+526dw8rTo89Bn/+GXVKSZLylqQpTHuiX79+pKWlbX0sWbIk6kiS9I9KlIBrrw3F6f77wz1PP/0El10GNWuGrXsbNkSdUpKkvCFpCtN+++1HSkoKK1eu3Ob6ypUrKV++/A5fU6hQIVJTU7d5SFKyKFoUrrwyjCMfPBgqVYJly6B3b6heHe69F9atizqlJEm5W9IUpoIFC9K0aVPef//9rdcyMzN5//33adGiRYTJJCl7FSkCPXuGA3CfeAKqVYNffoFrrgl/vuMO8BZNSZKyR9IUJoA+ffrw5JNPMnz4cH744QcuueQS1q9fzwUXXBB1NEnKdoUKwX//C3PnwjPPwAEHwG+/hfueqlYNgyN+/z3qlJIk5S5JVZjOPPNM7r33Xm666SaaNGnCzJkzeeedd7YbBCFJuVmBAnDBBfDDDzByJBx4IKxZAzffHFacbrwxFClJkvTvJdU5TP+W5zBJyo0yMuCVV+C222DWrHCtWLEwJOKqq6Bs2WjzSZKUE+W6c5gkSTuWkgJnnAFffw1jx8JBB8H69XD33WHF6corw7AISZK0+yxMkpRL5MsH//kPfPUVjB8Phx4Kf/wBDz4INWqEwRGeriBJ0u6xMElSLhOLwYknwhdfwLvvQsuWsHEjPPpoOMepR49wIK4kSfpnFiZJyqViMWjXDj7+GD74AI46CjZvhqFDoVYt6NYtjCqXJEmJWZgkKZeLxUJZ+uCDUJ7atQuDIoYNgzp14Nxzw8Q9SZK0PQuTJOUhRxwRtul98QV06ACZmfD881C/Ppx5Jnz7bdQJJUnKWSxMkpQHNW8Ob7wBX34Jp54K8Ti89BI0ahQGR0yfHnVCSZJyBguTJOVhTZvCuHFhJPkZZ4Tte6++Gq6feCJMmRJ1QkmSomVhkiTRqBGMHg3ffQfnnBNGlL/5Jhx2GLRvD598EnVCSZKiYWGSJG1Vty6MHAmzZ0PXruFQ3AkToFUrOPpo+PDDsH1PkqS8wsIkSdpOrVphit7cudC9OxQoEMrS0UeH8jRhgsVJkpQ3WJgkSQnVqBHObZo/Hy67DAoVgk8/Ddv0DjssbNuzOEmScjMLkyTpH1WpAo88AgsWQO/eUKQITJ0aBkM0axYGR2RmRp1SkqSsZ2GSJO2yihXhgQdg4UK45hooViyMIO/YEZo0CaPJMzKiTilJUtaxMEmSdlu5cnD33bBoEdxwA5QoEQ69PfNMaNAgHIa7ZUvUKSVJ+vcsTJKkPbbffjBwICxeDDffDKVKhQl7554bJu4NGwabN0edUpKkPWdhkiT9a/vsAwMGhOJ0++1QunQYFNGtG9SuHQZHbNoUdUpJknafhUmSlGVSU+H668NWvXvugbJlw5979IADDoBHH4U//4w6pSRJu87CJEnKcsWLw9VXh+EQDz4IFSrAkiXQs2cYVf7gg7BhQ9QpJUn6ZxYmSVK2KVoUevUK48gffRQqV4bly+HKK6F69TA4Yt26qFNKkpSYhUmSlO0KF4ZLLw33NQ0dGsrSL7/AdddB1arhvqe0tKhTSpK0PQuTJGmvKVgQuneHOXPg2WehVi1YvRpuvBGqVQuT9n7/PeKQkiT9jYVJkrTXFSgAXbrADz+EM5vq1oU1a+CWW8KK0w03wK+/Rp1SkiQLkyQpQikpcPbZMGsWvPQSNGoEa9fCHXeEFadrroGVK6NOKUnKyyxMkqTI5csHnTrBjBkwbhwcfDCsXw/33huKU+/esHRp1CklSXmRhUmSlGPkywenngpffglvvgnNm4dzmx56KIwjv/RS+OmnqFNKkvISC5MkKceJxeCEE+Dzz2HCBGjVCjZtgscfDwfgdu8eRpVLkpTdLEySpBwrFoNjj4WPPoJJk+Doo2HzZnjqKahdG7p2hblzo04pScrNLEySpKTQujW8/z588gm0bw8ZGTB8eJiwd8458P33USeUJOVGFiZJUlJp2RLeeQemTIETT4TMTBg1Cho0CIMjvv466oSSpNzEwiRJSkqHHgrjx8P06dCxI8TjMGYMNGkSBkd89VXUCSVJuYGFSZKU1A46CF55Bb75Bs48M9z39Npr0KwZdOgAX3wRdUJJUjKzMEmScoWGDeHFF8O9TOeeG0aUv/UWtGgB7drBxx9HnVCSlIwsTJKkXOXAA2HECJgzB7p1g/z5YeJEOPJIaNMGPvggbN+TJGlXWJgkSbnSAQfA00/DvHnQowcUKACTJ8Mxx8ARR4TBERYnSdI/sTBJknK1atVgyBD48Ufo2RMKFYLPPoPjj4fmzcPgCIuTJCkRC5MkKU+oXBkGD4aFC6FPHyhSBKZNg5NPhqZNYezYMKJckqS/szBJkvKUChXgvvtg0SK47jooVgxmzIDTToPGjWH06HAoriRJYGGSJOVRZcvCnXfC4sVw442QmgqzZkHnzlC/fhgcsWVL1CklSVHb5cK0bNmy7MwhSVIkSpeG224LxemWW2CffcKEvfPPDxP3nnkGNm+OOqUkKSq7XJjq16/PqFGjsjOLJEmRKVUKbropbNUbNAj22y8MirjwQqhVC554AjZujDqlJGlv2+XCdPvtt9OjRw86derE6tWrszOTJEmRSU2Fvn1Dcbr3XihXLqw+XXxxGFU+eDD88UfUKSVJe8suF6ZLL72Ub775ht9++4169eoxfvz47MwlSVKkihWDq64KU/UeeggqVoSff4YrroAaNeD++2H9+qhTSpKyWywe3/3TJx555BGuvPJK6tatS/78+bf53vTp07MsXFZLT0+nZMmSpKWlkZqaGnUcSVIS+fNPGDYsDIr46adwrUyZUKouvRRKlIg2nyRp9+xqN8if8DsJLF68mLFjx7LPPvtwyimnbFeYJEnKjQoXhksuCfc0jRgBd9wBCxaE7Xt33w29e8Pll4d7oSRJucdurTA9+eSTXHXVVbRt25YnnniCMmXKZGe2LOcKkyQpq2zZAqNGwe23w9y54VrJkmHLXu/esO++kcaTJP2DXe0Gu1yYjjvuOKZOncqDDz7I+eefn2VB9yYLkyQpq2VkwMsvh9Hk338frhUvDj17Qp8+YdueJCnn2dVusMtDHzIyMvjmm2+StixJkpQdUlLCYbfffhuKU+PGsG5duNepWjW4+mpYsSLqlJKkPbVHQx+SlStMkqTsFo/D+PFhxenLL8O1woWhe3e49lqoVCnafJKkIMtXmCRJ0j+LxeDkk2HqVHjrLWjRIkzYGzwYatYMgyMWL446pSRpV1mYJEnKBrEYHH88fPopvPceHHkkbNoEQ4aEA3Avugh+/DHqlJKkf2JhkiQpG8VicMwxMHkyTJoU/rxlCzz9NNSpA126wJw5UaeUJCViYZIkaS9p3TqsNn32WVh9ysiA556DunXhrLPgu++iTihJ+l8WJkmS9rIWLcL9TVOnhvud4nF48UVo0ABOPx1mzow6oSTpLxYmSZIicsgh8NprMGMGnHZauPbKK3DQQaFITZsWbT5JkoVJkqTINWkCY8bArFlha14sFkaTH3po2Lr3+edRJ5SkvMvCJElSDlG/PowaBT/8AOefHw7FfecdOPxwaNs2DI6QJO1dFiZJknKYOnVg+PAwPe/CCyF/fnj/fWjT5v8GR+SdY+clKVoWJkmScqiaNeGpp2D+fLj4YihYED76CI49Nqw6vf22xUmSspuFSZKkHK5qVXj88XDQ7RVXQOHC8MUXcMIJ4T6n11+3OElSdrEwSZKUJCpVgocegoUL4aqroGhR+PJLOOWUMFlvzBjIzIw6pSTlLhYmSZKSTPnycO+9sGgR9O0LxYvD119Dp07QqBG88EI4FFeS9O9ZmCRJSlJlysCgQbB4MfTvDyVLwnffwdlnQ7168NxzsGVL1CklKblZmCRJSnL77gu33hpWnG67LXw9dy506RIm7j31FGzaFHVKSUpOFiZJknKJUqXgxhtDcbrzzrACtWABdO8OtWqFwREbN0adUpKSi4VJkqRcpkQJuO66MBzivvvCPU8//QSXXhpGlT/8MPzxR9QpJSk5WJgkScqlihWDPn3CKtPDD8P++8PSpdCrF1SvHsrU+vVRp5SknM3CJElSLlekCFx+eTjHaciQcK7TypVw9dVQrVoYHJGeHnVKScqZLEySJOURhQpBjx4wbx48/XTYnvfrr3D99aE43XorrFkTdUpJylksTJIk5TEFCkC3bjB7NowYESbp/f47DBgQVp/694fffos6pSTlDBYmSZLyqPz54dxzw9lNL74I9euHrXkDB4YVp7594Zdfok4pSdGyMEmSlMelpMCZZ8I338Arr0CTJrBuHdx1VyhOffrA8uVRp5SkaFiYJEkSAPnyQceOMH06vP46HHJIGD/+wANhqt7ll8OSJVGnlKS9y8IkSZK2EYvBSSfBlCnwzjtw+OHhwNtHHgmDInr0CIfjSlJeYGGSJEk7FItB+/bwySfw/vvQpg1s3gxDh0KtWmFwxPz5UaeUpOxlYZIkSTsVi8HRR8OHH8JHH8Gxx8KWLTBsWJiwd955YeKeJOVGFiZJkrTLWrWCCRPg88/hhBMgMxNGjoR69aBzZ5g1K+qEkpS1LEySJGm3HXYYvPkmfPklnHIKxOMwejQ0bBgGR8yYEXVCScoaFiZJkrTHmjaFV1+Fr7+GTp3C9r1x4+Dgg8PgiKlTo04oSf+OhUmSJP1rjRrBSy+FLXlnnx1GlL/xBjRvDscdB59+GnVCSdozFiZJkpRl6tWD55+HH36ALl3CobjvvgtHHAHHHAOTJoXte5KULCxMkiQpy9WuDc8+C3PnwkUXQYEC8MEHcNRRcOSRMHGixUlScrAwSZKkbFOjBjz5ZDiv6dJLoWDBcK5Tu3bQokUYHGFxkpSTWZgkSVK2q1IFHn0UFiyAXr2gcGGYMgVOPBGaNQuDIzIzo04pSduzMEmSpL1m//3hwQdh4UK4+mooWhSmT4f//AcOOgheftniJClnsTBJkqS9rnx5uOceWLwYrr8eSpSAb76BM86ABg1g1CjIyIg6pSRZmCRJUoT22w9uvx0WLYIBA6BUqTBh75xzoG7dMDhi8+aIQ0rK0yxMkiQpcvvuCzffHIrTwIHh63nz4IILoE6dMDhi06aoU0rKiyxMkiQpxyhZEm64IWzVu/tuKFs23O/03//CAQfAY4/Bn39GnVJSXpIUhWnRokVceOGFVK9enSJFilCzZk0GDBjAJv9VkyRJuVLx4nDNNaEsPfAAVKgAS5bAZZdBzZrw0EOwYUPUKSXlBUlRmGbPnk1mZiZPPPEE3333HQ888ABDhgzh+uuvjzqaJEnKRkWLQu/eYRz5I49ApUqwbFm4Vr16GByxbl3UKSXlZrF4PDmPi7vnnnt4/PHHWbBgwS6/Jj09nZIlS5KWlkZqamo2ppMkSdlh40YYPhwGDQr3OwGULg19+kDPnuA/3iXtql3tBkmxwrQjaWlp7Lvvvjt9zsaNG0lPT9/mIUmSklehQuF+prlzYdiwcF/Tb7+F+56qVg2DI37/PeqUknKTpCxM8+fPZ/DgwfTo0WOnzxs0aBAlS5bc+qhcufJeSihJkrJTgQLQtWsYQT5yZBhBvmYN3HJLKE433AC//hp1Skm5QaSFqW/fvsRisZ0+Zs+evc1rli5dynHHHUenTp3o3r37Tt+/X79+pKWlbX0sWbIkO38dSZK0l+XPH85s+vZbGD0aGjaEtWvhjjugWjW49lpYuTLqlJKSWaT3MK1atYrffvttp8+pUaMGBQsWBGDZsmW0adOGww47jGeffZZ8+Xav73kPkyRJuVtmJrz2Gtx2G8yYEa4VKQI9eoSpexUrRptPUs6xq90gaYY+LF26lKOOOoqmTZsycuRIUlJSdvs9LEySJOUN8Ti89RbceitMnRquFSoEF14I110HVapEm09S9HLV0IelS5fSpk0bqlSpwr333suqVatYsWIFK1asiDqaJEnKgWIx6NABvvgC3n0XjjgiTNh77LEwKOK//w1nPEnSP0mKwjRx4kTmz5/P+++/T6VKlahQocLWhyRJUiKxGLRrBx99BB9+CEcdBZs3w5NPQq1acMEFMG9e1Ckl5WRJsyUvK7glT5IkffJJuMdpwoTwdb58cNZZYbJe3brRZpO09+SqLXmSJElZ5Ygjwja9L76AE08MgyKefx7q14czzoBvvok6oaScxMIkSZLypObNYfx4+Oor+M9/wqCIl1+Gxo3D19OnR51QUk5gYZIkSXnawQfD2LFhZemMM8J9T6++Ck2bhhWoKVOiTigpShYmSZIkwqG3o0fDd9+Fw3Dz5YM334TDDguDIz75JOqEkqJgYZIkSfqbunVh5EiYPTtM0UtJgYkToVWrMGXvww/D9j1JeYOFSZIkaQdq1YJnngljx//7XyhQACZNgqOPDuXp3XctTlJeYGGSJEnaierV4Ykn4Mcf4bLLoFAh+PRTOO64sF3vjTcsTlJuZmGSJEnaBZUrwyOPwIIFcOWVUKQITJ0KJ50UBkSMGxdGlEvKXSxMkiRJu6FiRbj/fli0CK69FooVgxkzoGPHMJJ89GjIyIg6paSsYmGSJEnaA2XLwl13heJ0ww2QmgqzZkHnztCgQRgcsWVL1Ckl/VsWJkmSpH9hv/1g4MBQnG6+GUqVChP2zjsvTNwbNgw2b444pKQ9ZmGSJEnKAvvsAwMGwOLFcMcdULo0zJ8P3bpB7dphcMTGjVGnlLS7LEySJElZKDUV+vULK0733APlyoU/X3wxHHBAGBzx559Rp5S0qyxMkiRJ2aB4cbj66jBV78EHw7CIn3+Gyy+HGjXggQdgw4aoU0r6JxYmSZKkbFS0KPTqFc5xevTRMJ58+XLo0weqVYO774a1a6NOKSkRC5MkSdJeULgwXHppuK/pySfDgbirVsF114XiNHAgpKVFnVLS/7IwSZIk7UUFC8JFF8GcOfDss1CrFqxeDf37Q9WqYXDE6tVRp5T0FwuTJElSBAoUgC5d4IcfYNSoMII8LQ1uvTWsOF1/Pfz6a9QpJVmYJEmSIpSSAmedFQ69feklaNQo3NM0aFBYcbrmGlixIuqUUt5lYZIkScoB8uWDTp1gxgx49VVo2jRM0bv33nC/U69esHRp1CmlvMfCJEmSlIPkywennALTpsGbb8Jhh4Vzmx5+OIwjv/TScDiupL3DwiRJkpQDxWJwwgnw2WcwcSK0agWbNsHjj4cDcC+6KIwql5S9LEySJEk5WCwGbdvCRx/BpElw9NGwZQs8/TTUqRMGR8ydG3VKKfeyMEmSJCWJ1q3h/ffh00/huOMgIwOeey5M2Dv7bPjuu6gTSrmPhUmSJCnJHH44vP02TJkCJ50EmZnwwgvQsGEYHPH111EnlHIPC5MkSVKSOvRQeP11mD4dOnaEeBzGjIEmTcLgiC+/jDqhlPwsTJIkSUnuoIPglVfg22+hc+dw39Prr8Mhh4TBEZ9/HnVCKXlZmCRJknKJBg3C1rzvv4fzzgsjyt9+O2zhO/bYMDhC0u6xMEmSJOUyBx4YhkHMmQPdukH+/PDee2FoRJs2YXBEPB51Sik5WJgkSZJyqQMOCOPH582DHj2gQAGYPDmMKW/ZEt55x+Ik/RMLkyRJUi5XrRoMGQILFsDll0OhQuG+puOP/7/BERYnaccsTJIkSXlEpUrw8MOwcCH06QNFi4ZJeqecAgcfHAZHZGZGnVLKWSxMkiRJeUyFCnDffaE4XXcdFC8OM2fC6adDo0bw4ovhUFxJFiZJkqQ8q2xZuPNOWLQIbrwRUlPhu+/grLOgfn0YMQK2bIk6pRQtC5MkSVIeV7o03HYbLF4Mt94K++wTJuydf36YuPf007BpU9QppWhYmCRJkgRAqVLQv39YcRo0CPbbD378ES66CGrXDoMjNm6MOqW0d1mYJEmStI3UVOjbNxSn++6DcuXC6tMll0DNmjB4MPzxR9Qppb3DwiRJkqQdKlYsTNNbuDBM19t/f1i6FK64AmrUgPvvh/Xro04pZS8LkyRJknaqSJFwftOPP8Ljj0OVKrBiBVx1VTjj6c47Ye3aqFNK2cPCJEmSpF1SqBBcfDHMmwdPPRVWmX79Ffr1C8XptttgzZqoU0pZy8IkSZKk3VKwIFx4YZik99xzYSDE6tVw001QtWoYHPHbb1GnlLKGhUmSJEl7JH9+OO88+P57eOEFqFcP0tNh4MCw4tS3L6xaFXVK6d+xMEmSJOlfSUmBzp3h229hzBho3BjWrYO77grF6aqrYPnyqFNKe8bCJEmSpCyRLx+cdhrMmAGvvQbNmsGGDWGaXvXqYbrezz9HnVLaPRYmSZIkZalYDE4+GaZOhbffhhYtwoG3gweHc5wuvjic8SQlAwuTJEmSskUsBscdB59+Cu+9B61bw6ZN8MQTUKtWGBwxf37UKaWdszBJkiQpW8VicMwxMGkSTJ4MbdvCli3wzDNQpw6cf36YuCflRBYmSZIk7TVHHgkTJ8Jnn8Hxx0NmJowYAXXrwllnwaxZUSeUtmVhkiRJ0l7XogW89RZMmxbud4rH4cUXoWHDMDhi5syoE0qBhUmSJEmRadYsTNSbORNOPz1s3xs7Fg46KBSpadOiTqi8zsIkSZKkyDVuDC+/HM5yOuusUJzGj4dDDw1b9z77LOqEyqssTJIkScox6teHUaPghx/CMIiUFHjnHWjZMgyOmDw56oTKayxMkiRJynHq1IHhw8P0vAsvhPz54YMPoE2bMDjivffCfU9SdrMwSZIkKceqWROeeiqc13TJJVCwIHz8MRx7LBx+eBgcYXFSdrIwSZIkKcerWhUeewwWLIArroDCheGLL6BDBzjkkDA4wuKk7GBhkiRJUtLYf3946CFYuBCuvhqKFoWvvoJTT4UmTWDMmHC2k5RVLEySJElKOuXLwz33wKJF0K8fFC8O33wDnTqFs5xeeAEyMqJOqdzAwiRJkqSkVaYM3HEHLF4MN90EJUvC99/D2WdDvXphcMSWLVGnVDKzMEmSJCnp7bsv3HJLKE633Ra+njsXunaF2rXD4IhNm6JOqWRkYZIkSVKuUbIk3Hhj2Kp3111hBWrhQujeHWrVCoMj/vwz6pRKJhYmSZIk5TolSsC114aydP/94Z6nn36Cyy4Lo8ofegj++CPqlEoGFiZJkiTlWsWKwZVXhnHkgwdDpUqwbBn07g3Vq8O998K6dVGnVE5mYZIkSVKuV6QI9OwZDsAdMiSc67RyJVxzDVSrBoMGQXp61CmVE1mYJEmSlGcUKgQ9esC8efDMM2F73m+/wfXXh+J0yy3w++9Rp1ROYmGSJElSnlOgAFxwAcyeDSNGwIEHhqJ0882hON14YyhSkoVJkiRJeVb+/HDuuTBrFrz4IjRoELbm3X572LZ33XXwyy9Rp1SULEySJEnK81JS4Mwz4euv4ZVXoEkTWL8e7r47rDj16QPLl0edUlGwMEmSJEn/X7580LEjTJ8O48fDIYeE8eMPPBCm6vXsCUuWRJ1Se5OFSZIkSfofsRiceCJMmQLvvAMtW8LGjfDoo2FQRI8e4Ywn7aKMDJg0CV54IfxnRkbUiXaZhUmSJElKIBaD9u3h44/hgw+gTRvYvBmGDoVataBbtzCqXDsxdmzY13jUUXD22eE/q1UL15OAhUmSJEn6B7FY+P/5H34IH30Exx4bFkmGDYM6dcLgiB9+iDplDjR2LJx+Ovz887bXly4N15OgNFmYJEmSpN3QqhVMmACffw4dOkBmJjz/PNSvHwZHfPtt1AlziIwM6NUL4vHtv/fXtd69c/z2PAuTJEmStAcOOwzeeAO+/BJOPTV0gJdegkaNwuCIGTOiThixjz/efmXp7+LxMEHj44/3XqY9YGGSJEmS/oWmTWHcuDCSvFOnsH1v3Dg4+OD/GxyRJ+3qHPYcPq/dwiRJkiRlgUaNwgrTrFlhtkG+fPDmm2Elqn17+OSTqBPuZRUqZO3zImJhkiRJkrJQvXrhnqYffoCuXcOhuBMmhHufjj46TNXe0W09uU6rVlCpUlhy25FYDCpXDs/LwSxMkiRJUjaoXTtM0Zs7F7p3hwIFwpS9o46CI48MJSpXF6eUFHjoofDn/y1Nf3394IPheTmYhUmSJEnKRjVqhHOb5s+HSy+FggXD9rz27aFFi7BtL9cWp44dYcwY2H//ba9XqhSud+wYTa7dEIvHc+3Hs5309HRKlixJWloaqampUceRJElSHrRsGdxzDwwZAn/+Ga4dfDDceCOcckq49ynXycgI0/CWLw/3LLVqFfnK0q52AwuTJEmSFIGVK+G+++Cxx2D9+nCtYcNQnE47LfI+kevtajfIjf1VkiRJyvHKlYO774ZFi+D666FEiXDo7ZlnhuL0/POwZUvUKWVhkiRJkiK0335w++2weDEMGAClSoUJe+eeC3XrwrPPwubNUafMuyxMkiRJUg6wzz5w881hxen226F06TAo4oILwsS9oUNh06aoU+Y9FiZJkiQpBylZMmzRW7QobNkrWzb8uUcPOOAAePTR/xsWoexnYZIkSZJyoOLF4ZprYOFCeOCBMFxuyRLo2TOMKn/wQdiwIeqUuZ+FSZIkScrBihaF3r1hwQJ45BGoXDlM577ySqhePYwoX7cu6pS5l4VJkiRJSgKFC8Nll4X7moYODWXpl1/g2muhWrVw31NaWtQpcx8LkyRJkpREChaE7t1hzhwYNgxq1YLffgvnN1WrFgZH/P571ClzDwuTJEmSlIQKFICuXeH778OZTXXrwpo1cMstULUq3HAD/Ppr1CmTX9IVpo0bN9KkSRNisRgzZ86MOo4kSZIUqfz54eyzw6G3o0eHQ2/XroU77ggrTtdcAytXRp0yeSVdYbr22mupWLFi1DEkSZKkHCUlBc44A2bOhHHj4OCDYf16uPfecL9T796wbFnUKZNPUhWmt99+mwkTJnDvvfdGHUWSJEnKkfLlg1NPhS+/hDfegObN4Y8/4KGHwjjyyy6Dn36KOmXySJrCtHLlSrp3786IESMoWrToLr1m48aNpKenb/OQJEmS8oJYDDp0gM8/hwkT4IgjYONGeOyxcABu9+5hVLl2LikKUzwep2vXrlx88cU0a9Zsl183aNAgSpYsufVRuXLlbEwpSZIk5TyxGBx7LHz0EXz4IRx1FGzeDE89BbVrh8ERc+dGnTLnirQw9e3bl1gsttPH7NmzGTx4MGvXrqVfv3679f79+vUjLS1t62PJkiXZ9JtIkiRJOVssBm3awAcfwCefQPv2kJEBw4eHCXvnnBMm7mlbsXg8Ho/qh69atYrffvttp8+pUaMGZ5xxBuPHjycWi229npGRQUpKCueccw7Dhw/fpZ+Xnp5OyZIlSUtLIzU19V9llyRJkpLd1Klw223hXicIper008OZTo0aRZstu+1qN4i0MO2qn376aZv7j5YtW0b79u0ZM2YMzZs3p1KlSrv0PhYmSZIkaXvTp8PAgWG63l9OOQX694emTaPLlZ12tRskxT1MVapUoUGDBlsftWvXBqBmzZq7XJYkSZIk7djBB8PYsfDNN3DmmWGl6bXXoFmzMDjiiy+iThidpChMkiRJkrJfw4bw4ovw3Xdw7rlhRPlbb0GLFtCuHXz8cdQJ976kLEzVqlUjHo/TpEmTqKNIkiRJuU7dujBiBMyeDRdcAPnzw8SJcOSRYcreBx9Azr+xJ2skZWGSJEmSlP1q1YJnngljx//7XyhQACZNgmOOCec6vftu7i9OFiZJkiRJO1W9OjzxBPz4I/TsCYUKwWefwXHHQfPmMH587i1OFiZJkiRJu6RyZRg8GBYuhCuvhCJFYNo0OPnkME1v7FjIzIw6ZdayMEmSJEnaLRUqwP33w6JFcO21UKwYzJgBp50GjRvD6NHhUNzcwMIkSZIkaY+ULQt33RWK0w03QGoqzJoFnTtDgwYwciRs2RJ1yn/HwiRJkiTpX9lvv3Dw7eLFcMstsM8+YcLeeefBgQeGwRGbN0edcs9YmCRJkiRliVKl4KabworTHXeEIvXjj3DhhVC7dhgcsXFj1Cl3j4VJkiRJUpZKTYV+/UJxuvdeKFcu/Pnii8MjmViYJEmSJGWLYsXgqqvCVL2HHoKKFeHSS6NOtXti8XhunZi+vfT0dEqWLElaWhqpqalRx5EkSZLylM2bw+G3OcGudgNXmCRJkiTtFTmlLO0OC5MkSZIkJWBhkiRJkqQELEySJEmSlICFSZIkSZISsDBJkiRJUgIWJkmSJElKwMIkSZIkSQlYmCRJkiQpAQuTJEmSJCVgYZIkSZKkBCxMkiRJkpSAhUmSJEmSErAwSZIkSVICFiZJkiRJSsDCJEmSJEkJWJgkSZIkKQELkyRJkiQlYGGSJEmSpAQsTJIkSZKUgIVJkiRJkhKwMEmSJElSAhYmSZIkSUrAwiRJkiRJCViYJEmSJCkBC5MkSZIkJWBhkiRJkqQELEySJEmSlICFSZIkSZISsDBJkiRJUgIWJkmSJElKwMIkSZIkSQlYmCRJkiQpAQuTJEmSJCVgYZIkSZKkBCxMkiRJkpSAhUmSJEmSErAwSZIkSVIC+aMOIOVaGRnw8cewfDlUqACtWkFKStSpJEmStBssTFJ2GDsWevWCn3/+v2uVKsFDD0HHjtHlkiRJ0m5xS56U1caOhdNP37YsASxdGq6PHRtNLkmSJO02C5OUlTIywspSPL799/661rt3eJ4kSZJyPAuTlJU+/nj7laW/i8dhyZLwPEmSJOV4FiYpKy1fnrXPkyRJUqQsTFJWqlAha58nSZKkSFmYpKzUqlWYhheL7fj7sRhUrhyeJ0mSpBzPwiRlpZSUMDocti9Nf3394IOexyRJkpQkLExSVuvYEcaMgf333/Z6pUrhuucwSZIkJQ0PrpWyQ8eOcMopYRre8uXhnqVWrVxZkiRJSjIWJim7pKRAmzZRp5AkSdK/4JY8SZIkSUrAwiRJkiRJCViYJEmSJCkBC5MkSZIkJWBhkiRJkqQELEySJEmSlICFSZIkSZISsDBJkiRJUgIWJkmSJElKwMIkSZIkSQlYmCRJkiQpAQuTJEmSJCVgYZIkSZKkBPJHHWBvisfjAKSnp0ecRJIkSVKU/uoEf3WERPJUYVq7di0AlStXjjiJJEmSpJxg7dq1lCxZMuH3Y/F/qlS5SGZmJsuWLaNEiRLEYrGo4+Q56enpVK5cmSVLlpCamhp1HP1/fi45k59LzuTnknP52eRMfi45k59LEI/HWbt2LRUrViRfvsR3KuWpFaZ8+fJRqVKlqGPkeampqXn6f5w5lZ9LzuTnkjP5ueRcfjY5k59LzuTnwk5Xlv7i0AdJkiRJSsDCJEmSJEkJWJi01xQqVIgBAwZQqFChqKPob/xcciY/l5zJzyXn8rPJmfxcciY/l92Tp4Y+SJIkSdLucIVJkiRJkhKwMEmSJElSAhYmSZIkSUrAwiRJkiRJCViYtFcsXbqUc889l9KlS1OkSBEaNmzIl19+GXWsPK1atWrEYrHtHpdddlnU0fK0jIwM+vfvT/Xq1SlSpAg1a9bktttuw/k80Vu7di29e/ematWqFClShMMPP5xp06ZFHStP+eijjzjppJOoWLEisViMV199dZvvx+NxbrrpJipUqECRIkVo27Yt8+bNiyZsHvJPn8vYsWNp164dpUuXJhaLMXPmzEhy5kU7+2w2b97MddddR8OGDSlWrBgVK1bk/PPPZ9myZdEFzqEsTMp2v//+Oy1btqRAgQK8/fbbfP/999x3333ss88+UUfL06ZNm8by5cu3PiZOnAhAp06dIk6Wt9111108/vjjPPLII/zwww/cdddd3H333QwePDjqaHneRRddxMSJExkxYgTffvst7dq1o23btixdujTqaHnG+vXrady4MY8++ugOv3/33Xfz8MMPM2TIEKZMmUKxYsVo3749f/75515Omrf80+eyfv16jjjiCO666669nEw7+2w2bNjA9OnT6d+/P9OnT2fs2LHMmTOHk08+OYKkOZtjxZXt+vbty6effsrHH38cdRTtRO/evXnjjTeYN28esVgs6jh51oknnki5cuV4+umnt1477bTTKFKkCCNHjowwWd72xx9/UKJECV577TU6dOiw9XrTpk05/vjjGThwYITp8qZYLMa4ceM49dRTgbC6VLFiRa666iquvvpqANLS0ihXrhzPPvssnTt3jjBt3vG/n8vfLVq0iOrVqzNjxgyaNGmy17PldTv7bP4ybdo0Dj30UBYvXkyVKlX2XrgczhUmZbvXX3+dZs2a0alTJ8qWLctBBx3Ek08+GXUs/c2mTZsYOXIk3bp1syxF7PDDD+f9999n7ty5AHz99dd88sknHH/88REny9u2bNlCRkYGhQsX3uZ6kSJF+OSTTyJKpb9buHAhK1asoG3btluvlSxZkubNm/P5559HmExKHmlpacRiMUqVKhV1lBzFwqRst2DBAh5//HFq1arFu+++yyWXXMIVV1zB8OHDo46m/+/VV19lzZo1dO3aNeooeV7fvn3p3LkzBx54IAUKFOCggw6id+/enHPOOVFHy9NKlChBixYtuO2221i2bBkZGRmMHDmSzz//nOXLl0cdT8CKFSsAKFeu3DbXy5Urt/V7khL7888/ue666zjrrLNITU2NOk6Okj/qAMr9MjMzadasGXfccQcABx10ELNmzWLIkCF06dIl4nQCePrppzn++OOpWLFi1FHyvJdeeonnn3+eUaNGUb9+fWbOnEnv3r2pWLGi/3uJ2IgRI+jWrRv7778/KSkpHHzwwZx11ll89dVXUUeTpH9l8+bNnHHGGcTjcR5//PGo4+Q4rjAp21WoUIF69eptc61u3br89NNPESXS3y1evJj33nuPiy66KOooAq655pqtq0wNGzbkvPPO48orr2TQoEFRR8vzatasyeTJk1m3bh1Llixh6tSpbN68mRo1akQdTUD58uUBWLly5TbXV65cufV7krb3V1lavHgxEydOdHVpByxMynYtW7Zkzpw521ybO3cuVatWjSiR/m7YsGGULVt2mxvZFZ0NGzaQL9+2f2tOSUkhMzMzokT6X8WKFaNChQr8/vvvvPvuu5xyyilRRxJQvXp1ypcvz/vvv7/1Wnp6OlOmTKFFixYRJpNyrr/K0rx583jvvfcoXbp01JFyJLfkKdtdeeWVHH744dxxxx2cccYZTJ06laFDhzJ06NCoo+V5mZmZDBs2jC5dupA/v387yAlOOukkbr/9dqpUqUL9+vWZMWMG999/P926dYs6Wp737rvvEo/HqVOnDvPnz+eaa67hwAMP5IILLog6Wp6xbt065s+fv/XrhQsXMnPmTPbdd1+qVKlC7969GThwILVq1aJ69er079+fihUr7nQqmP69f/pcVq9ezU8//bT1fJ+//iVq+fLlXf3LZjv7bCpUqMDpp5/O9OnTeeONN8jIyNh6v9++++5LwYIFo4qd88SlvWD8+PHxBg0axAsVKhQ/8MAD40OHDo06kuLx+LvvvhsH4nPmzIk6iv6/9PT0eK9eveJVqlSJFy5cOF6jRo34DTfcEN+4cWPU0fK80aNHx2vUqBEvWLBgvHz58vHLLrssvmbNmqhj5SkffvhhHNju0aVLl3g8Ho9nZmbG+/fvHy9Xrly8UKFC8WOOOca/v+0F//S5DBs2bIffHzBgQKS584KdfTYLFy7c4feA+Icffhh19BzFc5gkSZIkKQHvYZIkSZKkBCxMkiRJkpSAhUmSJEmSErAwSZIkSVICFiZJkiRJSsDCJEmSJEkJWJgkSZIkKQELkyRJkiQlYGGSJEmSpAQsTJKkXC8jI4PDDz+cjh07bnM9LS2NypUrc8MNN0SUTJKU08Xi8Xg86hCSJGW3uXPn0qRJE5588knOOeccAM4//3y+/vprpk2bRsGCBSNOKEnKiSxMkqQ84+GHH+bmm2/mu+++Y+rUqXTq1Ilp06bRuHHjqKNJknIoC5MkKc+Ix+McffTRpKSk8O2333L55Zdz4403Rh1LkpSDWZgkSXnK7NmzqVu3Lg0bNmT69Onkz58/6kiSpBzMoQ+SpDzlmWeeoWjRoixcuJCff/456jiSpBzOFSZJUp7x2Wef0bp1ayZMmMDAgQMBeO+994jFYhEnkyTlVK4wSZLyhA0bNtC1a1cuueQSjjrqKJ5++mmmTp3KkCFDoo4mScrBXGGSJOUJvXr14q233uLrr7+maNGiADzxxBNcffXVfPvtt1SrVi3agJKkHMnCJEnK9SZPnswxxxzDpEmTOOKII7b5Xvv27dmyZYtb8yRJO2RhkiRJkqQEvIdJkiRJkhKwMEmSJElSAhYmSZIkSUrAwiRJkiRJCViYJEmSJCkBC5MkSZIkJWBhkiRJkqQELEySJEmSlICFSZIkSZISsDBJkiRJUgIWJkmSJElK4P8Bf/091lRVODEAAAAASUVORK5CYII=\n"
                },
                "metadata": {}
              }
            ]
          }
        },
        "0692cd5adfbf45b78490718c423690fe": {
          "model_module": "@jupyter-widgets/base",
          "model_name": "LayoutModel",
          "model_module_version": "1.2.0",
          "state": {
            "_model_module": "@jupyter-widgets/base",
            "_model_module_version": "1.2.0",
            "_model_name": "LayoutModel",
            "_view_count": null,
            "_view_module": "@jupyter-widgets/base",
            "_view_module_version": "1.2.0",
            "_view_name": "LayoutView",
            "align_content": null,
            "align_items": null,
            "align_self": null,
            "border": null,
            "bottom": null,
            "display": null,
            "flex": null,
            "flex_flow": null,
            "grid_area": null,
            "grid_auto_columns": null,
            "grid_auto_flow": null,
            "grid_auto_rows": null,
            "grid_column": null,
            "grid_gap": null,
            "grid_row": null,
            "grid_template_areas": null,
            "grid_template_columns": null,
            "grid_template_rows": null,
            "height": null,
            "justify_content": null,
            "justify_items": null,
            "left": null,
            "margin": null,
            "max_height": null,
            "max_width": null,
            "min_height": null,
            "min_width": null,
            "object_fit": null,
            "object_position": null,
            "order": null,
            "overflow": null,
            "overflow_x": null,
            "overflow_y": null,
            "padding": null,
            "right": null,
            "top": null,
            "visibility": null,
            "width": null
          }
        },
        "02b248a14389498aa8afda921372908e": {
          "model_module": "@jupyter-widgets/base",
          "model_name": "LayoutModel",
          "model_module_version": "1.2.0",
          "state": {
            "_model_module": "@jupyter-widgets/base",
            "_model_module_version": "1.2.0",
            "_model_name": "LayoutModel",
            "_view_count": null,
            "_view_module": "@jupyter-widgets/base",
            "_view_module_version": "1.2.0",
            "_view_name": "LayoutView",
            "align_content": null,
            "align_items": null,
            "align_self": null,
            "border": null,
            "bottom": null,
            "display": null,
            "flex": null,
            "flex_flow": null,
            "grid_area": null,
            "grid_auto_columns": null,
            "grid_auto_flow": null,
            "grid_auto_rows": null,
            "grid_column": null,
            "grid_gap": null,
            "grid_row": null,
            "grid_template_areas": null,
            "grid_template_columns": null,
            "grid_template_rows": null,
            "height": null,
            "justify_content": null,
            "justify_items": null,
            "left": null,
            "margin": null,
            "max_height": null,
            "max_width": null,
            "min_height": null,
            "min_width": null,
            "object_fit": null,
            "object_position": null,
            "order": null,
            "overflow": null,
            "overflow_x": null,
            "overflow_y": null,
            "padding": null,
            "right": null,
            "top": null,
            "visibility": null,
            "width": null
          }
        },
        "f287569028c94ce28e7c888eae88128b": {
          "model_module": "@jupyter-widgets/controls",
          "model_name": "SliderStyleModel",
          "model_module_version": "1.5.0",
          "state": {
            "_model_module": "@jupyter-widgets/controls",
            "_model_module_version": "1.5.0",
            "_model_name": "SliderStyleModel",
            "_view_count": null,
            "_view_module": "@jupyter-widgets/base",
            "_view_module_version": "1.2.0",
            "_view_name": "StyleView",
            "description_width": "",
            "handle_color": null
          }
        },
        "3fa77b24d3f9432b9bc8e061e1f593a4": {
          "model_module": "@jupyter-widgets/base",
          "model_name": "LayoutModel",
          "model_module_version": "1.2.0",
          "state": {
            "_model_module": "@jupyter-widgets/base",
            "_model_module_version": "1.2.0",
            "_model_name": "LayoutModel",
            "_view_count": null,
            "_view_module": "@jupyter-widgets/base",
            "_view_module_version": "1.2.0",
            "_view_name": "LayoutView",
            "align_content": null,
            "align_items": null,
            "align_self": null,
            "border": null,
            "bottom": null,
            "display": null,
            "flex": null,
            "flex_flow": null,
            "grid_area": null,
            "grid_auto_columns": null,
            "grid_auto_flow": null,
            "grid_auto_rows": null,
            "grid_column": null,
            "grid_gap": null,
            "grid_row": null,
            "grid_template_areas": null,
            "grid_template_columns": null,
            "grid_template_rows": null,
            "height": null,
            "justify_content": null,
            "justify_items": null,
            "left": null,
            "margin": null,
            "max_height": null,
            "max_width": null,
            "min_height": null,
            "min_width": null,
            "object_fit": null,
            "object_position": null,
            "order": null,
            "overflow": null,
            "overflow_x": null,
            "overflow_y": null,
            "padding": null,
            "right": null,
            "top": null,
            "visibility": null,
            "width": null
          }
        },
        "7b10e2b36332484aada826fec63b96fa": {
          "model_module": "@jupyter-widgets/controls",
          "model_name": "SliderStyleModel",
          "model_module_version": "1.5.0",
          "state": {
            "_model_module": "@jupyter-widgets/controls",
            "_model_module_version": "1.5.0",
            "_model_name": "SliderStyleModel",
            "_view_count": null,
            "_view_module": "@jupyter-widgets/base",
            "_view_module_version": "1.2.0",
            "_view_name": "StyleView",
            "description_width": "",
            "handle_color": null
          }
        },
        "aa22aa2e54a242ab95a4fbc80b32e10f": {
          "model_module": "@jupyter-widgets/base",
          "model_name": "LayoutModel",
          "model_module_version": "1.2.0",
          "state": {
            "_model_module": "@jupyter-widgets/base",
            "_model_module_version": "1.2.0",
            "_model_name": "LayoutModel",
            "_view_count": null,
            "_view_module": "@jupyter-widgets/base",
            "_view_module_version": "1.2.0",
            "_view_name": "LayoutView",
            "align_content": null,
            "align_items": null,
            "align_self": null,
            "border": null,
            "bottom": null,
            "display": null,
            "flex": null,
            "flex_flow": null,
            "grid_area": null,
            "grid_auto_columns": null,
            "grid_auto_flow": null,
            "grid_auto_rows": null,
            "grid_column": null,
            "grid_gap": null,
            "grid_row": null,
            "grid_template_areas": null,
            "grid_template_columns": null,
            "grid_template_rows": null,
            "height": null,
            "justify_content": null,
            "justify_items": null,
            "left": null,
            "margin": null,
            "max_height": null,
            "max_width": null,
            "min_height": null,
            "min_width": null,
            "object_fit": null,
            "object_position": null,
            "order": null,
            "overflow": null,
            "overflow_x": null,
            "overflow_y": null,
            "padding": null,
            "right": null,
            "top": null,
            "visibility": null,
            "width": null
          }
        },
        "a2e66b867326469ca2396aeb7e10a2d7": {
          "model_module": "@jupyter-widgets/controls",
          "model_name": "VBoxModel",
          "model_module_version": "1.5.0",
          "state": {
            "_dom_classes": [
              "widget-interact"
            ],
            "_model_module": "@jupyter-widgets/controls",
            "_model_module_version": "1.5.0",
            "_model_name": "VBoxModel",
            "_view_count": null,
            "_view_module": "@jupyter-widgets/controls",
            "_view_module_version": "1.5.0",
            "_view_name": "VBoxView",
            "box_style": "",
            "children": [
              "IPY_MODEL_5f060610659b45c1b983cd4b3e13c10a",
              "IPY_MODEL_b1351338b93d49c49c4b711a3e885999",
              "IPY_MODEL_bf7f03b38f904f77a6c1695e1512930e"
            ],
            "layout": "IPY_MODEL_19962e321667498380eccb3d448123a3"
          }
        },
        "5f060610659b45c1b983cd4b3e13c10a": {
          "model_module": "@jupyter-widgets/controls",
          "model_name": "FloatSliderModel",
          "model_module_version": "1.5.0",
          "state": {
            "_dom_classes": [],
            "_model_module": "@jupyter-widgets/controls",
            "_model_module_version": "1.5.0",
            "_model_name": "FloatSliderModel",
            "_view_count": null,
            "_view_module": "@jupyter-widgets/controls",
            "_view_module_version": "1.5.0",
            "_view_name": "FloatSliderView",
            "continuous_update": true,
            "description": "p2_x",
            "description_tooltip": null,
            "disabled": false,
            "layout": "IPY_MODEL_76c7b1e0029840f19e32176c34c52bf7",
            "max": 12.3,
            "min": 5.5,
            "orientation": "horizontal",
            "readout": true,
            "readout_format": ".2f",
            "step": 0.1,
            "style": "IPY_MODEL_c0dd5fab8f2a44cfa8c46efc9bee00ef",
            "value": 6.6
          }
        },
        "b1351338b93d49c49c4b711a3e885999": {
          "model_module": "@jupyter-widgets/controls",
          "model_name": "FloatSliderModel",
          "model_module_version": "1.5.0",
          "state": {
            "_dom_classes": [],
            "_model_module": "@jupyter-widgets/controls",
            "_model_module_version": "1.5.0",
            "_model_name": "FloatSliderModel",
            "_view_count": null,
            "_view_module": "@jupyter-widgets/controls",
            "_view_module_version": "1.5.0",
            "_view_name": "FloatSliderView",
            "continuous_update": true,
            "description": "p2_y",
            "description_tooltip": null,
            "disabled": false,
            "layout": "IPY_MODEL_c09c68926467481294d82507d6847cff",
            "max": 10,
            "min": -10,
            "orientation": "horizontal",
            "readout": true,
            "readout_format": ".2f",
            "step": 0.1,
            "style": "IPY_MODEL_e65cacb1a8f3480da645ff70ee1f6fa3",
            "value": 2.1
          }
        },
        "bf7f03b38f904f77a6c1695e1512930e": {
          "model_module": "@jupyter-widgets/output",
          "model_name": "OutputModel",
          "model_module_version": "1.0.0",
          "state": {
            "_dom_classes": [],
            "_model_module": "@jupyter-widgets/output",
            "_model_module_version": "1.0.0",
            "_model_name": "OutputModel",
            "_view_count": null,
            "_view_module": "@jupyter-widgets/output",
            "_view_module_version": "1.0.0",
            "_view_name": "OutputView",
            "layout": "IPY_MODEL_9ca09a92c0854d44a8ccfa3953f47990",
            "msg_id": "",
            "outputs": [
              {
                "output_type": "display_data",
                "data": {
                  "text/plain": "<Figure size 1000x600 with 1 Axes>",
                  "image/png": "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\n"
                },
                "metadata": {}
              }
            ]
          }
        },
        "19962e321667498380eccb3d448123a3": {
          "model_module": "@jupyter-widgets/base",
          "model_name": "LayoutModel",
          "model_module_version": "1.2.0",
          "state": {
            "_model_module": "@jupyter-widgets/base",
            "_model_module_version": "1.2.0",
            "_model_name": "LayoutModel",
            "_view_count": null,
            "_view_module": "@jupyter-widgets/base",
            "_view_module_version": "1.2.0",
            "_view_name": "LayoutView",
            "align_content": null,
            "align_items": null,
            "align_self": null,
            "border": null,
            "bottom": null,
            "display": null,
            "flex": null,
            "flex_flow": null,
            "grid_area": null,
            "grid_auto_columns": null,
            "grid_auto_flow": null,
            "grid_auto_rows": null,
            "grid_column": null,
            "grid_gap": null,
            "grid_row": null,
            "grid_template_areas": null,
            "grid_template_columns": null,
            "grid_template_rows": null,
            "height": null,
            "justify_content": null,
            "justify_items": null,
            "left": null,
            "margin": null,
            "max_height": null,
            "max_width": null,
            "min_height": null,
            "min_width": null,
            "object_fit": null,
            "object_position": null,
            "order": null,
            "overflow": null,
            "overflow_x": null,
            "overflow_y": null,
            "padding": null,
            "right": null,
            "top": null,
            "visibility": null,
            "width": null
          }
        },
        "76c7b1e0029840f19e32176c34c52bf7": {
          "model_module": "@jupyter-widgets/base",
          "model_name": "LayoutModel",
          "model_module_version": "1.2.0",
          "state": {
            "_model_module": "@jupyter-widgets/base",
            "_model_module_version": "1.2.0",
            "_model_name": "LayoutModel",
            "_view_count": null,
            "_view_module": "@jupyter-widgets/base",
            "_view_module_version": "1.2.0",
            "_view_name": "LayoutView",
            "align_content": null,
            "align_items": null,
            "align_self": null,
            "border": null,
            "bottom": null,
            "display": null,
            "flex": null,
            "flex_flow": null,
            "grid_area": null,
            "grid_auto_columns": null,
            "grid_auto_flow": null,
            "grid_auto_rows": null,
            "grid_column": null,
            "grid_gap": null,
            "grid_row": null,
            "grid_template_areas": null,
            "grid_template_columns": null,
            "grid_template_rows": null,
            "height": null,
            "justify_content": null,
            "justify_items": null,
            "left": null,
            "margin": null,
            "max_height": null,
            "max_width": null,
            "min_height": null,
            "min_width": null,
            "object_fit": null,
            "object_position": null,
            "order": null,
            "overflow": null,
            "overflow_x": null,
            "overflow_y": null,
            "padding": null,
            "right": null,
            "top": null,
            "visibility": null,
            "width": null
          }
        },
        "c0dd5fab8f2a44cfa8c46efc9bee00ef": {
          "model_module": "@jupyter-widgets/controls",
          "model_name": "SliderStyleModel",
          "model_module_version": "1.5.0",
          "state": {
            "_model_module": "@jupyter-widgets/controls",
            "_model_module_version": "1.5.0",
            "_model_name": "SliderStyleModel",
            "_view_count": null,
            "_view_module": "@jupyter-widgets/base",
            "_view_module_version": "1.2.0",
            "_view_name": "StyleView",
            "description_width": "",
            "handle_color": null
          }
        },
        "c09c68926467481294d82507d6847cff": {
          "model_module": "@jupyter-widgets/base",
          "model_name": "LayoutModel",
          "model_module_version": "1.2.0",
          "state": {
            "_model_module": "@jupyter-widgets/base",
            "_model_module_version": "1.2.0",
            "_model_name": "LayoutModel",
            "_view_count": null,
            "_view_module": "@jupyter-widgets/base",
            "_view_module_version": "1.2.0",
            "_view_name": "LayoutView",
            "align_content": null,
            "align_items": null,
            "align_self": null,
            "border": null,
            "bottom": null,
            "display": null,
            "flex": null,
            "flex_flow": null,
            "grid_area": null,
            "grid_auto_columns": null,
            "grid_auto_flow": null,
            "grid_auto_rows": null,
            "grid_column": null,
            "grid_gap": null,
            "grid_row": null,
            "grid_template_areas": null,
            "grid_template_columns": null,
            "grid_template_rows": null,
            "height": null,
            "justify_content": null,
            "justify_items": null,
            "left": null,
            "margin": null,
            "max_height": null,
            "max_width": null,
            "min_height": null,
            "min_width": null,
            "object_fit": null,
            "object_position": null,
            "order": null,
            "overflow": null,
            "overflow_x": null,
            "overflow_y": null,
            "padding": null,
            "right": null,
            "top": null,
            "visibility": null,
            "width": null
          }
        },
        "e65cacb1a8f3480da645ff70ee1f6fa3": {
          "model_module": "@jupyter-widgets/controls",
          "model_name": "SliderStyleModel",
          "model_module_version": "1.5.0",
          "state": {
            "_model_module": "@jupyter-widgets/controls",
            "_model_module_version": "1.5.0",
            "_model_name": "SliderStyleModel",
            "_view_count": null,
            "_view_module": "@jupyter-widgets/base",
            "_view_module_version": "1.2.0",
            "_view_name": "StyleView",
            "description_width": "",
            "handle_color": null
          }
        },
        "9ca09a92c0854d44a8ccfa3953f47990": {
          "model_module": "@jupyter-widgets/base",
          "model_name": "LayoutModel",
          "model_module_version": "1.2.0",
          "state": {
            "_model_module": "@jupyter-widgets/base",
            "_model_module_version": "1.2.0",
            "_model_name": "LayoutModel",
            "_view_count": null,
            "_view_module": "@jupyter-widgets/base",
            "_view_module_version": "1.2.0",
            "_view_name": "LayoutView",
            "align_content": null,
            "align_items": null,
            "align_self": null,
            "border": null,
            "bottom": null,
            "display": null,
            "flex": null,
            "flex_flow": null,
            "grid_area": null,
            "grid_auto_columns": null,
            "grid_auto_flow": null,
            "grid_auto_rows": null,
            "grid_column": null,
            "grid_gap": null,
            "grid_row": null,
            "grid_template_areas": null,
            "grid_template_columns": null,
            "grid_template_rows": null,
            "height": null,
            "justify_content": null,
            "justify_items": null,
            "left": null,
            "margin": null,
            "max_height": null,
            "max_width": null,
            "min_height": null,
            "min_width": null,
            "object_fit": null,
            "object_position": null,
            "order": null,
            "overflow": null,
            "overflow_x": null,
            "overflow_y": null,
            "padding": null,
            "right": null,
            "top": null,
            "visibility": null,
            "width": null
          }
        }
      }
    }
  },
  "cells": [
    {
      "cell_type": "markdown",
      "metadata": {
        "id": "view-in-github",
        "colab_type": "text"
      },
      "source": [
        "<a href=\"https://colab.research.google.com/github/andresit02/Actividad-14-12-24-MN/blob/main/Taller_04_M%C3%ADnimos_cuadrados.ipynb\" target=\"_parent\"><img src=\"https://colab.research.google.com/assets/colab-badge.svg\" alt=\"Open In Colab\"/></a>"
      ]
    },
    {
      "cell_type": "markdown",
      "source": [
        "### ***Realizado por: Andres P. Fernandez O.***"
      ],
      "metadata": {
        "id": "rlbZ4gn_Zh6K"
      }
    },
    {
      "cell_type": "markdown",
      "source": [
        "***CÓDIGO ORIGINAL***"
      ],
      "metadata": {
        "id": "jWdZZssAaKzJ"
      }
    },
    {
      "cell_type": "code",
      "execution_count": null,
      "metadata": {
        "id": "f3l9etqVY9WS"
      },
      "outputs": [],
      "source": [
        "p1 = (5.4, 3.2)\n",
        "p2_i = (9.5, 0.7)\n",
        "p3 = (12.3, -3.6)"
      ]
    },
    {
      "cell_type": "code",
      "source": [
        "from ipywidgets import interact\n",
        "import matplotlib.pyplot as plt\n",
        "\n",
        "m = -1\n",
        "b = 8\n",
        "\n",
        "\n",
        "def update_plot(p2_x, p2_y):\n",
        "    x_coords = [p1[0], p2_x, p3[0]]\n",
        "    y_coords = [p1[1], p2_y, p3[1]]\n",
        "\n",
        "    plt.figure(figsize=(10, 6))\n",
        "    plt.scatter(x_coords, y_coords, color=\"red\")\n",
        "\n",
        "    x_line = [min(x_coords), max(x_coords)]\n",
        "    y_line = [m * x + b for x in x_line]\n",
        "    plt.plot(x_line, y_line, color=\"blue\")\n",
        "\n",
        "    plt.xlabel(\"X\")\n",
        "    plt.ylabel(\"Y\")\n",
        "    plt.title(\"Points and Line Plot\")\n",
        "    plt.show()\n",
        "\n",
        "\n",
        "_ = interact(update_plot, p2_x=(5.5, 12.3, 0.1), p2_y=(-10.0, 10.0, 0.1))"
      ],
      "metadata": {
        "id": "zFPkWWSxZPof",
        "outputId": "a12e3f98-d3c1-4dc9-bc9d-439807d4b414",
        "colab": {
          "base_uri": "https://localhost:8080/",
          "height": 628,
          "referenced_widgets": [
            "d7d13bb920ac4f88878c7d546d09edb3",
            "14db2dffcaa44ecbb6c40b3df5590f2d",
            "25c1f4f08b204abda9513e739c2033cf",
            "01786a681fc64190ae0410b00a1a375a",
            "0692cd5adfbf45b78490718c423690fe",
            "02b248a14389498aa8afda921372908e",
            "f287569028c94ce28e7c888eae88128b",
            "3fa77b24d3f9432b9bc8e061e1f593a4",
            "7b10e2b36332484aada826fec63b96fa",
            "aa22aa2e54a242ab95a4fbc80b32e10f"
          ]
        }
      },
      "execution_count": 3,
      "outputs": [
        {
          "output_type": "display_data",
          "data": {
            "text/plain": [
              "interactive(children=(FloatSlider(value=8.9, description='p2_x', max=12.3, min=5.5), FloatSlider(value=0.0, de…"
            ],
            "application/vnd.jupyter.widget-view+json": {
              "version_major": 2,
              "version_minor": 0,
              "model_id": "d7d13bb920ac4f88878c7d546d09edb3"
            }
          },
          "metadata": {}
        }
      ]
    },
    {
      "cell_type": "markdown",
      "source": [
        "***CÓDIGO CORREGIDO***"
      ],
      "metadata": {
        "id": "186aRtrlaCW-"
      }
    },
    {
      "cell_type": "code",
      "source": [
        "p1 = (5.4, 3.2)\n",
        "p2_i = (9.5, 0.7)\n",
        "p3 = (12.3, -3.6)"
      ],
      "metadata": {
        "id": "ZhBpgrvAaIFr"
      },
      "execution_count": 6,
      "outputs": []
    },
    {
      "cell_type": "code",
      "source": [
        "from scipy.stats import linregress\n",
        "import matplotlib.pyplot as plt\n",
        "from ipywidgets import interact\n",
        "\n",
        "def update_plot(p2_x, p2_y):\n",
        "    x_coords = np.array([p1[0], p2_x, p3[0]])\n",
        "    y_coords = np.array([p1[1], p2_y, p3[1]])\n",
        "\n",
        "    slope, intercept, r_value, p_value, std_err = linregress(x_coords, y_coords)\n",
        "\n",
        "    plt.figure(figsize=(10, 6))\n",
        "    plt.scatter(x_coords, y_coords, color=\"red\")\n",
        "\n",
        "    x_line = np.array([min(x_coords), max(x_coords)])\n",
        "    y_line = slope * x_line + intercept\n",
        "    plt.plot(x_line, y_line, color=\"blue\")\n",
        "\n",
        "    plt.xlabel(\"X\")\n",
        "    plt.ylabel(\"Y\")\n",
        "    plt.title(\"Points and Line Plot\")\n",
        "    plt.show()\n",
        "\n",
        "interact(update_plot, p2_x=(5.5, 12.3, 0.1), p2_y=(-10.0, 10.0, 0.1))"
      ],
      "metadata": {
        "colab": {
          "base_uri": "https://localhost:8080/",
          "height": 714,
          "referenced_widgets": [
            "a2e66b867326469ca2396aeb7e10a2d7",
            "5f060610659b45c1b983cd4b3e13c10a",
            "b1351338b93d49c49c4b711a3e885999",
            "bf7f03b38f904f77a6c1695e1512930e",
            "19962e321667498380eccb3d448123a3",
            "76c7b1e0029840f19e32176c34c52bf7",
            "c0dd5fab8f2a44cfa8c46efc9bee00ef",
            "c09c68926467481294d82507d6847cff",
            "e65cacb1a8f3480da645ff70ee1f6fa3",
            "9ca09a92c0854d44a8ccfa3953f47990"
          ]
        },
        "id": "ufKM2Ia7aPXb",
        "outputId": "1b623c37-cd08-47e6-ea80-e8291bbf57cb"
      },
      "execution_count": 9,
      "outputs": [
        {
          "output_type": "display_data",
          "data": {
            "text/plain": [
              "interactive(children=(FloatSlider(value=8.9, description='p2_x', max=12.3, min=5.5), FloatSlider(value=0.0, de…"
            ],
            "application/vnd.jupyter.widget-view+json": {
              "version_major": 2,
              "version_minor": 0,
              "model_id": "a2e66b867326469ca2396aeb7e10a2d7"
            }
          },
          "metadata": {}
        },
        {
          "output_type": "execute_result",
          "data": {
            "text/plain": [
              "<function __main__.update_plot(p2_x, p2_y)>"
            ],
            "text/html": [
              "<div style=\"max-width:800px; border: 1px solid var(--colab-border-color);\"><style>\n",
              "      pre.function-repr-contents {\n",
              "        overflow-x: auto;\n",
              "        padding: 8px 12px;\n",
              "        max-height: 500px;\n",
              "      }\n",
              "\n",
              "      pre.function-repr-contents.function-repr-contents-collapsed {\n",
              "        cursor: pointer;\n",
              "        max-height: 100px;\n",
              "      }\n",
              "    </style>\n",
              "    <pre style=\"white-space: initial; background:\n",
              "         var(--colab-secondary-surface-color); padding: 8px 12px;\n",
              "         border-bottom: 1px solid var(--colab-border-color);\"><b>update_plot</b><br/>def update_plot(p2_x, p2_y)</pre><pre class=\"function-repr-contents function-repr-contents-collapsed\" style=\"\"><a class=\"filepath\" style=\"display:none\" href=\"#\">/content/&lt;ipython-input-9-f41bf7251449&gt;</a>&lt;no docstring&gt;</pre></div>"
            ]
          },
          "metadata": {},
          "execution_count": 9
        }
      ]
    }
  ]
}