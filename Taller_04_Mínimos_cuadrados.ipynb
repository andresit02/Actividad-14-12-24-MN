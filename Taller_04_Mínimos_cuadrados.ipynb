{
  "nbformat": 4,
  "nbformat_minor": 0,
  "metadata": {
    "colab": {
      "provenance": [],
      "authorship_tag": "ABX9TyNz07YwZR6C5TiEXU2hdzme",
      "include_colab_link": true
    },
    "kernelspec": {
      "name": "python3",
      "display_name": "Python 3"
    },
    "language_info": {
      "name": "python"
    },
    "widgets": {
      "application/vnd.jupyter.widget-state+json": {
        "d7d13bb920ac4f88878c7d546d09edb3": {
          "model_module": "@jupyter-widgets/controls",
          "model_name": "VBoxModel",
          "model_module_version": "1.5.0",
          "state": {
            "_dom_classes": [
              "widget-interact"
            ],
            "_model_module": "@jupyter-widgets/controls",
            "_model_module_version": "1.5.0",
            "_model_name": "VBoxModel",
            "_view_count": null,
            "_view_module": "@jupyter-widgets/controls",
            "_view_module_version": "1.5.0",
            "_view_name": "VBoxView",
            "box_style": "",
            "children": [
              "IPY_MODEL_14db2dffcaa44ecbb6c40b3df5590f2d",
              "IPY_MODEL_25c1f4f08b204abda9513e739c2033cf",
              "IPY_MODEL_01786a681fc64190ae0410b00a1a375a"
            ],
            "layout": "IPY_MODEL_0692cd5adfbf45b78490718c423690fe"
          }
        },
        "14db2dffcaa44ecbb6c40b3df5590f2d": {
          "model_module": "@jupyter-widgets/controls",
          "model_name": "FloatSliderModel",
          "model_module_version": "1.5.0",
          "state": {
            "_dom_classes": [],
            "_model_module": "@jupyter-widgets/controls",
            "_model_module_version": "1.5.0",
            "_model_name": "FloatSliderModel",
            "_view_count": null,
            "_view_module": "@jupyter-widgets/controls",
            "_view_module_version": "1.5.0",
            "_view_name": "FloatSliderView",
            "continuous_update": true,
            "description": "p2_x",
            "description_tooltip": null,
            "disabled": false,
            "layout": "IPY_MODEL_02b248a14389498aa8afda921372908e",
            "max": 12.3,
            "min": 5.5,
            "orientation": "horizontal",
            "readout": true,
            "readout_format": ".2f",
            "step": 0.1,
            "style": "IPY_MODEL_f287569028c94ce28e7c888eae88128b",
            "value": 6.6
          }
        },
        "25c1f4f08b204abda9513e739c2033cf": {
          "model_module": "@jupyter-widgets/controls",
          "model_name": "FloatSliderModel",
          "model_module_version": "1.5.0",
          "state": {
            "_dom_classes": [],
            "_model_module": "@jupyter-widgets/controls",
            "_model_module_version": "1.5.0",
            "_model_name": "FloatSliderModel",
            "_view_count": null,
            "_view_module": "@jupyter-widgets/controls",
            "_view_module_version": "1.5.0",
            "_view_name": "FloatSliderView",
            "continuous_update": true,
            "description": "p2_y",
            "description_tooltip": null,
            "disabled": false,
            "layout": "IPY_MODEL_3fa77b24d3f9432b9bc8e061e1f593a4",
            "max": 10,
            "min": -10,
            "orientation": "horizontal",
            "readout": true,
            "readout_format": ".2f",
            "step": 0.1,
            "style": "IPY_MODEL_7b10e2b36332484aada826fec63b96fa",
            "value": -5.2
          }
        },
        "01786a681fc64190ae0410b00a1a375a": {
          "model_module": "@jupyter-widgets/output",
          "model_name": "OutputModel",
          "model_module_version": "1.0.0",
          "state": {
            "_dom_classes": [],
            "_model_module": "@jupyter-widgets/output",
            "_model_module_version": "1.0.0",
            "_model_name": "OutputModel",
            "_view_count": null,
            "_view_module": "@jupyter-widgets/output",
            "_view_module_version": "1.0.0",
            "_view_name": "OutputView",
            "layout": "IPY_MODEL_aa22aa2e54a242ab95a4fbc80b32e10f",
            "msg_id": "",
            "outputs": [
              {
                "output_type": "display_data",
                "data": {
                  "text/plain": "<Figure size 1000x600 with 1 Axes>",
                  "image/png": "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\n"
                },
                "metadata": {}
              }
            ]
          }
        },
        "0692cd5adfbf45b78490718c423690fe": {
          "model_module": "@jupyter-widgets/base",
          "model_name": "LayoutModel",
          "model_module_version": "1.2.0",
          "state": {
            "_model_module": "@jupyter-widgets/base",
            "_model_module_version": "1.2.0",
            "_model_name": "LayoutModel",
            "_view_count": null,
            "_view_module": "@jupyter-widgets/base",
            "_view_module_version": "1.2.0",
            "_view_name": "LayoutView",
            "align_content": null,
            "align_items": null,
            "align_self": null,
            "border": null,
            "bottom": null,
            "display": null,
            "flex": null,
            "flex_flow": null,
            "grid_area": null,
            "grid_auto_columns": null,
            "grid_auto_flow": null,
            "grid_auto_rows": null,
            "grid_column": null,
            "grid_gap": null,
            "grid_row": null,
            "grid_template_areas": null,
            "grid_template_columns": null,
            "grid_template_rows": null,
            "height": null,
            "justify_content": null,
            "justify_items": null,
            "left": null,
            "margin": null,
            "max_height": null,
            "max_width": null,
            "min_height": null,
            "min_width": null,
            "object_fit": null,
            "object_position": null,
            "order": null,
            "overflow": null,
            "overflow_x": null,
            "overflow_y": null,
            "padding": null,
            "right": null,
            "top": null,
            "visibility": null,
            "width": null
          }
        },
        "02b248a14389498aa8afda921372908e": {
          "model_module": "@jupyter-widgets/base",
          "model_name": "LayoutModel",
          "model_module_version": "1.2.0",
          "state": {
            "_model_module": "@jupyter-widgets/base",
            "_model_module_version": "1.2.0",
            "_model_name": "LayoutModel",
            "_view_count": null,
            "_view_module": "@jupyter-widgets/base",
            "_view_module_version": "1.2.0",
            "_view_name": "LayoutView",
            "align_content": null,
            "align_items": null,
            "align_self": null,
            "border": null,
            "bottom": null,
            "display": null,
            "flex": null,
            "flex_flow": null,
            "grid_area": null,
            "grid_auto_columns": null,
            "grid_auto_flow": null,
            "grid_auto_rows": null,
            "grid_column": null,
            "grid_gap": null,
            "grid_row": null,
            "grid_template_areas": null,
            "grid_template_columns": null,
            "grid_template_rows": null,
            "height": null,
            "justify_content": null,
            "justify_items": null,
            "left": null,
            "margin": null,
            "max_height": null,
            "max_width": null,
            "min_height": null,
            "min_width": null,
            "object_fit": null,
            "object_position": null,
            "order": null,
            "overflow": null,
            "overflow_x": null,
            "overflow_y": null,
            "padding": null,
            "right": null,
            "top": null,
            "visibility": null,
            "width": null
          }
        },
        "f287569028c94ce28e7c888eae88128b": {
          "model_module": "@jupyter-widgets/controls",
          "model_name": "SliderStyleModel",
          "model_module_version": "1.5.0",
          "state": {
            "_model_module": "@jupyter-widgets/controls",
            "_model_module_version": "1.5.0",
            "_model_name": "SliderStyleModel",
            "_view_count": null,
            "_view_module": "@jupyter-widgets/base",
            "_view_module_version": "1.2.0",
            "_view_name": "StyleView",
            "description_width": "",
            "handle_color": null
          }
        },
        "3fa77b24d3f9432b9bc8e061e1f593a4": {
          "model_module": "@jupyter-widgets/base",
          "model_name": "LayoutModel",
          "model_module_version": "1.2.0",
          "state": {
            "_model_module": "@jupyter-widgets/base",
            "_model_module_version": "1.2.0",
            "_model_name": "LayoutModel",
            "_view_count": null,
            "_view_module": "@jupyter-widgets/base",
            "_view_module_version": "1.2.0",
            "_view_name": "LayoutView",
            "align_content": null,
            "align_items": null,
            "align_self": null,
            "border": null,
            "bottom": null,
            "display": null,
            "flex": null,
            "flex_flow": null,
            "grid_area": null,
            "grid_auto_columns": null,
            "grid_auto_flow": null,
            "grid_auto_rows": null,
            "grid_column": null,
            "grid_gap": null,
            "grid_row": null,
            "grid_template_areas": null,
            "grid_template_columns": null,
            "grid_template_rows": null,
            "height": null,
            "justify_content": null,
            "justify_items": null,
            "left": null,
            "margin": null,
            "max_height": null,
            "max_width": null,
            "min_height": null,
            "min_width": null,
            "object_fit": null,
            "object_position": null,
            "order": null,
            "overflow": null,
            "overflow_x": null,
            "overflow_y": null,
            "padding": null,
            "right": null,
            "top": null,
            "visibility": null,
            "width": null
          }
        },
        "7b10e2b36332484aada826fec63b96fa": {
          "model_module": "@jupyter-widgets/controls",
          "model_name": "SliderStyleModel",
          "model_module_version": "1.5.0",
          "state": {
            "_model_module": "@jupyter-widgets/controls",
            "_model_module_version": "1.5.0",
            "_model_name": "SliderStyleModel",
            "_view_count": null,
            "_view_module": "@jupyter-widgets/base",
            "_view_module_version": "1.2.0",
            "_view_name": "StyleView",
            "description_width": "",
            "handle_color": null
          }
        },
        "aa22aa2e54a242ab95a4fbc80b32e10f": {
          "model_module": "@jupyter-widgets/base",
          "model_name": "LayoutModel",
          "model_module_version": "1.2.0",
          "state": {
            "_model_module": "@jupyter-widgets/base",
            "_model_module_version": "1.2.0",
            "_model_name": "LayoutModel",
            "_view_count": null,
            "_view_module": "@jupyter-widgets/base",
            "_view_module_version": "1.2.0",
            "_view_name": "LayoutView",
            "align_content": null,
            "align_items": null,
            "align_self": null,
            "border": null,
            "bottom": null,
            "display": null,
            "flex": null,
            "flex_flow": null,
            "grid_area": null,
            "grid_auto_columns": null,
            "grid_auto_flow": null,
            "grid_auto_rows": null,
            "grid_column": null,
            "grid_gap": null,
            "grid_row": null,
            "grid_template_areas": null,
            "grid_template_columns": null,
            "grid_template_rows": null,
            "height": null,
            "justify_content": null,
            "justify_items": null,
            "left": null,
            "margin": null,
            "max_height": null,
            "max_width": null,
            "min_height": null,
            "min_width": null,
            "object_fit": null,
            "object_position": null,
            "order": null,
            "overflow": null,
            "overflow_x": null,
            "overflow_y": null,
            "padding": null,
            "right": null,
            "top": null,
            "visibility": null,
            "width": null
          }
        },
        "f14a5a4827a54202a9caba36933850db": {
          "model_module": "@jupyter-widgets/controls",
          "model_name": "VBoxModel",
          "model_module_version": "1.5.0",
          "state": {
            "_dom_classes": [
              "widget-interact"
            ],
            "_model_module": "@jupyter-widgets/controls",
            "_model_module_version": "1.5.0",
            "_model_name": "VBoxModel",
            "_view_count": null,
            "_view_module": "@jupyter-widgets/controls",
            "_view_module_version": "1.5.0",
            "_view_name": "VBoxView",
            "box_style": "",
            "children": [
              "IPY_MODEL_84eea0a3fce44ff7a0da145f521ceee4",
              "IPY_MODEL_27afbfb10afe47eea2acbee493e199c2",
              "IPY_MODEL_376ad1f5267346e8b82d83809a03c020"
            ],
            "layout": "IPY_MODEL_3dc3f40295ea4249aee7d19a76f98242"
          }
        },
        "84eea0a3fce44ff7a0da145f521ceee4": {
          "model_module": "@jupyter-widgets/controls",
          "model_name": "FloatSliderModel",
          "model_module_version": "1.5.0",
          "state": {
            "_dom_classes": [],
            "_model_module": "@jupyter-widgets/controls",
            "_model_module_version": "1.5.0",
            "_model_name": "FloatSliderModel",
            "_view_count": null,
            "_view_module": "@jupyter-widgets/controls",
            "_view_module_version": "1.5.0",
            "_view_name": "FloatSliderView",
            "continuous_update": true,
            "description": "p2_x",
            "description_tooltip": null,
            "disabled": false,
            "layout": "IPY_MODEL_407e76e8176b4cca908590d237450fd6",
            "max": 12.3,
            "min": 5.5,
            "orientation": "horizontal",
            "readout": true,
            "readout_format": ".2f",
            "step": 0.1,
            "style": "IPY_MODEL_4e22174786944db19d1d3a520f3939f4",
            "value": 8.8
          }
        },
        "27afbfb10afe47eea2acbee493e199c2": {
          "model_module": "@jupyter-widgets/controls",
          "model_name": "FloatSliderModel",
          "model_module_version": "1.5.0",
          "state": {
            "_dom_classes": [],
            "_model_module": "@jupyter-widgets/controls",
            "_model_module_version": "1.5.0",
            "_model_name": "FloatSliderModel",
            "_view_count": null,
            "_view_module": "@jupyter-widgets/controls",
            "_view_module_version": "1.5.0",
            "_view_name": "FloatSliderView",
            "continuous_update": true,
            "description": "p2_y",
            "description_tooltip": null,
            "disabled": false,
            "layout": "IPY_MODEL_9b7121ad65b74fa6887510b67d39b2d4",
            "max": 10,
            "min": -10,
            "orientation": "horizontal",
            "readout": true,
            "readout_format": ".2f",
            "step": 0.1,
            "style": "IPY_MODEL_ee00613bee9b495f8ba45c57876c6187",
            "value": 3.9
          }
        },
        "376ad1f5267346e8b82d83809a03c020": {
          "model_module": "@jupyter-widgets/output",
          "model_name": "OutputModel",
          "model_module_version": "1.0.0",
          "state": {
            "_dom_classes": [],
            "_model_module": "@jupyter-widgets/output",
            "_model_module_version": "1.0.0",
            "_model_name": "OutputModel",
            "_view_count": null,
            "_view_module": "@jupyter-widgets/output",
            "_view_module_version": "1.0.0",
            "_view_name": "OutputView",
            "layout": "IPY_MODEL_69c9228bdd3c48d599a07935064df94a",
            "msg_id": "",
            "outputs": [
              {
                "output_type": "display_data",
                "data": {
                  "text/plain": "<Figure size 1000x600 with 1 Axes>",
                  "image/png": "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\n"
                },
                "metadata": {}
              }
            ]
          }
        },
        "3dc3f40295ea4249aee7d19a76f98242": {
          "model_module": "@jupyter-widgets/base",
          "model_name": "LayoutModel",
          "model_module_version": "1.2.0",
          "state": {
            "_model_module": "@jupyter-widgets/base",
            "_model_module_version": "1.2.0",
            "_model_name": "LayoutModel",
            "_view_count": null,
            "_view_module": "@jupyter-widgets/base",
            "_view_module_version": "1.2.0",
            "_view_name": "LayoutView",
            "align_content": null,
            "align_items": null,
            "align_self": null,
            "border": null,
            "bottom": null,
            "display": null,
            "flex": null,
            "flex_flow": null,
            "grid_area": null,
            "grid_auto_columns": null,
            "grid_auto_flow": null,
            "grid_auto_rows": null,
            "grid_column": null,
            "grid_gap": null,
            "grid_row": null,
            "grid_template_areas": null,
            "grid_template_columns": null,
            "grid_template_rows": null,
            "height": null,
            "justify_content": null,
            "justify_items": null,
            "left": null,
            "margin": null,
            "max_height": null,
            "max_width": null,
            "min_height": null,
            "min_width": null,
            "object_fit": null,
            "object_position": null,
            "order": null,
            "overflow": null,
            "overflow_x": null,
            "overflow_y": null,
            "padding": null,
            "right": null,
            "top": null,
            "visibility": null,
            "width": null
          }
        },
        "407e76e8176b4cca908590d237450fd6": {
          "model_module": "@jupyter-widgets/base",
          "model_name": "LayoutModel",
          "model_module_version": "1.2.0",
          "state": {
            "_model_module": "@jupyter-widgets/base",
            "_model_module_version": "1.2.0",
            "_model_name": "LayoutModel",
            "_view_count": null,
            "_view_module": "@jupyter-widgets/base",
            "_view_module_version": "1.2.0",
            "_view_name": "LayoutView",
            "align_content": null,
            "align_items": null,
            "align_self": null,
            "border": null,
            "bottom": null,
            "display": null,
            "flex": null,
            "flex_flow": null,
            "grid_area": null,
            "grid_auto_columns": null,
            "grid_auto_flow": null,
            "grid_auto_rows": null,
            "grid_column": null,
            "grid_gap": null,
            "grid_row": null,
            "grid_template_areas": null,
            "grid_template_columns": null,
            "grid_template_rows": null,
            "height": null,
            "justify_content": null,
            "justify_items": null,
            "left": null,
            "margin": null,
            "max_height": null,
            "max_width": null,
            "min_height": null,
            "min_width": null,
            "object_fit": null,
            "object_position": null,
            "order": null,
            "overflow": null,
            "overflow_x": null,
            "overflow_y": null,
            "padding": null,
            "right": null,
            "top": null,
            "visibility": null,
            "width": null
          }
        },
        "4e22174786944db19d1d3a520f3939f4": {
          "model_module": "@jupyter-widgets/controls",
          "model_name": "SliderStyleModel",
          "model_module_version": "1.5.0",
          "state": {
            "_model_module": "@jupyter-widgets/controls",
            "_model_module_version": "1.5.0",
            "_model_name": "SliderStyleModel",
            "_view_count": null,
            "_view_module": "@jupyter-widgets/base",
            "_view_module_version": "1.2.0",
            "_view_name": "StyleView",
            "description_width": "",
            "handle_color": null
          }
        },
        "9b7121ad65b74fa6887510b67d39b2d4": {
          "model_module": "@jupyter-widgets/base",
          "model_name": "LayoutModel",
          "model_module_version": "1.2.0",
          "state": {
            "_model_module": "@jupyter-widgets/base",
            "_model_module_version": "1.2.0",
            "_model_name": "LayoutModel",
            "_view_count": null,
            "_view_module": "@jupyter-widgets/base",
            "_view_module_version": "1.2.0",
            "_view_name": "LayoutView",
            "align_content": null,
            "align_items": null,
            "align_self": null,
            "border": null,
            "bottom": null,
            "display": null,
            "flex": null,
            "flex_flow": null,
            "grid_area": null,
            "grid_auto_columns": null,
            "grid_auto_flow": null,
            "grid_auto_rows": null,
            "grid_column": null,
            "grid_gap": null,
            "grid_row": null,
            "grid_template_areas": null,
            "grid_template_columns": null,
            "grid_template_rows": null,
            "height": null,
            "justify_content": null,
            "justify_items": null,
            "left": null,
            "margin": null,
            "max_height": null,
            "max_width": null,
            "min_height": null,
            "min_width": null,
            "object_fit": null,
            "object_position": null,
            "order": null,
            "overflow": null,
            "overflow_x": null,
            "overflow_y": null,
            "padding": null,
            "right": null,
            "top": null,
            "visibility": null,
            "width": null
          }
        },
        "ee00613bee9b495f8ba45c57876c6187": {
          "model_module": "@jupyter-widgets/controls",
          "model_name": "SliderStyleModel",
          "model_module_version": "1.5.0",
          "state": {
            "_model_module": "@jupyter-widgets/controls",
            "_model_module_version": "1.5.0",
            "_model_name": "SliderStyleModel",
            "_view_count": null,
            "_view_module": "@jupyter-widgets/base",
            "_view_module_version": "1.2.0",
            "_view_name": "StyleView",
            "description_width": "",
            "handle_color": null
          }
        },
        "69c9228bdd3c48d599a07935064df94a": {
          "model_module": "@jupyter-widgets/base",
          "model_name": "LayoutModel",
          "model_module_version": "1.2.0",
          "state": {
            "_model_module": "@jupyter-widgets/base",
            "_model_module_version": "1.2.0",
            "_model_name": "LayoutModel",
            "_view_count": null,
            "_view_module": "@jupyter-widgets/base",
            "_view_module_version": "1.2.0",
            "_view_name": "LayoutView",
            "align_content": null,
            "align_items": null,
            "align_self": null,
            "border": null,
            "bottom": null,
            "display": null,
            "flex": null,
            "flex_flow": null,
            "grid_area": null,
            "grid_auto_columns": null,
            "grid_auto_flow": null,
            "grid_auto_rows": null,
            "grid_column": null,
            "grid_gap": null,
            "grid_row": null,
            "grid_template_areas": null,
            "grid_template_columns": null,
            "grid_template_rows": null,
            "height": null,
            "justify_content": null,
            "justify_items": null,
            "left": null,
            "margin": null,
            "max_height": null,
            "max_width": null,
            "min_height": null,
            "min_width": null,
            "object_fit": null,
            "object_position": null,
            "order": null,
            "overflow": null,
            "overflow_x": null,
            "overflow_y": null,
            "padding": null,
            "right": null,
            "top": null,
            "visibility": null,
            "width": null
          }
        }
      }
    }
  },
  "cells": [
    {
      "cell_type": "markdown",
      "metadata": {
        "id": "view-in-github",
        "colab_type": "text"
      },
      "source": [
        "<a href=\"https://colab.research.google.com/github/andresit02/Actividad-14-12-24-MN/blob/main/Taller_04_M%C3%ADnimos_cuadrados.ipynb\" target=\"_parent\"><img src=\"https://colab.research.google.com/assets/colab-badge.svg\" alt=\"Open In Colab\"/></a>"
      ]
    },
    {
      "cell_type": "markdown",
      "source": [
        "### ***Realizado por: Andres P. Fernandez O.***"
      ],
      "metadata": {
        "id": "rlbZ4gn_Zh6K"
      }
    },
    {
      "cell_type": "markdown",
      "source": [
        "***CÓDIGO ORIGINAL***"
      ],
      "metadata": {
        "id": "jWdZZssAaKzJ"
      }
    },
    {
      "cell_type": "code",
      "execution_count": null,
      "metadata": {
        "id": "f3l9etqVY9WS"
      },
      "outputs": [],
      "source": [
        "p1 = (5.4, 3.2)\n",
        "p2_i = (9.5, 0.7)\n",
        "p3 = (12.3, -3.6)"
      ]
    },
    {
      "cell_type": "code",
      "source": [
        "from ipywidgets import interact\n",
        "import matplotlib.pyplot as plt\n",
        "\n",
        "m = -1\n",
        "b = 8\n",
        "\n",
        "\n",
        "def update_plot(p2_x, p2_y):\n",
        "    x_coords = [p1[0], p2_x, p3[0]]\n",
        "    y_coords = [p1[1], p2_y, p3[1]]\n",
        "\n",
        "    plt.figure(figsize=(10, 6))\n",
        "    plt.scatter(x_coords, y_coords, color=\"red\")\n",
        "\n",
        "    x_line = [min(x_coords), max(x_coords)]\n",
        "    y_line = [m * x + b for x in x_line]\n",
        "    plt.plot(x_line, y_line, color=\"blue\")\n",
        "\n",
        "    plt.xlabel(\"X\")\n",
        "    plt.ylabel(\"Y\")\n",
        "    plt.title(\"Points and Line Plot\")\n",
        "    plt.show()\n",
        "\n",
        "\n",
        "_ = interact(update_plot, p2_x=(5.5, 12.3, 0.1), p2_y=(-10.0, 10.0, 0.1))"
      ],
      "metadata": {
        "id": "zFPkWWSxZPof",
        "outputId": "a12e3f98-d3c1-4dc9-bc9d-439807d4b414",
        "colab": {
          "base_uri": "https://localhost:8080/",
          "height": 628,
          "referenced_widgets": [
            "d7d13bb920ac4f88878c7d546d09edb3",
            "14db2dffcaa44ecbb6c40b3df5590f2d",
            "25c1f4f08b204abda9513e739c2033cf",
            "01786a681fc64190ae0410b00a1a375a",
            "0692cd5adfbf45b78490718c423690fe",
            "02b248a14389498aa8afda921372908e",
            "f287569028c94ce28e7c888eae88128b",
            "3fa77b24d3f9432b9bc8e061e1f593a4",
            "7b10e2b36332484aada826fec63b96fa",
            "aa22aa2e54a242ab95a4fbc80b32e10f"
          ]
        }
      },
      "execution_count": 3,
      "outputs": [
        {
          "output_type": "display_data",
          "data": {
            "text/plain": [
              "interactive(children=(FloatSlider(value=8.9, description='p2_x', max=12.3, min=5.5), FloatSlider(value=0.0, de…"
            ],
            "application/vnd.jupyter.widget-view+json": {
              "version_major": 2,
              "version_minor": 0,
              "model_id": "d7d13bb920ac4f88878c7d546d09edb3"
            }
          },
          "metadata": {}
        }
      ]
    },
    {
      "cell_type": "markdown",
      "source": [
        "***CÓDIGO CORREGIDO***"
      ],
      "metadata": {
        "id": "186aRtrlaCW-"
      }
    },
    {
      "cell_type": "code",
      "source": [
        "p1 = (5.4, 3.2)\n",
        "p2_i = (9.5, 0.7)\n",
        "p3 = (12.3, -3.6)"
      ],
      "metadata": {
        "id": "ZhBpgrvAaIFr"
      },
      "execution_count": 6,
      "outputs": []
    },
    {
      "cell_type": "code",
      "source": [
        "from scipy.stats import linregress\n",
        "import matplotlib.pyplot as plt\n",
        "from ipywidgets import interact\n",
        "\n",
        "def update_plot(p2_x, p2_y):\n",
        "    x_coords = np.array([p1[0], p2_x, p3[0]])\n",
        "    y_coords = np.array([p1[1], p2_y, p3[1]])\n",
        "\n",
        "    slope, intercept, r_value, p_value, std_err = linregress(x_coords, y_coords)\n",
        "\n",
        "    plt.figure(figsize=(10, 6))\n",
        "    plt.scatter(x_coords, y_coords, color=\"red\")\n",
        "\n",
        "    x_line = np.array([min(x_coords), max(x_coords)])\n",
        "    y_line = slope * x_line + intercept\n",
        "    plt.plot(x_line, y_line, color=\"blue\")\n",
        "\n",
        "    plt.xlabel(\"X\")\n",
        "    plt.ylabel(\"Y\")\n",
        "    plt.title(\"Points and Line Plot\")\n",
        "    plt.show()\n",
        "\n",
        "interact(update_plot, p2_x=(5.5, 12.3, 0.1), p2_y=(-10.0, 10.0, 0.1))"
      ],
      "metadata": {
        "colab": {
          "base_uri": "https://localhost:8080/",
          "height": 714,
          "referenced_widgets": [
            "f14a5a4827a54202a9caba36933850db",
            "84eea0a3fce44ff7a0da145f521ceee4",
            "27afbfb10afe47eea2acbee493e199c2",
            "376ad1f5267346e8b82d83809a03c020",
            "3dc3f40295ea4249aee7d19a76f98242",
            "407e76e8176b4cca908590d237450fd6",
            "4e22174786944db19d1d3a520f3939f4",
            "9b7121ad65b74fa6887510b67d39b2d4",
            "ee00613bee9b495f8ba45c57876c6187",
            "69c9228bdd3c48d599a07935064df94a"
          ]
        },
        "id": "ufKM2Ia7aPXb",
        "outputId": "c019d6fc-637f-46fe-be3c-9dfe1891a60f"
      },
      "execution_count": 7,
      "outputs": [
        {
          "output_type": "display_data",
          "data": {
            "text/plain": [
              "interactive(children=(FloatSlider(value=8.9, description='p2_x', max=12.3, min=5.5), FloatSlider(value=0.0, de…"
            ],
            "application/vnd.jupyter.widget-view+json": {
              "version_major": 2,
              "version_minor": 0,
              "model_id": "f14a5a4827a54202a9caba36933850db"
            }
          },
          "metadata": {}
        },
        {
          "output_type": "execute_result",
          "data": {
            "text/plain": [
              "<function __main__.update_plot(p2_x, p2_y)>"
            ],
            "text/html": [
              "<div style=\"max-width:800px; border: 1px solid var(--colab-border-color);\"><style>\n",
              "      pre.function-repr-contents {\n",
              "        overflow-x: auto;\n",
              "        padding: 8px 12px;\n",
              "        max-height: 500px;\n",
              "      }\n",
              "\n",
              "      pre.function-repr-contents.function-repr-contents-collapsed {\n",
              "        cursor: pointer;\n",
              "        max-height: 100px;\n",
              "      }\n",
              "    </style>\n",
              "    <pre style=\"white-space: initial; background:\n",
              "         var(--colab-secondary-surface-color); padding: 8px 12px;\n",
              "         border-bottom: 1px solid var(--colab-border-color);\"><b>update_plot</b><br/>def update_plot(p2_x, p2_y)</pre><pre class=\"function-repr-contents function-repr-contents-collapsed\" style=\"\"><a class=\"filepath\" style=\"display:none\" href=\"#\">/content/&lt;ipython-input-7-f41bf7251449&gt;</a>&lt;no docstring&gt;</pre></div>"
            ]
          },
          "metadata": {},
          "execution_count": 7
        }
      ]
    }
  ]
}