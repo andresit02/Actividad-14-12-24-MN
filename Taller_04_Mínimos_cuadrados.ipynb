{
  "nbformat": 4,
  "nbformat_minor": 0,
  "metadata": {
    "colab": {
      "provenance": [],
      "authorship_tag": "ABX9TyO5xgzJXqDNcVUAFnkLGO5x",
      "include_colab_link": true
    },
    "kernelspec": {
      "name": "python3",
      "display_name": "Python 3"
    },
    "language_info": {
      "name": "python"
    },
    "widgets": {
      "application/vnd.jupyter.widget-state+json": {
        "d7d13bb920ac4f88878c7d546d09edb3": {
          "model_module": "@jupyter-widgets/controls",
          "model_name": "VBoxModel",
          "model_module_version": "1.5.0",
          "state": {
            "_dom_classes": [
              "widget-interact"
            ],
            "_model_module": "@jupyter-widgets/controls",
            "_model_module_version": "1.5.0",
            "_model_name": "VBoxModel",
            "_view_count": null,
            "_view_module": "@jupyter-widgets/controls",
            "_view_module_version": "1.5.0",
            "_view_name": "VBoxView",
            "box_style": "",
            "children": [
              "IPY_MODEL_14db2dffcaa44ecbb6c40b3df5590f2d",
              "IPY_MODEL_25c1f4f08b204abda9513e739c2033cf",
              "IPY_MODEL_01786a681fc64190ae0410b00a1a375a"
            ],
            "layout": "IPY_MODEL_0692cd5adfbf45b78490718c423690fe"
          }
        },
        "14db2dffcaa44ecbb6c40b3df5590f2d": {
          "model_module": "@jupyter-widgets/controls",
          "model_name": "FloatSliderModel",
          "model_module_version": "1.5.0",
          "state": {
            "_dom_classes": [],
            "_model_module": "@jupyter-widgets/controls",
            "_model_module_version": "1.5.0",
            "_model_name": "FloatSliderModel",
            "_view_count": null,
            "_view_module": "@jupyter-widgets/controls",
            "_view_module_version": "1.5.0",
            "_view_name": "FloatSliderView",
            "continuous_update": true,
            "description": "p2_x",
            "description_tooltip": null,
            "disabled": false,
            "layout": "IPY_MODEL_02b248a14389498aa8afda921372908e",
            "max": 12.3,
            "min": 5.5,
            "orientation": "horizontal",
            "readout": true,
            "readout_format": ".2f",
            "step": 0.1,
            "style": "IPY_MODEL_f287569028c94ce28e7c888eae88128b",
            "value": 8.9
          }
        },
        "25c1f4f08b204abda9513e739c2033cf": {
          "model_module": "@jupyter-widgets/controls",
          "model_name": "FloatSliderModel",
          "model_module_version": "1.5.0",
          "state": {
            "_dom_classes": [],
            "_model_module": "@jupyter-widgets/controls",
            "_model_module_version": "1.5.0",
            "_model_name": "FloatSliderModel",
            "_view_count": null,
            "_view_module": "@jupyter-widgets/controls",
            "_view_module_version": "1.5.0",
            "_view_name": "FloatSliderView",
            "continuous_update": true,
            "description": "p2_y",
            "description_tooltip": null,
            "disabled": false,
            "layout": "IPY_MODEL_3fa77b24d3f9432b9bc8e061e1f593a4",
            "max": 10,
            "min": -10,
            "orientation": "horizontal",
            "readout": true,
            "readout_format": ".2f",
            "step": 0.1,
            "style": "IPY_MODEL_7b10e2b36332484aada826fec63b96fa",
            "value": 0
          }
        },
        "01786a681fc64190ae0410b00a1a375a": {
          "model_module": "@jupyter-widgets/output",
          "model_name": "OutputModel",
          "model_module_version": "1.0.0",
          "state": {
            "_dom_classes": [],
            "_model_module": "@jupyter-widgets/output",
            "_model_module_version": "1.0.0",
            "_model_name": "OutputModel",
            "_view_count": null,
            "_view_module": "@jupyter-widgets/output",
            "_view_module_version": "1.0.0",
            "_view_name": "OutputView",
            "layout": "IPY_MODEL_aa22aa2e54a242ab95a4fbc80b32e10f",
            "msg_id": "",
            "outputs": [
              {
                "output_type": "display_data",
                "data": {
                  "text/plain": "<Figure size 1000x600 with 1 Axes>",
                  "image/png": "iVBORw0KGgoAAAANSUhEUgAAA0wAAAIjCAYAAAAwSJuMAAAAOXRFWHRTb2Z0d2FyZQBNYXRwbG90bGliIHZlcnNpb24zLjguMCwgaHR0cHM6Ly9tYXRwbG90bGliLm9yZy81sbWrAAAACXBIWXMAAA9hAAAPYQGoP6dpAABYDklEQVR4nO3dd3iUVd7G8e8k9JKoLFV6AkgTEBVBUVQEXRui2BVsq1ixgw2wYe8NLIhgR+yrgApYVgFBioUqAoogiiQ0Kcm8f5xXdlGCgCTPTOb7ua65YJ7MJDc7rnp7fs85sXg8HkeSJEmS9CdpUQeQJEmSpERlYZIkSZKkAliYJEmSJKkAFiZJkiRJKoCFSZIkSZIKYGGSJEmSpAJYmCRJkiSpABYmSZIkSSqAhUmSJEmSCmBhkiTRoUMHOnToEHWMItejRw/q1q27Q75Xv379iMViO+R7FZZU/Zwl6e+wMElSEnr66aeJxWIbH2XKlKFhw4ZceOGFLFmypEizPPfcc9x3331F+jOLWocOHWjWrFnUMQpUt27dTf56qFKlCu3bt+fVV1/dId9/9erV9OvXj7Fjx+6Q7ydJycTCJElJ7MYbb2To0KE89NBDtGvXjkcffZS2bduyevXqbfo+o0aNYtSoUduVIRUK09a47rrrWLNmTWQ/v2XLlgwdOpShQ4dyxRVXsGjRIrp27cpjjz32t7/36tWr6d+/v4VJUkoqEXUASdL2O+yww9hzzz0BOPvss6lUqRL33HMPr7/+OieddNJWf59SpUoVVsSUUaJECUqUiO4fq7vuuiunnnrqxuenn3462dnZ3HvvvZx33nmR5ZKkZOcKkyQVIwcddBAA8+bNA2DDhg3cdNNNZGVlUbp0aerWrcs111zD2rVrN3nfH+9tGTt2LLFYjJdeeolbbrmFmjVrUqZMGQ4++GDmzJmzyfvefvtt5s+fv3Ec7H/vCXrwwQdp2rQp5cqVY+edd2bPPffkueee2+KfYd26ddxwww20bt2azMxMypcvT/v27RkzZswmr/vuu++IxWLcddddDBo0aOOfca+99mLixIl/+r6vvfYazZo1o0yZMjRr1myHjav9bnP3MMViMS688MKNP7t06dI0bdqUd99990/v/+GHHzjzzDOpWrXqxtc99dRT252nWrVqNG7ceONfCwX56aefOOuss6hatSplypShRYsWDBkyZOPXv/vuOypXrgxA//79N37O/fr12+5skpRMXGGSpGJk7ty5AFSqVAkIq05DhgzhuOOO4/LLL2f8+PEMGDCAb775ZqsKw2233UZaWhpXXHEFOTk53HHHHZxyyimMHz8egGuvvZacnBy+//577r33XgAqVKgAwOOPP87FF1/McccdxyWXXMJvv/3GtGnTGD9+PCeffHKBPzM3N5cnnniCk046iXPOOYcVK1bw5JNP0rlzZyZMmEDLli03ef1zzz3HihUrOPfcc4nFYtxxxx107dqVb7/9lpIlSwJh5PDYY4+lSZMmDBgwgF9++YUzzjiDmjVrbtv/wNvh448/ZsSIEZx//vlUrFiRBx54gGOPPZYFCxZs/JyWLFnCPvvss7FgVa5cmXfeeYezzjqL3NxcevXqtc0/d/369SxcuHDjz9icNWvW0KFDB+bMmcOFF15IvXr1ePnll+nRowfLly/nkksuoXLlyjz66KP07NmTY445hq5duwKw++67b9f/HpKUdOKSpKQzePDgOBB/77334kuXLo0vXLgw/sILL8QrVaoUL1u2bPz777+PT5kyJQ7Ezz777E3ee8UVV8SB+AcffLDx2gEHHBA/4IADNj4fM2ZMHIg3btw4vnbt2o3X77///jgQnz59+sZrhx9+eLxOnTp/ynj00UfHmzZtus1/tg0bNmzyM+PxePzXX3+NV61aNX7mmWduvDZv3rw4EK9UqVJ82bJlG6+//vrrcSD+5ptvbrzWsmXLePXq1ePLly/feG3UqFFxYLPZ/+iAAw74yz9L375943/8xyoQL1WqVHzOnDkbr02dOjUOxB988MGN184666x49erV4z///PMm7z/xxBPjmZmZ8dWrV2/xZ9epUyfeqVOn+NKlS+NLly6NT506NX7iiSfGgfhFF120yZ/jfz/n++67Lw7Ehw0btvHaunXr4m3bto1XqFAhnpubG4/H4/GlS5fGgXjfvn23mEOSiiNH8iQpiXXs2JHKlStTq1YtTjzxRCpUqMCrr77Krrvuyr///W8ALrvssk3ec/nllwPw9ttv/+X3P+OMMza5v6l9+/YAfPvtt3/53p122onvv/9+s+NxW5Kenr7xZ+bn57Ns2TI2bNjAnnvuyeTJk//0+hNOOIGdd965wIw//vgjU6ZMoXv37mRmZm583SGHHEKTJk22Kdv26NixI1lZWRuf77777mRkZGzMF4/HeeWVVzjyyCOJx+P8/PPPGx+dO3cmJydns3/uPxo1ahSVK1emcuXKtGjRgpdffpnTTjuN22+/vcD3/Pvf/6ZatWqb3O9WsmRJLr74YlauXMm4ceP+xp9ckooHR/IkKYk9/PDDNGzYkBIlSlC1alUaNWpEWlr4b2Hz588nLS2N7OzsTd5TrVo1dtppJ+bPn/+X37927dqbPP+9mPz6669/+d6rr76a9957j7333pvs7Gw6derEySefzL777vuX7x0yZAh33303M2bMYP369Ruv16tXb5sz/v7nbNCgwZ/e26hRo60qI3/HH/NByPh7vqVLl7J8+XIGDRrEoEGDNvs9fvrpp7/8OW3atOHmm28mFotRrlw5GjduzE477bTF98yfP58GDRps/Gvmd40bN974dUlKdRYmSUpie++998Zd8grydw5TTU9P3+z1eDz+l+9t3LgxM2fO5K233uLdd9/llVde4ZFHHuGGG26gf//+Bb5v2LBh9OjRgy5dunDllVdSpUoV0tPTGTBgwMZ7tHZUxqLwV/ny8/MBOPXUU+nevftmX7s19wv94x//oGPHjtuZUpJUEAuTJBVTderUIT8/n9mzZ29cMYCwwcDy5cupU6fODvk5Wypk5cuX54QTTuCEE05g3bp1dO3alVtuuYU+ffpQpkyZzb5n+PDh1K9fnxEjRmzyvfv27btd+X7/c86ePftPX5s5c+Z2fc8dqXLlylSsWJG8vLwiLzx16tRh2rRp5Ofnb7LKNGPGjI1fh79XuiUp2XkPkyQVU//85z8B/nSo7D333APA4YcfvkN+Tvny5cnJyfnT9V9++WWT56VKlaJJkybE4/FNxuz+6PcVmf9dIRo/fjyffvrpduWrXr06LVu2ZMiQIZvkHD16NF9//fV2fc8dKT09nWOPPZZXXnmFL7/88k9fX7p0aaH97H/+858sXryYF198ceO1DRs28OCDD1KhQgUOOOAAAMqVKwfA8uXLCy2LJCUqV5gkqZhq0aIF3bt3Z9CgQSxfvpwDDjiACRMmMGTIELp06cKBBx64Q35O69atefHFF7nsssvYa6+9qFChAkceeSSdOnWiWrVq7LvvvlStWpVvvvmGhx56iMMPP5yKFSsW+P2OOOIIRowYwTHHHMPhhx/OvHnzeOyxx2jSpAkrV67crowDBgzg8MMPZ7/99uPMM89k2bJlG8+I2trvuXTpUm6++eY/Xa9Xrx6nnHLKduX63W233caYMWNo06YN55xzDk2aNGHZsmVMnjyZ9957j2XLlv2t71+Qf/3rXwwcOJAePXowadIk6taty/Dhw/nkk0+47777Nn5OZcuWpUmTJrz44os0bNiQXXbZhWbNmtGsWbNCySVJicTCJEnF2BNPPEH9+vV5+umnefXVV6lWrRp9+vTZ7vG2zTn//POZMmUKgwcP5t5776VOnToceeSRnHvuuTz77LPcc889rFy5kpo1a3LxxRdz3XXXbfH79ejRg8WLFzNw4EBGjhxJkyZNGDZsGC+//DJjx47droyHHnooL7/8Mtdddx19+vQhKyuLwYMH8/rrr2/19/zpp5+4/vrr/3T94IMP/tuFqWrVqkyYMIEbb7yRESNG8Mgjj1CpUiWaNm26xV3u/q6yZcsyduxYevfuzZAhQ8jNzaVRo0YMHjyYHj16bPLaJ554gosuuohLL72UdevW0bdvXwuTpJQQiyfKXbGSJEmSlGC8h0mSJEmSCmBhkiRJkqQCWJgkSZIkqQAWJkmSJEkqgIVJkiRJkgpgYZIkSZKkAqTUOUz5+fksWrSIihUrEovFoo4jSZIkKSLxeJwVK1ZQo0YN0tIKXkdKqcK0aNEiatWqFXUMSZIkSQli4cKF1KxZs8Cvp1RhqlixIhD+R8nIyIg4jSRJkqSo5ObmUqtWrY0doSApVZh+H8PLyMiwMEmSJEn6y1t13PRBkiRJkgpgYZIkSZKkAliYJEmSJKkAFiZJkiRJKoCFSZIkSZIKYGGSJEmSpAJYmCRJkiSpABYmSZIkSSqAhUmSJEmSCmBhkiRJkqQCWJgkSZIkqQAWJkmSJEkqgIVJkiRJkgpQIuoAKSkvDz76CH78EapXh/btIT096lSSJEmS/sDCVNRGjIBLLoHvv//vtZo14f77oWvX6HJJkiRJ+hNH8orSiBFw3HGbliWAH34I10eMiCaXJEmSpM2yMBWVvLywshSP//lrv1/r1Su8TpIkSVJCsDAVlY8++vPK0v+Kx2HhwvA6SZIkSQnBwlRUfvxxx75OkiRJUqGzMBWV6tV37OskSZIkFToLU1Fp3z7shheLbf7rsRjUqhVeJ0mSJCkhWJiKSnp62Doc/lyafn9+332exyRJkiQlEAtTUeraFYYPh1133fR6zZrhuucwSZIkSQnFg2uLWteucPTRYTe8H38M9yy1b+/KkiRJkpSALExRSE+HDh2iTiFJkiTpLyTNSN6jjz7K7rvvTkZGBhkZGbRt25Z33nkn6liSJEmSirGkKUw1a9bktttuY9KkSXz++eccdNBBHH300Xz11VdRR5MkSZJUTMXi8Xg86hDba5ddduHOO+/krLPO2qrX5+bmkpmZSU5ODhkZGYWcTpIkSVKi2tpukJT3MOXl5fHyyy+zatUq2rZtW+Dr1q5dy9q1azc+z83NLYp4kiRJkoqJpBnJA5g+fToVKlSgdOnSnHfeebz66qs0adKkwNcPGDCAzMzMjY9atWoVYVpJkiRJyS6pRvLWrVvHggULyMnJYfjw4TzxxBOMGzeuwNK0uRWmWrVqOZInSZIkpbitHclLqsL0Rx07diQrK4uBAwdu1eu9h0mSJEkSbH03SKqRvD/Kz8/fZAVJkiRJknakpNn0oU+fPhx22GHUrl2bFStW8NxzzzF27FhGjhwZdTRJkiRJxVTSFKaffvqJ008/nR9//JHMzEx23313Ro4cySGHHBJ1NEmSJEnFVNIUpieffDLqCJIkSZJSTFLfwyRJkiRJhcnCJEmSJEkFsDBJkiRJUgEsTJIkSZJUAAuTJEmSJBXAwiRJkiRJBbAwSZIkSVIBLEySJEmSVAALkyRJkiQVwMIkSZIkSQWwMEmSJElSASxMkiRJklQAC5MkSZIkFcDCFJG8vKgTSJIkSforFqYIxOPwz3/CuefCjz9GnUaSJElSQSxMEZg0CUaNgkGDoEED6NcPVq6MOpUkSZKkP7IwRWDPPeHDD6FNG1i1Cvr3h+xseOwx2LAh6nSSJEmSfmdhikj79vDpp/DSS5CVBUuWQM+e0KwZvP56GNuTJEmSFC0LU4RiMejWDb7+Gh54ACpVgpkzoUsXOOAAGD8+6oSSJElSarMwJYBSpeCii2DuXOjTB8qUgY8+gn32geOPD9clSZIkFT0LUwLJzIRbb4XZs6FHj7AC9fLL0LgxXHIJ/Pxz1AklSZKk1GJhSkA1a8LgwfDFF9C5M6xfH0b2srLgtttgzZqoE0qSJEmpwcKUwFq0gHffDVuQt2wJublhZK9hQxgyxMNvJUmSpMJmYUoChxwSzm565hmoVQu+/z6M7LVuHcqUJEmSpMJhYUoSaWlw2mkwaxbcfnu432nq1DCy16kTTJkSdUJJkiSp+LEwJZkyZeCqq8LOeb16QcmSMHo07LEHdO8OCxZEnVCSJEkqPixMSapSJbj3XpgxA048MRx0+8wz4f6mq6+G5cujTihJkiQlPwtTkqtfH55/Phxyu//+sHYt3HEHZGfD/ffDunVRJ5QkSZKSl4WpmNh7bxg7Ft58M5zb9MsvYWSvcWN48cWwAiVJkiRp21iYipFYDI44AqZNg0GDoFo1+PbbMLLXpg18+GHUCSVJkqTkYmEqhkqUgHPOgdmzoX9/KF8eJk6EAw6Ao46Cb76JOqEkSZKUHCxMxViFCnDDDTBnDpx3HqSnh5G9Zs3g3HNh8eKoE0qSJEmJzcKUAqpVg0cfhS+/hKOPhvz8MLKXnQ39+sHKlVEnlCRJkhKThSmF7LYbvPZauJepTRtYtSqM7GVnw8CBsGFD1AklSZKkxGJhSkHt28Onn8JLL0FWFixZEkb2mjeH1193Rz1JkiTpdxamFBWLQbdu8PXX4bymSpXCIbhduoTNIcaPjzqhJEmSFD0LU4orVQouvhjmzoXevaFMGfjoI9hnHzjhhHBdkiRJSlUWJgGQmQkDBsCsWdCjR1iBeumlcPBtr17w889RJ5QkSZKKnoVJm6hVCwYPhi++gM6dYf36MLKXlQW33QZr1kSdUJIkSSo6FiZtVosW8O67MGpU+H1uLvTpAw0bwpAhkJcXdUJJkiSp8FmYtEWHHAKTJ8Mzz4TVp++/DyN7rVuHMiVJkiQVZxYm/aW0NDjtNJg5E26/PdzvNHVqGNnr3Dn8XpIkSSqOLEzaamXLwlVXhZ3zevWCkiXDKlOrVtC9OyxcGHVCSZIkaceyMGmbVaoE994bzm064YRw0O0zz0CDBmFr8uXLo04oSZIk7RgWJm23+vXhhRfCIbf77w9r14aRvezssLPeunVRJ5QkSZL+nqQpTAMGDGCvvfaiYsWKVKlShS5dujBz5syoYwnYe28YOxbeeCOc2/TLL2Fkr3HjcJZTPB51QkmSJGn7JE1hGjduHBdccAGfffYZo0ePZv369XTq1IlVq1ZFHU2Eg26PPBKmTYOBA6FaNfj22zCyt88+8OGHUSeUJEmStl0sHk/O//6/dOlSqlSpwrhx49h///236j25ublkZmaSk5NDRkZGISdMbStXwt13w513wu+d9qijwuG3jRtHm02SJEna2m6QNCtMf5STkwPALrvsUuBr1q5dS25u7iYPFY0KFaBvX5gzB849F9LTw8hes2bh+eLFUSeUJEmS/lpSFqb8/Hx69erFvvvuS7NmzQp83YABA8jMzNz4qFWrVhGmFITRvMceg+nT4eijIT8fBg0KG0P06xdWoiRJkqRElZQjeT179uSdd97h448/pmbNmgW+bu3ataxdu3bj89zcXGrVquVIXoQ+/BCuvBImTAjPq1aF/v3hrLOgRIlos0mSJCl1FNuRvAsvvJC33nqLMWPGbLEsAZQuXZqMjIxNHorW/vvDZ5+F3fOysmDJEjjvPGjePIzsJV99lyRJUnGWNIUpHo9z4YUX8uqrr/LBBx9Qr169qCNpO8Vi0K0bfP11OK+pUqVwCO7RR0OHDv9dfZIkSZKiljSF6YILLmDYsGE899xzVKxYkcWLF7N48WLWrFkTdTRtp1Kl4OKLw8YQvXtDmTJhZK9Nm7Ad+dy5USeUJElSqkuae5hisdhmrw8ePJgePXps1fdwW/HEtnAhXH89PPNMGM0rWRLOPz9cq1Qp6nSSJEkqTra2GyRNYdoRLEzJYepUuPpqGDkyPM/MhD59wmpU2bLRZpMkSVLxUGw3fVDx16IFvPsujBoVfp+TE0b2GjUKq095eVEnlCRJUqqwMClhHXIITJ4MQ4ZArVphZK97d2jdOpQpSZIkqbBZmJTQ0tLg9NNh5ky47TbIyAgje507h8fUqVEnlCRJUnFmYVJSKFs23Nc0dy706hU2hBg1Clq1gh49wuqTJEmStKNZmJRU/vEPuPde+OabsPV4PB5G9ho2DPc55eREnVCSJEnFiYVJSSkrC154AcaPh/bt4bff4Pbbw/X774d166JOKEmSpOLAwqSktvfeMG4cvP467LYb/PJLGNlr3BheeimsQEmSJEnby8KkpBeLwVFHwfTpMHAgVK0K334bRvb22Qc++ijqhJIkSUpWFiYVGyVKwL/+BXPmQL9+UL48TJgA++8PRx8NM2ZEnVCSJEnJxsKkYqdCBejbNxSnc8+F9HR44w1o1gzOOw8WL446oSRJkpKFhUnFVrVq8NhjYVTvqKMgLy+M7GVnQ//+sHJl1AklSZKU6CxMKvYaNw6bQowbFzaJWLUqjOw1aACDBsGGDVEnlCRJUqKyMCll7L8/fPYZvPgi1K8fRvPOPRd23x3efNMd9SRJkvRnFiallFgMjj8+HHx7//1QqVL4/VFHQYcOYZMISZIk6XcWJqWkUqXg4ovDxhBXXw2lS8OHH0KbNnDiiTB3btQJJUmSlAgsTEppO+0Et90Gs2ZB9+5hBerFF8N9T716hYNwJUmSlLosTBJQuzY8/TRMngydOsH69WFkLysLbr8d1qyJOqEkSZKiYGGS/kfLljByZHi0aAE5OdC7NzRqBM88A/n5USeUJElSUbIwSZvRqRNMmgRDhkCtWrBwYRjZ22MPGD066nSSJEkqKhYmqQDp6XD66TBzZrjPKSMDpk4NZapz5/B7SZIkFW8WJukvlC0bdtKbOxcuuQRKloRRo6BVK+jRI6w+SZIkqXiyMElb6R//gPvuC+c2HX98OOh2yBBo2BD69An3O0mSJKl4sTBJ2ygrK2w9/tln0L49/PZbGNnLyoIHHoB166JOKEmSpB3FwiRtpzZtYNw4eP112G23cGbTJZeEM5xeeimsQEmSJCm5WZikvyEWg6OOgunT4bHHoGpV+PZbOOEE2Gcf+OijqBNKkiTp77AwSTtAiRJw7rkwZw706wfly8OECbD//tClC8yYEXVCSZIkbQ8Lk7QDVagAffvC7NmhQKWnh5G9Zs2gZ09YvDjqhJIkSdoWFiapEFSvHkb0pk8PI3t5eeF5djb07w8rV0adUJIkSVvDwiQVosaNwwrTuHGw996walUY2WvQAAYNgg0bok4oSZKkLbEwSUVg//3DNuQvvgj164fRvHPPhd13hzffdEc9SZKkRGVhkopILBYOvP3663AA7i67hENwjzoKDjwQJk6MOqEkSZL+yMIkFbHSpcN5TXPnwtVXh+e/j+ydeGLYllySJEmJwcIkRWSnneC222DWLDj99LAC9eKL4RDcSy8NB+FKkiQpWhYmKWK1a8OQITB5MhxyCKxfH0b2srLgjjtgzZqoE0qSJKUuC5OUIFq2hFGjYOTIsBlETk4Y2WvUCIYOhfz8qBNKkiSlHguTlGA6dQqrTU8/DTVrwsKFYWSvdWsYPTrqdJIkSanFwiQloPR06N493N90222QkQFTpoQydeihMHVq1AklSZJSg4VJSmBly4axvLlzw856JUuGkb1WraBHj7D6JEmSpMJjYZKSwD/+ETaC+OabcJZTPB42imjYEPr0Cfc7SZIkacezMElJJCsrbD3+2WfQvj389lsY2cvKggcegHXrok4oSZJUvFiYpCTUpk047Pb118O5Tb/8Ekb2mjSBl18OK1CSJEn6+yxMUpKKxeCoo2D6dHjsMahaNdzrdPzx0LYtfPRR1AklSZKSn4VJSnIlSsC558KcOdC3L5QrB+PHw/77Q5cuMGNG1AklSZKSl4VJKiYqVIB+/UJx+te/IC0tjOw1awY9e8LixVEnlCRJSj4WJqmYqV4dBg6EL78MI3t5eWFkLzsbbrwRVq6MOqEkSVLySKrC9OGHH3LkkUdSo0YNYrEYr732WtSRpITVuHFYYRo7FvbaC1atCiN7DRrAoEGwYUPUCSVJkhJfUhWmVatW0aJFCx5++OGoo0hJ44ADwj1NL7wA9eqF0bxzz4Xdd4c333RHPUmSpC2JxePJ+a9LsViMV199lS5dumz1e3Jzc8nMzCQnJ4eMjIzCCyclqLVrw3jejTfCsmXh2gEHwJ13hlUoSZKkVLG13SCpVpi21dq1a8nNzd3kIaWy0qXDeU1z58LVV4fn48bB3nvDSSfBt99GnVCSJCmxFOvCNGDAADIzMzc+atWqFXUkKSHstBPcdhvMmgWnnx7OdHrhhXAI7qWXhoNwJUmSVMwLU58+fcjJydn4WLhwYdSRpIRSuzYMGQKTJ8Mhh8D69XDffZCVBXfcAWvWRJ1QkiQpWsW6MJUuXZqMjIxNHpL+rGVLGDUKRo4Mm0Hk5ISRvUaNYOhQyM+POqEkSVI0inVhkrRtOnUKq01PPw01a8LChWFkr3VreO+9qNNJkiQVvaQqTCtXrmTKlClMmTIFgHnz5jFlyhQWLFgQbTCpGElPh+7dw/1NAwZARgZMmRJG9g49FKZNizqhJElS0UmqbcXHjh3LgQce+Kfr3bt35+mnn/7L97utuLTtfv4Zbr4ZHnkk3OMUi4VCddNNYRVKkiQpGW1tN0iqwvR3WZik7Td3LvTpAy+/HJ6XKRN21Lv6asjMjDabJEnStvIcJkk7VFYWvPQSfPYZ7Lcf/PZbGNnLyoIHHoB166JOKEmStONZmCRtkzZt4MMP4bXXwi56v/wSDsNt0iSsPqXOmrUkSUoFFiZJ2ywWg6OPhi+/hMceg6pVw8je8cdD27bw8cdRJ5QkSdoxLEyStluJEnDuuTB7NvTtC+XKwfjx0L49dOkCM2ZEnVCSJOnvsTBJ+tsqVoR+/WDOHPjXvyAtDV5/HZo1g549YcmSqBNKkiRtHwuTpB2menUYOBCmT4cjj4S8vDCyl50NN94Iq1ZFnVCSJGnbWJgk7XBNmsAbb8DYsbDXXrByZRjZy86Gxx+HDRuiTihJkrR1LEySCs0BB4R7ml54AerVg8WLw8heixbw1lvuqCdJkhKfhUlSoYrF4IQT4Jtv4N57YZdd4Ouvw8jegQfCxIlRJ5QkSSqYhUlSkShdGnr1CtuPX3VVeD5uHOy9N5x0Enz7bdQJJUmS/szCJKlI7bQT3H47zJoFp58eVqBeeAF22w0uuywchCtJkpQoLEySIlG7NgwZApMmQceOsH59GNnLyoI774Tffos6oSRJkoVJUsRatYLRo2HkSNh9d8jJCSN7jRrB0KGQnx91QkmSlMosTJISQqdOMHkyPP001KwJCxaEkb3WreG996JOJ0mSUpWFSVLCSE+H7t3D/U0DBkBGBkyZAoccAocdBtOmRZ1QkiSlGguTpIRTtiz07g1z5sDFF0OJEvDuu9CyJZxxBnz/fdQJJUlSqrAwSUpYlSvD/feHM5y6dQsH3T79NDRoANdcE+53kiRJKkwWJkkJLzsbXnoJPvsM9tsv7KA3YEC4/uCDsG5d1AklSVJxZWGSlDTatIEPP4TXXgu76P38cxjZa9oUhg8PK1CSJEk7koVJUlKJxeDoo+HLL+HRR6FKlXCvU7du0K4dfPxx1AklSVJxYmGSlJRKlIDzzgtlqW9fKFcujOy1bw/HHAMzZ0adUJIkFQcWJklJrWJF6NcvFKd//QvS0sLIXtOmcP75sGRJ1AklSVIyszBJKhaqV4eBA2H6dDjySMjLCyN72dlw442walXUCSVJUjKyMEkqVpo0gTfegDFjYM89YeXKMLLXoAE88QRs2BB1QkmSlEwsTJKKpQ4dYPx4eOEFqFcPfvwRzjkHWrSAt95yRz1JkrR1LEySiq20NDjhhHDw7b33wi67wNdfh5G9gw6Czz+POqEkSUp0FiZJxV7p0tCrF8ydC1ddFZ6PHQt77QUnnQTz5kWdUJIkJSoLk6SUsdNOcPvtMGsWnHZaONPphRfCIbiXXQbLlkWdUJIkJRoLk6SUU7s2PPMMTJoEHTvC+vVhZC8rC+68E377LeqEkiQpUViYJKWsVq1g1Ch4911o3hyWLw8je40awbBhkJ8fdUJJkhQ1C5OklBaLQefO8MUXMHgw7LorLFgQRvb23BPeey/qhJIkKUoWJkkC0tOhRw+YPRtuvRUqVgwl6pBD4LDDYNq0qBNKkqQoWJgk6X+ULQt9+oQd9S6+GEqUCCN7LVvCmWfC999HnVCSJBUlC5MkbUblynD//eEMp27dwkG3gwdDw4Zw7bWQkxN1QkmSVBQsTJK0BdnZ8NJL8OmnsN9+sGZNGNnLzoYHH4R166JOKEmSCpOFSZK2wj77wIcfwmuvhV30fv45jOw1bQrDh4cVKEmSVPxYmCRpK8VicPTRMH06PPooVKkCc+aEkb127eCTT6JOKEmSdjQLkyRto5Il4bzzQlm64QYoVw4++yyM7HXtCjNnRp1QkiTtKBYmSdpOFStC//6hOJ1zDqSlwauvhjG988+HJUuiTihJkv4uC5Mk/U3Vq8OgQWFU78gjIS8vjOxlZ8NNN8GqVVEnlCRJ28vCJEk7SJMm8MYbMGYM7LknrFwZRvYaNIAnnoANG6JOKEmStpWFSZJ2sA4dYPx4eP55qFcPfvwxjOy1bAlvv+2OepIkJRMLkyQVgrQ0OPHEcPDtPffAzjvDV1/BEUfAQQfB559HnVCSJG0NC5MkFaLSpeHSS2HuXLjqqvB87FjYay84+WSYNy/qhJIkaUssTJJUBHbeGW6/PWw5ftpp4Uyn55+H3XaDyy6DZcuiTpjC8vJCi33++fBrXl7UiSRJCSTpCtPDDz9M3bp1KVOmDG3atGHChAlRR5KkrVanDjzzDEyaBAcfDOvWwb33QlYW3Hkn/PZb1AlTzIgRULcuHHhgWPI78MDwfMSIqJNJkhJEUhWmF198kcsuu4y+ffsyefJkWrRoQefOnfnpp5+ijiZJ26RVKxg9Gt59F5o3h+XLw8heo0YwbBjk50edMAWMGAHHHQfff7/p9R9+CNctTZIkIBaPJ89+TW3atGGvvfbioYceAiA/P59atWpx0UUX0bt37798f25uLpmZmeTk5JCRkVHYcSVpq+TlwdChcN114d/VIRSqO+8Mq1AqBHl5YSXpj2Xpd7EY1KwZbjJLTy/SaJKkorG13SBpVpjWrVvHpEmT6Nix48ZraWlpdOzYkU8//XSz71m7di25ubmbPCQp0aSnQ48eMGsW3HorVKwIX3wBHTvCYYeFA3G1g330UcFlCcLe7wsXhtdJklJa0hSmn3/+mby8PKpWrbrJ9apVq7J48eLNvmfAgAFkZmZufNSqVasookrSdilXDvr0CTvqXXQRlCgRRvZatIAzz/zv6pN2gB9/3LGvkyQVW0lTmLZHnz59yMnJ2fhYuHBh1JEk6S9VrgwPPBDOcDruuLDYMXgwNGgA114LLpbvANWr79jXSZKKraQpTP/4xz9IT09nyZIlm1xfsmQJ1apV2+x7SpcuTUZGxiYPSUoW2dnw8svw6aew776wZk0Y2cvKgoceCjvsaTu1bx/uUYrFNv/1WAxq1QqvkySltKQpTKVKlaJ169a8//77G6/l5+fz/vvv07Zt2wiTSVLh2mefcCvNq69Cw4bw889hZK9pU3jllbACpW2Ung733x9+/8fS9Pvz++5zwwdJUvIUJoDLLruMxx9/nCFDhvDNN9/Qs2dPVq1axRlnnBF1NEkqVLEYdOkCX34Jjz4KVarAnDlhZK9dO/jkk6gTJqGuXWH4cNh1102v16wZrnftGk0uSVJCSaptxQEeeugh7rzzThYvXkzLli154IEHaNOmzVa9123FJRUXK1bAXXeFx+rV4doxx8CAAeEsJ22DvLywhPfjj+GepfbtXVmSpBSwtd0g6QrT32FhklTcLFoE/frBk0+Gw27T0+Hcc+GGG+APm4pKkqT/UezOYZIk/VmNGjBoEEybBkccERZLHnkkbBhx002walXUCSVJSm4WJkkqBpo2hTffhDFjYM89YeXKsMrUoAE88QRs2BB1QkmSkpOFSZKKkQ4dYPx4eP55qFcv3JZzzjnQsiW8/bY76kmStK0sTJJUzKSlwYknhoNv77kHdt4ZvvoqjOwdfDB8/nnUCSVJSh4WJkkqpkqXhksvhblz4corw/MxY2CvveDkk2HevKgTSpKU+CxMklTM7bwz3HEHzJwJp50Wrj3/POy2G1x+OSxbFm0+SZISmYVJklJEnTrwzDMweXIYzVu3LozsZWWF85x++y3qhJIkJR4LkySlmFatYPRoeOcdaN4cli8PI3u77QbPPhvOc5IkSYGFSZJSUCwGhx4KX3wBTz0Fu+4K8+fDqaeGe5w++CDqhJIkJQYLkySlsPR0OOMMmDULbr0VKlb878jeP/8J06dHnVCSpGhZmCRJlCsHffqEHfUuughKlAgjey1bwllnwQ8/RJ1QkqRoWJgkSRtVrgwPPBDOcDruuHA/01NPQYMGcO21kJsbdUJJkoqWhUmS9CfZ2fDyy/Dpp7DvvrBmTRjZy8qChx6C9eujTihJUtGwMEmSCrTPPvDRR/Dqq9CwIfz8cxjZa9oUXnkF4vGoE0qSVLgsTJKkLYrFoEsX+PJLeOQRqFIFZs8OI3v77guffBJ1QkmSCo+FSZK0VUqWhJ49Yc4cuP76sFHEp5/CfvtB164wc2bUCSVJ2vEsTJKkbVKxItx4Y1hlOvtsSEsLI3tNm8IFF8BPP0WdUJKkHcfCJEnaLjVqwOOPw7RpcMQRkJcXRvaysuDmm2HVqqgTSpL091mYJEl/S9Om8Oab8MEH0Lo1rFwZRvYaNoQnnwxFSpKkZGVhkiTtEAceCBMmwPPPQ926sGhRGNlr0QLeftsd9SRJyWmrC9OiRYsKM4ckqRhIS4MTT4QZM+Cee2DnneGrr8LI3sEHw6RJUSeUJGnbbHVhatq0Kc8991xhZpEkFROlS8Oll8LcuXDlleH5mDGw555wyinw3XdRJ5QkaetsdWG65ZZbOPfcc+nWrRvLli0rzEySpGJi553hjjvCluOnnhquPfccNGoEV1wB/uNEkpTotrownX/++UybNo1ffvmFJk2a8OabbxZmLklSMVKnDgwdGkbyDj4Y1q2Du+8OO+rddRf89lvUCSVJ2rxYPL7tt+E+9NBDXHrppTRu3JgSJUps8rXJkyfvsHA7Wm5uLpmZmeTk5JCRkRF1HElKSfE4jBwJV10F06eHa3XqwC23wEknhfugJEkqbFvbDUoU+JUCzJ8/nxEjRrDzzjtz9NFH/6kwSZK0JbEYHHooHHIIPPMMXHcdzJ8fRvbuuQfuvBMOOijqlJIkBdu0wvT4449z+eWX07FjRwYOHEjlypULM9sO5wqTJCWe1avhvvvgtttgxYpw7bDDwr1PzZpFGk2SVIxtbTfY6sGHQw89lKuvvpqHHnqIESNGJF1ZkiQlpnLl4Jprwo56F14IJUrAO++E85vOOgt++CHqhJKkVLbVhSkvL49p06Zx+umnF2YeSVKKqlwZHnwQvv4ajjsO8vPhqaegQYMwtpebG3VCSVIq2q5NH5KVI3mSlDw+/TSc4fTJJ+F55crQty/8619QsmS02SRJyW+Hj+RJklSU2raFjz6CESOgYUNYujSM7DVtGq6lzn/ukyRFycIkSUpYsRgccwx8+SU88ghUqQKzZ8Oxx8K++8J//hN1QklScWdhkiQlvJIloWdPmDMHrr8+bBTx6aehNB17LMyaFXVCSVJxZWGSJCWNihXhxhvDKtPZZ4dDbkeMgCZN4IIL4Kefok4oSSpuLEySpKRTowY8/jhMmwZHHAF5eWFkLysLbr45nO0kSdKOYGGSJCWtpk3hzTfhgw+gdWtYuTKM7DVoAE8+GYqUJEl/h4VJkpT0DjwQJkyA556DunVh0aIwsteiBfz73+6oJ0nafhYmSVKxkJYGJ50EM2bA3XfDzjvDV1/B4YfDwQfDpElRJ5QkJSMLkySpWCldGi67DObODQffli4NY8bAnnvCKafAd99FnVCSlEwsTJKkYmnnneGOO2DmzFCUIIzsNWoEV1wBy5ZFm0+SlBwsTJKkYq1OHRg2LIzkHXQQrFsXRvays8Ovv/0WdUJJUiKzMEmSUsIee8B774VNIJo1g19/DStNu+0Gzz4L+flRJ5QkJSILkyQpZcRicNhhMGUKPPVUOM9p/nw49VTYa6+wPbkkSf/LwiRJSjnp6XDGGTB7NtxyC1SsCJMnh930/vlP+PLLqBNKkhKFhUmSlLLKlYNrrgk76l14IZQoAe+8E85vOvts+OGHqBNKkqKWNIXplltuoV27dpQrV46ddtop6jiSpGKkcmV48EH4+ms49thwP9OTT0KDBnDddZCbG3VCSVJUkqYwrVu3jm7dutGzZ8+oo0iSiqkGDWD4cPjPf6BdO1izJozsZWfDww/D+vVRJ5QkFbWkKUz9+/fn0ksvpXnz5lFHkSQVc23bwscfw4gR0LAhLF0aRvaaNg3X4vGoE0qSikrSFKbtsXbtWnJzczd5SJK0NWIxOOaYsAHEww+Hsb3Zs8PI3n77hVUoSVLxV6wL04ABA8jMzNz4qFWrVtSRJElJpmRJOP98mDMn3M9UtmwoS/vuG8rTrFlRJ5QkFaZIC1Pv3r2JxWJbfMyYMWO7v3+fPn3IycnZ+Fi4cOEOTC9JSiUZGXDTTaE4nX02pKWF8bymTcO43k8/RZ1QklQYYvF4dJPYS5cu5Zdfftnia+rXr0+pUqU2Pn/66afp1asXy5cv3+afl5ubS2ZmJjk5OWRkZGzz+yVJ+t2XX0Lv3vD22+F5xYpw9dVw6aVhu3JJUmLb2m5Qoggz/UnlypWpXLlylBEkSdouzZrBW2/BmDFw5ZUwaVIY2XvkEbjxRujRIxyQK0lKbklzD9OCBQuYMmUKCxYsIC8vjylTpjBlyhRWrlwZdTRJUgo78ECYMAGeew7q1oVFi8LIXsuW8O9/u6OeJCW7SEfytkWPHj0YMmTIn66PGTOGDh06bNX3cCRPklSY1q4NO+rdfDP8+mu4dtBBcMcd0Lp1tNkkSZva2m6QNIVpR7AwSZKKwq+/wq23wgMPwLp14drJJ4dDcOvWjTSaJOn/bW03SJqRPEmSksXOO8Odd8LMmXDKKeHac89Bo0ZwxRX/XX2SJCU+C5MkSYWkbl0YNixsCHHQQWG16e67ISsr/Lp2bdQJJUl/xcIkSVIh22MPeO+9sAlEs2ZhhemKK2C33cLKU35+1AklSQWxMEmSVARiMTjsMJgyBZ58EmrUgO++CyN7e+8dtieXJCUeC5MkSUUoPR3OPBNmzw6bQFSs+N+RvcMPDwfiSpISh4VJkqQIlCsH11wDc+bAhRdCiRJhZK9Fi3CO0w8/RJ1QkgQWJkmSIlWlCjz4IHz1FRx7bLif6cknoUEDuP56yM2NOqEkpTYLkyRJCaBhQxg+HD75BNq1gzVrwgG42dnwyCOwfn3UCSUpNVmYJElKIO3awccfw4gRYZVp6VK44AJo2jRcS53j5iUpMViYJElKMLEYHHNMGNN7+GGoXDlsEnHssbDffvCf/0SdUJJSh4VJkqQEVbIknH9+2BjiuuugbNlQlvbdF447LpQoSVLhsjBJkpTgMjLgpptCQTrrLEhLg1degSZNwg57P/0UdUJJKr4sTJIkJYldd4UnnoCpU+Gf/4QNG8LIXnZ2ONNp9eqoE0pS8WNhkiQpyTRrBm+/De+/D3vsAStWhJG9Bg3gqacgLy/qhJJUfFiYJElKUgcdBBMnwrPPQp06sGhRGNlr2RLeeccd9SRpR7AwSZKUxNLS4OSTYeZMuOsu2Gkn+PLLMLLXsSNMnhx1QklKbhYmSZKKgdKl4fLLYe5cuOIKKFUKPvgAWreGU0+F776LOqEkJScLkyRJxcguu8Cdd4YVp1NOCdeefRYaNYIrr4Rff402nyQlGwuTJEnFUN26MGwYfP55uNdp3bowspeVBXffDWvXRp1QkpKDhUmSpGKsdWt47z3497/D7nq//hpG9nbbDZ5/HvLzo04oSYnNwiRJUjEXi8Fhh8GUKfDkk1CjRrin6eSTYe+9YcyYqBNKUuKyMEmSlCLS0+HMM2HWLLj5ZqhYESZNCiN7RxwBX30VdUJJSjwWJkmSUkz58nDttTBnDlxwAZQoEQ7C3X13OPvscJ6TJCmwMEmSlKKqVIGHHgorS8ceG+5nevJJyM6G66+HFSuiTihJ0bMwSZKU4ho2hOHD4ZNPoG1bWLMmjOxlZcEjj8D69VEnlKToWJgkSRIA7dqF0vTKK9CgASxdGkb2mjWDV1+FeDzqhJJU9CxMkiRpo1gMunYNY3oPPQSVK4dNIrp2hf32g//8J+qEklS0LEySJOlPSpYMq0tz5sB110HZsqEs7bsvHHcczJ4ddUJJKhoWJkmSVKCMDLjpplCQzjoL0tLCyF6TJnDRRWFsT5KKMwuTJEn6S7vuCk88AVOnwj//CRs2hJG9rCy49VZYvTrqhJJUOCxMkiRpqzVrFs5sev992GOPsPX4tdeGTSKeegry8qJOKEk7loVJkiRts4MOgokT4dlnoU6dcNjtWWdBy5bwzjvuqCep+LAwSZKk7ZKWBiefDDNmwF13wU47wZdfhpG9jh1h8uSoE0rS32dhkiRJf0uZMnD55TB3bvi1VCn44ANo3RpOOw3mz486oSRtPwuTJEnaIXbZJaw0zZwZVp4Ahg2Dhg3hyivh11+jzSdJ28PCJEmSdqi6dcO9TZ9/DgceCOvWhSKVlQX33ANr10adUJK2noVJkiQVitatw256b78NTZuGFabLL4fddoPnn4f8/KgTStJfszBJkqRCE4uFTSCmToUnn4QaNeC778LIXps2MHZs1AklacssTJIkqdClp8OZZ8KsWXDzzVChwn9H9o44Ar76KuqEkrR5FiZJklRkypcPB93OnQsXXAAlSoSRvd13h3POCec5SVIisTBJkqQiV6UKPPRQWFnq2jXcz/TEE5CdDddfDytWRJ1QkgILkyRJikzDhvDKK/DJJ9C2LaxZE0b2srLgkUdg/fqoE0pKdRYmSZIUuXbtQml65RVo0ACWLg0je82awauvQjwedUJJqcrCJEmSEkIsFsbzvvoqjOtVrhw2iejaFdq3h08/jTqhpFRkYZIkSQmlZMmwujRnTtggomzZsPrUrh0cdxzMnh11QkmpJCkK03fffcdZZ51FvXr1KFu2LFlZWfTt25d169ZFHU2SJBWSjIxwP9Ps2XDWWZCWFkb2mjSBiy4KY3uSVNiSojDNmDGD/Px8Bg4cyFdffcW9997LY489xjXXXBN1NEmSVMh23TXsoDdlSjgEd8OGMLKXlQW33gqrV0edUFJxFovHk/M2yjvvvJNHH32Ub7/9dqvfk5ubS2ZmJjk5OWRkZBRiOkmSVFg++ACuvBImTw7Pd90VbroJTj89HJArSVtja7tBUqwwbU5OTg677LLLFl+zdu1acnNzN3lIkqTkdtBBMHEiDBsGderADz/AmWdCq1bw7rvuqCdpx0rKwjRnzhwefPBBzj333C2+bsCAAWRmZm581KpVq4gSSpKkwpSWBqecAjNmwF13wU47wfTpcNhhcMgh/119kqS/K9LC1Lt3b2Kx2BYfM2bM2OQ9P/zwA4ceeijdunXjnHPO2eL379OnDzk5ORsfCxcuLMw/jiRJKmJlysDll8PcueHXUqXg/fehdWs47TSYPz/qhJKSXaT3MC1dupRffvlli6+pX78+pUqVAmDRokV06NCBffbZh6effpq0tG3re97DJElS8fbdd2Er8ueeC89Ll4aLL4Y+fWDnnSONJinBbG03SJpNH3744QcOPPBAWrduzbBhw0jfjrs6LUySJKWGSZPCxhBjxoTnO+8M110XzncqXTrabJISQ7Ha9OGHH36gQ4cO1K5dm7vuuoulS5eyePFiFi9eHHU0SZKUgFq3DqN5b78NTZvCr7+Gkb3ddoPnn4f8/KgTSkoWSVGYRo8ezZw5c3j//fepWbMm1atX3/iQJEnanFgsnNs0ZUo4x6l69TCyd/LJ0KYNjB0bcUBJSSEpClOPHj2Ix+ObfUiSJG1JiRJw1lkwe3Y4r6lCBfj8czjwQDjiCPjqq6gTSkpkSVGYJEmS/q7y5cN9THPnwvnnh0Nu334bdt8dzjkHFi2KOqGkRGRhkiRJKaVKFXj44bCy1LVruJ/piSegQQO44QZYsSLqhJISiYVJkiSlpEaN4JVX4OOPoW1bWL06jOxlZ8Ojj8L69VEnlJQILEySJCml7bsvfPJJKE8NGsBPP4WRvWbN4LXXwFumpdRmYZIkSSkvFgvjeV99BQ89BJUrw6xZcMwxsP/+8NlnUSeUFBULkyRJ0v8rWTIcbjtnDlx7LZQt+9+RvW7dwk57klKLhUmSJOkPMjLg5pvDKtOZZ4YVqOHDoUkTuPhiWLo06oSSioqFSZIkqQA1a8KTT8LUqXDYYbBhAzz4IGRlwa23ho0iJBVvFiZJkqS/0Lw5/Pvf8N57sMceYevxa6+Fhg1h8GDIy4s6oaTCYmGSJEnaSgcfDBMnwrBhULs2/PBDGNlr1Qrefdcd9aTiyMIkSZK0DdLS4JRTYOZMuPNO2GknmD49jOwdcgh88UXUCSXtSBYmSZKk7VCmDFxxBcydC5ddBqVKwfvvh5G9006D+fOjTihpR7AwSZIk/Q277AJ33w0zZsDJJ4drw4ZBo0Zw1VXw66/R5pP091iYJEmSdoB69eDZZ8M9Th06wNq1YWQvOxvuvTc8l5R8LEySJEk70J57wgcfwFtvhXObli0LI3uNG8MLL0B+ftQJJW0LC5MkSdIOFovB4YeH85ueeAKqV4d58+Ckk6BNGxg7NuqEkraWhUmSJKmQlCgBZ50Fs2fDTTdBhQrw+edw4IFw5JHw1VdRJ5T0VyxMkiRJhax8ebjuurCj3vnnQ3p6GNnbfXc45xz48ceoE0oqiIVJkiSpiFSpAg8/HFaWjjkm3M/0xBNhY4i+fWHFiqgTSvojC5MkSVIRa9QIRoyAjz+Gtm1h9Wq48cZQnB59FNavjzqhpN9ZmCRJkiKy777wyScwfHgoSz/9FEb2mjeH116DeDzqhJIsTJIkSRGKxeDYY+Hrr+HBB+Ef/4CZM8PI3v77w2efRZ1QSm0WJkmSpARQsiRceGHYGOLaa6Fs2f+O7HXrBnPmRJ1QSk0WJkmSpASSkQE33wyzZsGZZ4YVqOHDw8G3F18MS5dGnVBKLRYmSZKkBFSzJjz5ZDj89rDDYMOGMLKXnQ0DBoSNIiQVPguTJElSAmveHP79b3jvPWjVCnJz4ZproGFDGDwY8vKiTigVbxYmSZKkJHDwwfD55zBsGNSuDT/8EEb2WrWCd991Rz2psFiYJEmSkkRaGpxySthF7847YaedYPr0MLLXqRN88UXUCaXix8IkSZKUZMqUgSuuCDvqXXYZlCoVRvZat4bTT4f586NOKBUfFiZJkqQktcsucPfdMGMGnHRSGMsbOhQaNYKrroLly6NOKCU/C5MkSVKSq1cPnnsOJk6EDh1g7dowspeVBffeG55L2j4WJkmSpGJizz3hgw/grbegSRNYtiyM7DVuDC+8APn5USeUko+FSZIkqRiJxeDww8P5TY8/DtWrw7x5YWRvn31g3LioE0rJxcIkSZJUDJUoAWefDbNnw403QoUK/x3ZO/JI+PrrqBNKycHCJEmSVIyVLw/XXw9z5sD550N6ehjZa94c/vUv+PHHqBNKic3CJEmSlAKqVoWHH4avvoJjjgn3Mz3+OGRnQ9++sGJF1AmlxGRhkiRJSiGNGsGIEfDxx9C2LaxeHUb2GjSAxx6D9eujTiglFguTJElSCtp3X/jkExg+PKwyLVkCPXuGUb3XXgtnOkmyMEmSJKWsWAyOPTaM6T34IPzjHzBzZhjZ239/+OyzqBNK0bMwSZIkpbhSpeDCC8PGENdcA2XK/Hdkr1u3cF1KVRYmSZIkAZCZCbfcErYiP+OMsAI1fHg4BPeSS+Dnn6NOKBU9C5MkSZI2UbMmPPVUOPz20EPDRhAPPABZWTBgAKxZE3VCqehYmCRJkrRZzZvDO+/A6NHQqhXk5oaRvYYN4emnIS8v6oRS4bMwSZIkaYs6doTPP4ehQ6F2bfj++zCyt8ceMHKkO+qpeLMwSZIk6S+lpcGpp4Zd9O68E3baCaZNCyN7nTrBlClRJ5QKR9IUpqOOOoratWtTpkwZqlevzmmnncaiRYuijiVJkpRSypSBK64IO+dddlnYYe+998Jq0+mnw4IFUSeUdqykKUwHHnggL730EjNnzuSVV15h7ty5HHfccVHHkiRJSkmVKsHdd8OMGXDSSWEsb+jQcH/T1VfD8uVRJ5R2jFg8npxTp2+88QZdunRh7dq1lCxZcqvek5ubS2ZmJjk5OWRkZBRyQkmSpNQxcSJceSWMGxee77ILXH899OwJpUtHm03anK3tBkmzwvS/li1bxrPPPku7du22WJbWrl1Lbm7uJg9JkiTteHvtBWPGwFtvhXObli2DSy+Fxo3hhRfcGELJK6kK09VXX0358uWpVKkSCxYs4PXXX9/i6wcMGEBmZubGR61atYooqSRJUuqJxeDww8P5TY8/DtWrw7x5YWSvTZv/rj5JySTSwtS7d29isdgWHzNmzNj4+iuvvJIvvviCUaNGkZ6ezumnn86WJgr79OlDTk7OxsfChQuL4o8lSZKU0kqUgLPPhtmz4cYboUKFMLLXoQMcdRR8/XXUCaWtF+k9TEuXLuWXX37Z4mvq169PqVKl/nT9+++/p1atWvznP/+hbdu2W/XzvIdJkiSp6C1ZAv37w6BB4bDbtDQ466xwrXr1qNMpVW1tNyhRhJn+pHLlylSuXHm73pufnw+E+5QkSZKUuKpWhUcegUsugd694bXXwsjes8+GLcqvuAIqVow6pbR5SXEP0/jx43nooYeYMmUK8+fP54MPPuCkk04iKytrq1eXJEmSFK1GjeDVV+Gjj2CffWD16jCy16ABPPYYbNgQdULpz5KiMJUrV44RI0Zw8MEH06hRI8466yx23313xo0bR2n3qZQkSUoq++0H//kPvPwyZGeHkb2ePaFZM3j9dXfUU2JJ2nOYtof3MEmSJCWWdetg4MCw0vTzz+Fa+/Zw551hZz2psBTrc5gkSZJUPJQqBRddBHPmwDXXQJky/x3ZO/74cF2KkoVJkiRJkcvMhFtuCVuRn3FGONPp5ZfDIbiXXPLf1SepqFmYJEmSlDBq1oSnnoIpU+DQQ2H9enjgAcjKgttugzVrok6oVGNhkiRJUsLZfXd45x0YPRpatoTcXOjTBxo2hKefDuc5SUXBwiRJkqSE1bEjTJoEQ4dC7drw/fdhZG+PPWDkyKjTKRVYmCRJkpTQ0tLg1FNh5ky4445wv9O0aWFkr1OnML4nFRYLkyRJkpJCmTJw5ZUwdy5ceimULBlG9vbYA04/HRYsiDqhiiMLkyRJkpJKpUpwzz1hxemkk8JBt0OHhvubrr4ali+POqGKEwuTJEmSklK9evDcczBhAhxwAKxdG0b2srLgvvvCc+nvsjBJkiQpqe21F4wZA2++CY0bw7JlYWSvcWN48cWwAiVtLwuTJEmSkl4sBkccETaDGDQIqlWDefPgxBOhTRv48MOoEypZWZgkSZJUbJQoAeecA3PmwI03QoUKMHFiGNk76ij45puoEyrZWJgkSZJU7JQvD9dfH4pTz56Qnh5G9po1g3PPhR9/jDqhkoWFSZIkScVW1arwyCPw1VfQpQvk54eRvQYNoF8/WLky6oRKdBYmSZIkFXuNGsGrr8JHH8E++8CqVdC/P2Rnw2OPwYYNUSdUorIwSZIkKWXstx/85z/w8sth+/ElS8LIXrNm8Prr7qinP7MwSZIkKaXEYnDccfD11/DAA/CPf4RDcLt0CZtDjB8fdUIlEguTJEmSUlKpUnDRRWFjiD59oEyZ/47sHX88zJ0bdUIlAguTJEmSUlpmJtx6K8yeDT16hBWol18OB99ecgn8/HPUCRUlC5MkSZIE1KwJgwfDlClw6KGwfn0Y2cvKgttugzVrok6oKFiYJEmSpP+x++7wzjswejS0bAm5uWFkr2FDGDIE8vKiTqiiZGGSJEmSNqNjR5g0CYYOhdq14fvvw8he69YwalTU6VRULEySJElSAdLS4NRTwy56d9wR7neaOhU6d4ZOncL4nrZSXh6MHQvPPx9+TZKlOguTJEmS9BfKlIErrww75116KZQsGUb29tgDuneHBQuiTpjgRoyAunXhwAPh5JPDr3XrhusJzsIkSZIkbaVKleCee2DGDDjxxHDQ7TPPhPubrr4ali+POmECGjEiHHz1/febXv/hh3A9wUuThUmSJEnaRvXrh8myCRPCYbdr14aRvexsuP9+WLcu6oQJIi8v7M0ej//5a79f69UrocfzLEySJEnSdtprLxgzBt58M5zb9Msv4d//GzeGF1/cfE9IKR999OeVpf8Vj8PCheF1CcrCJEmSJP0NsRgccQRMmwaDBkG1avDtt2Fkr00b+PDDqBNG6Mcfd+zrImBhkiRJknaAEiXgnHNgzhzo3x/Kl4eJE8PI3lFHwTffRJ0wAtWr79jXRcDCJEmSJO1A5cvDDTeEHfV69oT09DCy16wZnHsuLF4cdcIi1L491KwZluE2JxaDWrXC6xKUhUmSJEkqBFWrwiOPwJdfQpcukJ8fRvays6FfP1i5MuqERSA9PeyCAX8uTb8/v+++8LoEZWGSJEmSCtFuu8Grr4Z7mdq0gVWrwshedjYMHAgbNkSdsJB17QrDh8Ouu256vWbNcL1r12hybaVYPJ46e3fk5uaSmZlJTk4OGRkZUceRJElSionHQ0fo0yeM7EEoVLfdFu5zKmhyrVjIywu74f34Y7hnqX37SFeWtrYbWJgkSZKkIrZuXVhd6t8/bEUOoT/ceWdYhVLh29pu4EieJEmSVMRKlYKLLgqrTH36QJkyYfFln33ghBP+u/qk6FmYJEmSpIhkZsKtt8Ls2dCjRxjJe+mlcPBtr17w889RJ5SFSZIkSYpYzZoweDB88QV07gzr14fN5bKywv1Na9ZEnTB1WZgkSZKkBNGiBbz7LowaBS1bQm5uGNlr2BCGDAn7JqhoWZgkSZKkBHPIITBpEjzzTDjX9fvvw8he69ahTKnoWJgkSZKkBJSWBqedBrNmwe23h/udpk4NI3udO4ffq/BZmCRJkqQEVqYMXHVV2DmvVy8oWTKsMrVqBd27w8KFUScs3ixMkiRJUhKoVAnuvRdmzIATTwyH4D7zDDRoAL17w/LlUScsnixMkiRJUhKpXx+efx7Gj4f994e1a8PIXnZ22Flv3bqoExYvFiZJkiQpCe29N4wdC2++Gc5t+uWXMLLXuHE4yykejzph8WBhkiRJkpJULAZHHAHTpsGgQVCtGnz7LZxwAuyzD3z4YdQJk1/SFaa1a9fSsmVLYrEYU6ZMiTqOJEmSFLkSJeCcc2D2bOjfH8qXhwkT4IAD4Oij4Ztvok6YvJKuMF111VXUqFEj6hiSJElSwqlQAW64AebMgfPOg/R0eOMNaN48PF+8OOqEySepCtM777zDqFGjuOuuu6KOIkmSJCWsatXg0Ufhyy/DClNeHgwcGDaG6N8fVq6MOmHySJrCtGTJEs455xyGDh1KuXLltuo9a9euJTc3d5OHJEmSlCp22w1eey3cy9SmDaxaBf36heI0cCBs2BB1wsSXFIUpHo/To0cPzjvvPPbcc8+tft+AAQPIzMzc+KhVq1YhppQkSZISU/v28OmnYfe8rCxYsiSM6DVvHkb23FGvYJEWpt69exOLxbb4mDFjBg8++CArVqygT58+2/T9+/TpQ05OzsbHQo9BliRJUoqKxaBbN/j663BeU6VK4RDco4+GDh3CJhH6s1g8Hl2fXLp0Kb/88ssWX1O/fn2OP/543nzzTWKx2MbreXl5pKenc8oppzBkyJCt+nm5ublkZmaSk5NDRkbG38ouSZIkJbOcHLjtNrjvPvjtt3Dt+OPh1lvDKlRxt7XdINLCtLUWLFiwyf1HixYtonPnzgwfPpw2bdpQs2bNrfo+FiZJkiRpUwsXhp31hgwJo3klS8L558P114dVqOKqWBWmP/ruu++oV68eX3zxBS1bttzq91mYJEmSpM2bOhWuvhpGjgzPMzOhTx+4+GIoWzbabIVha7tBUmz6IEmSJKlwtWgB774Lo0ZBy5ZhZK93b2jUCJ55JmxNnoqSsjDVrVuXeDy+TatLkiRJkv7aIYfApEmhJNWqFUb2uneH1q1h9Oio0xW9pCxMkiRJkgpPWhqcdhrMnAm33x7G86ZOhU6doHPn8PtUYWGSJEmStFlly8JVV8HcudCrV9gQYtQoaNUKevQIq0/FnYVJkiRJ0hZVqgT33hvObTrhhLCb3pAh0LBhuM8pJyfqhIXHwiRJkiRpq9SvDy+8AOPHw/77h/Obbr89nNt0//2wbl3UCXc8C5MkSZKkbbL33jB2LLzxBjRuDL/8Ekb2GjeGl14KK1DFhYVJkiRJ0jaLxeDII2HaNBg4EKpVg2+/DSN7++wDH30UdcIdw8IkSZIkabuVKAH/+hfMng39+0P58jBhQhjZO/rocN9TMrMwSZIkSfrbKlSAG26AOXPgvPMgPT2M7DVrFp4vXhx1wu1jYZIkSZK0w1SrBo8+CtOnhxWmvLwwspedHVagVq6MOuG2sTBJkiRJ2uEaN4bXXoNx48ImEatWQb9+cMQRUSfbNhYmSZIkSYVm//3hs8/C7nlZWWE3vWRSIuoAkiRJkoq3WAy6dQsjeiVLRp1m21iYJEmSJBWJUqWiTrDtHMmTJEmSpAJYmCRJkiSpABYmSZIkSSqAhUmSJEmSCmBhkiRJkqQCWJgkSZIkqQAWJkmSJEkqgIVJkiRJkgpgYZIkSZKkAliYJEmSJKkAFiZJkiRJKoCFSZIkSZIKYGGSJEmSpAJYmCRJkiSpABYmSZIkSSqAhUmSJEmSCmBhkiRJkqQClIg6QFGKx+MA5ObmRpxEkiRJUpR+7wS/d4SCpFRhWrFiBQC1atWKOIkkSZKkRLBixQoyMzML/Hos/leVqhjJz89n0aJFVKxYkVgsFnWclJObm0utWrVYuHAhGRkZUcfR//NzSUx+LonLzyYx+bkkJj+XxOTnEsTjcVasWEGNGjVISyv4TqWUWmFKS0ujZs2aUcdIeRkZGSn9f85E5eeSmPxcEpefTWLyc0lMfi6Jyc+FLa4s/c5NHyRJkiSpABYmSZIkSSqAhUlFpnTp0vTt25fSpUtHHUX/w88lMfm5JC4/m8Tk55KY/FwSk5/LtkmpTR8kSZIkaVu4wiRJkiRJBbAwSZIkSVIBLEySJEmSVAALkyRJkiQVwMKkIvHDDz9w6qmnUqlSJcqWLUvz5s35/PPPo46V0urWrUssFvvT44ILLog6WkrLy8vj+uuvp169epQtW5asrCxuuukm3J8neitWrKBXr17UqVOHsmXL0q5dOyZOnBh1rJTy4YcfcuSRR1KjRg1isRivvfbaJl+Px+PccMMNVK9enbJly9KxY0dmz54dTdgU8lefy4gRI+jUqROVKlUiFosxZcqUSHKmoi19NuvXr+fqq6+mefPmlC9fnho1anD66aezaNGi6AInKAuTCt2vv/7KvvvuS8mSJXnnnXf4+uuvufvuu9l5552jjpbSJk6cyI8//rjxMXr0aAC6desWcbLUdvvtt/Poo4/y0EMP8c0333D77bdzxx138OCDD0YdLeWdffbZjB49mqFDhzJ9+nQ6depEx44d+eGHH6KOljJWrVpFixYtePjhhzf79TvuuIMHHniAxx57jPHjx1O+fHk6d+7Mb7/9VsRJU8tffS6rVq1iv/324/bbby/iZNrSZ7N69WomT57M9ddfz+TJkxkxYgQzZ87kqKOOiiBpYnNbcRW63r1788knn/DRRx9FHUVb0KtXL9566y1mz55NLBaLOk7KOuKII6hatSpPPvnkxmvHHnssZcuWZdiwYREmS21r1qyhYsWKvP766xx++OEbr7du3ZrDDjuMm2++OcJ0qSkWi/Hqq6/SpUsXIKwu1ahRg8svv5wrrrgCgJycHKpWrcrTTz/NiSeeGGHa1PHHz+V/fffdd9SrV48vvviCli1bFnm2VLelz+Z3EydOZO+992b+/PnUrl276MIlOFeYVOjeeOMN9txzT7p160aVKlVo1aoVjz/+eNSx9D/WrVvHsGHDOPPMMy1LEWvXrh3vv/8+s2bNAmDq1Kl8/PHHHHbYYREnS20bNmwgLy+PMmXKbHK9bNmyfPzxxxGl0v+aN28eixcvpmPHjhuvZWZm0qZNGz799NMIk0nJIycnh1gsxk477RR1lIRiYVKh+/bbb3n00Udp0KABI0eOpGfPnlx88cUMGTIk6mj6f6+99hrLly+nR48eUUdJeb179+bEE09kt912o2TJkrRq1YpevXpxyimnRB0tpVWsWJG2bdty0003sWjRIvLy8hg2bBiffvopP/74Y9TxBCxevBiAqlWrbnK9atWqG78mqWC//fYbV199NSeddBIZGRlRx0koJaIOoOIvPz+fPffck1tvvRWAVq1a8eWXX/LYY4/RvXv3iNMJ4Mknn+Swww6jRo0aUUdJeS+99BLPPvsszz33HE2bNmXKlCn06tWLGjVq+P+XiA0dOpQzzzyTXXfdlfT0dPbYYw9OOukkJk2aFHU0Sfpb1q9fz/HHH088HufRRx+NOk7CcYVJha569eo0adJkk2uNGzdmwYIFESXS/5o/fz7vvfceZ599dtRRBFx55ZUbV5maN2/OaaedxqWXXsqAAQOijpbysrKyGDduHCtXrmThwoVMmDCB9evXU79+/aijCahWrRoAS5Ys2eT6kiVLNn5N0p/9Xpbmz5/P6NGjXV3aDAuTCt2+++7LzJkzN7k2a9Ys6tSpE1Ei/a/BgwdTpUqVTW5kV3RWr15NWtqmf2tOT08nPz8/okT6o/Lly1O9enV+/fVXRo4cydFHHx11JAH16tWjWrVqvP/++xuv5ebmMn78eNq2bRthMilx/V6WZs+ezXvvvUelSpWijpSQHMlTobv00ktp164dt956K8cffzwTJkxg0KBBDBo0KOpoKS8/P5/BgwfTvXt3SpTwbweJ4Mgjj+SWW26hdu3aNG3alC+++IJ77rmHM888M+poKW/kyJHE43EaNWrEnDlzuPLKK9ltt90444wzoo6WMlauXMmcOXM2Pp83bx5Tpkxhl112oXbt2vTq1Yubb76ZBg0aUK9ePa6//npq1KixxV3B9Pf91eeybNkyFixYsPF8n9//I2q1atVc/StkW/psqlevznHHHcfkyZN56623yMvL23i/3y677EKpUqWiip144lIRePPNN+PNmjWLly5dOr7bbrvFBw0aFHUkxePxkSNHxoH4zJkzo46i/5ebmxu/5JJL4rVr146XKVMmXr9+/fi1114bX7t2bdTRUt6LL74Yr1+/frxUqVLxatWqxS+44IL48uXLo46VUsaMGRMH/vTo3r17PB6Px/Pz8+PXX399vGrVqvHSpUvHDz74YP/+VgT+6nMZPHjwZr/et2/fSHOngi19NvPmzdvs14D4mDFjoo6eUDyHSZIkSZIK4D1MkiRJklQAC5MkSZIkFcDCJEmSJEkFsDBJkiRJUgEsTJIkSZJUAAuTJEmSJBXAwiRJkiRJBbAwSZIkSVIBLEySJEmSVAALkySp2MvLy6Ndu3Z07dp1k+s5OTnUqlWLa6+9NqJkkqREF4vH4/GoQ0iSVNhmzZpFy5YtefzxxznllFMAOP3005k6dSoTJ06kVKlSESeUJCUiC5MkKWU88MAD9OvXj6+++ooJEybQrVs3Jk6cSIsWLaKOJklKUBYmSVLKiMfjHHTQQaSnpzN9+nQuuugirrvuuqhjSZISmIVJkpRSZsyYQePGjWnevDmTJ0+mRIkSUUeSJCUwN32QJKWUp556inLlyjFv3jy+//77qONIkhKcK0ySpJTxn//8hwMOOIBRo0Zx8803A/Dee+8Ri8UiTiZJSlSuMEmSUsLq1avp0aMHPXv25MADD+TJJ59kwoQJPPbYY1FHkyQlMFeYJEkp4ZJLLuHf//43U6dOpVy5cgAMHDiQK664gunTp1O3bt1oA0qSEpKFSZJU7I0bN46DDz6YsWPHst9++23ytc6dO7NhwwZH8yRJm2VhkiRJkqQCeA+TJEmSJBXAwiRJkiRJBbAwSZIkSVIBLEySJEmSVAALkyRJkiQVwMIkSZIkSQWwMEmSJElSASxMkiRJklQAC5MkSZIkFcDCJEmSJEkFsDBJkiRJUgH+DxZCvtQS3ggjAAAAAElFTkSuQmCC\n"
                },
                "metadata": {}
              }
            ]
          }
        },
        "0692cd5adfbf45b78490718c423690fe": {
          "model_module": "@jupyter-widgets/base",
          "model_name": "LayoutModel",
          "model_module_version": "1.2.0",
          "state": {
            "_model_module": "@jupyter-widgets/base",
            "_model_module_version": "1.2.0",
            "_model_name": "LayoutModel",
            "_view_count": null,
            "_view_module": "@jupyter-widgets/base",
            "_view_module_version": "1.2.0",
            "_view_name": "LayoutView",
            "align_content": null,
            "align_items": null,
            "align_self": null,
            "border": null,
            "bottom": null,
            "display": null,
            "flex": null,
            "flex_flow": null,
            "grid_area": null,
            "grid_auto_columns": null,
            "grid_auto_flow": null,
            "grid_auto_rows": null,
            "grid_column": null,
            "grid_gap": null,
            "grid_row": null,
            "grid_template_areas": null,
            "grid_template_columns": null,
            "grid_template_rows": null,
            "height": null,
            "justify_content": null,
            "justify_items": null,
            "left": null,
            "margin": null,
            "max_height": null,
            "max_width": null,
            "min_height": null,
            "min_width": null,
            "object_fit": null,
            "object_position": null,
            "order": null,
            "overflow": null,
            "overflow_x": null,
            "overflow_y": null,
            "padding": null,
            "right": null,
            "top": null,
            "visibility": null,
            "width": null
          }
        },
        "02b248a14389498aa8afda921372908e": {
          "model_module": "@jupyter-widgets/base",
          "model_name": "LayoutModel",
          "model_module_version": "1.2.0",
          "state": {
            "_model_module": "@jupyter-widgets/base",
            "_model_module_version": "1.2.0",
            "_model_name": "LayoutModel",
            "_view_count": null,
            "_view_module": "@jupyter-widgets/base",
            "_view_module_version": "1.2.0",
            "_view_name": "LayoutView",
            "align_content": null,
            "align_items": null,
            "align_self": null,
            "border": null,
            "bottom": null,
            "display": null,
            "flex": null,
            "flex_flow": null,
            "grid_area": null,
            "grid_auto_columns": null,
            "grid_auto_flow": null,
            "grid_auto_rows": null,
            "grid_column": null,
            "grid_gap": null,
            "grid_row": null,
            "grid_template_areas": null,
            "grid_template_columns": null,
            "grid_template_rows": null,
            "height": null,
            "justify_content": null,
            "justify_items": null,
            "left": null,
            "margin": null,
            "max_height": null,
            "max_width": null,
            "min_height": null,
            "min_width": null,
            "object_fit": null,
            "object_position": null,
            "order": null,
            "overflow": null,
            "overflow_x": null,
            "overflow_y": null,
            "padding": null,
            "right": null,
            "top": null,
            "visibility": null,
            "width": null
          }
        },
        "f287569028c94ce28e7c888eae88128b": {
          "model_module": "@jupyter-widgets/controls",
          "model_name": "SliderStyleModel",
          "model_module_version": "1.5.0",
          "state": {
            "_model_module": "@jupyter-widgets/controls",
            "_model_module_version": "1.5.0",
            "_model_name": "SliderStyleModel",
            "_view_count": null,
            "_view_module": "@jupyter-widgets/base",
            "_view_module_version": "1.2.0",
            "_view_name": "StyleView",
            "description_width": "",
            "handle_color": null
          }
        },
        "3fa77b24d3f9432b9bc8e061e1f593a4": {
          "model_module": "@jupyter-widgets/base",
          "model_name": "LayoutModel",
          "model_module_version": "1.2.0",
          "state": {
            "_model_module": "@jupyter-widgets/base",
            "_model_module_version": "1.2.0",
            "_model_name": "LayoutModel",
            "_view_count": null,
            "_view_module": "@jupyter-widgets/base",
            "_view_module_version": "1.2.0",
            "_view_name": "LayoutView",
            "align_content": null,
            "align_items": null,
            "align_self": null,
            "border": null,
            "bottom": null,
            "display": null,
            "flex": null,
            "flex_flow": null,
            "grid_area": null,
            "grid_auto_columns": null,
            "grid_auto_flow": null,
            "grid_auto_rows": null,
            "grid_column": null,
            "grid_gap": null,
            "grid_row": null,
            "grid_template_areas": null,
            "grid_template_columns": null,
            "grid_template_rows": null,
            "height": null,
            "justify_content": null,
            "justify_items": null,
            "left": null,
            "margin": null,
            "max_height": null,
            "max_width": null,
            "min_height": null,
            "min_width": null,
            "object_fit": null,
            "object_position": null,
            "order": null,
            "overflow": null,
            "overflow_x": null,
            "overflow_y": null,
            "padding": null,
            "right": null,
            "top": null,
            "visibility": null,
            "width": null
          }
        },
        "7b10e2b36332484aada826fec63b96fa": {
          "model_module": "@jupyter-widgets/controls",
          "model_name": "SliderStyleModel",
          "model_module_version": "1.5.0",
          "state": {
            "_model_module": "@jupyter-widgets/controls",
            "_model_module_version": "1.5.0",
            "_model_name": "SliderStyleModel",
            "_view_count": null,
            "_view_module": "@jupyter-widgets/base",
            "_view_module_version": "1.2.0",
            "_view_name": "StyleView",
            "description_width": "",
            "handle_color": null
          }
        },
        "aa22aa2e54a242ab95a4fbc80b32e10f": {
          "model_module": "@jupyter-widgets/base",
          "model_name": "LayoutModel",
          "model_module_version": "1.2.0",
          "state": {
            "_model_module": "@jupyter-widgets/base",
            "_model_module_version": "1.2.0",
            "_model_name": "LayoutModel",
            "_view_count": null,
            "_view_module": "@jupyter-widgets/base",
            "_view_module_version": "1.2.0",
            "_view_name": "LayoutView",
            "align_content": null,
            "align_items": null,
            "align_self": null,
            "border": null,
            "bottom": null,
            "display": null,
            "flex": null,
            "flex_flow": null,
            "grid_area": null,
            "grid_auto_columns": null,
            "grid_auto_flow": null,
            "grid_auto_rows": null,
            "grid_column": null,
            "grid_gap": null,
            "grid_row": null,
            "grid_template_areas": null,
            "grid_template_columns": null,
            "grid_template_rows": null,
            "height": null,
            "justify_content": null,
            "justify_items": null,
            "left": null,
            "margin": null,
            "max_height": null,
            "max_width": null,
            "min_height": null,
            "min_width": null,
            "object_fit": null,
            "object_position": null,
            "order": null,
            "overflow": null,
            "overflow_x": null,
            "overflow_y": null,
            "padding": null,
            "right": null,
            "top": null,
            "visibility": null,
            "width": null
          }
        }
      }
    }
  },
  "cells": [
    {
      "cell_type": "markdown",
      "metadata": {
        "id": "view-in-github",
        "colab_type": "text"
      },
      "source": [
        "<a href=\"https://colab.research.google.com/github/andresit02/Actividad-14-12-24-MN/blob/main/Taller_04_M%C3%ADnimos_cuadrados.ipynb\" target=\"_parent\"><img src=\"https://colab.research.google.com/assets/colab-badge.svg\" alt=\"Open In Colab\"/></a>"
      ]
    },
    {
      "cell_type": "code",
      "execution_count": null,
      "metadata": {
        "id": "f3l9etqVY9WS"
      },
      "outputs": [],
      "source": [
        "p1 = (5.4, 3.2)\n",
        "p2_i = (9.5, 0.7)\n",
        "p3 = (12.3, -3.6)"
      ]
    },
    {
      "cell_type": "code",
      "source": [
        "from ipywidgets import interact\n",
        "import matplotlib.pyplot as plt\n",
        "\n",
        "m = -1\n",
        "b = 8\n",
        "\n",
        "\n",
        "def update_plot(p2_x, p2_y):\n",
        "    x_coords = [p1[0], p2_x, p3[0]]\n",
        "    y_coords = [p1[1], p2_y, p3[1]]\n",
        "\n",
        "    plt.figure(figsize=(10, 6))\n",
        "    plt.scatter(x_coords, y_coords, color=\"red\")\n",
        "\n",
        "    x_line = [min(x_coords), max(x_coords)]\n",
        "    y_line = [m * x + b for x in x_line]\n",
        "    plt.plot(x_line, y_line, color=\"blue\")\n",
        "\n",
        "    plt.xlabel(\"X\")\n",
        "    plt.ylabel(\"Y\")\n",
        "    plt.title(\"Points and Line Plot\")\n",
        "    plt.show()\n",
        "\n",
        "\n",
        "_ = interact(update_plot, p2_x=(5.5, 12.3, 0.1), p2_y=(-10.0, 10.0, 0.1))"
      ],
      "metadata": {
        "id": "zFPkWWSxZPof",
        "outputId": "a12e3f98-d3c1-4dc9-bc9d-439807d4b414",
        "colab": {
          "base_uri": "https://localhost:8080/",
          "height": 628,
          "referenced_widgets": [
            "d7d13bb920ac4f88878c7d546d09edb3",
            "14db2dffcaa44ecbb6c40b3df5590f2d",
            "25c1f4f08b204abda9513e739c2033cf",
            "01786a681fc64190ae0410b00a1a375a",
            "0692cd5adfbf45b78490718c423690fe",
            "02b248a14389498aa8afda921372908e",
            "f287569028c94ce28e7c888eae88128b",
            "3fa77b24d3f9432b9bc8e061e1f593a4",
            "7b10e2b36332484aada826fec63b96fa",
            "aa22aa2e54a242ab95a4fbc80b32e10f"
          ]
        }
      },
      "execution_count": 3,
      "outputs": [
        {
          "output_type": "display_data",
          "data": {
            "text/plain": [
              "interactive(children=(FloatSlider(value=8.9, description='p2_x', max=12.3, min=5.5), FloatSlider(value=0.0, de…"
            ],
            "application/vnd.jupyter.widget-view+json": {
              "version_major": 2,
              "version_minor": 0,
              "model_id": "d7d13bb920ac4f88878c7d546d09edb3"
            }
          },
          "metadata": {}
        }
      ]
    }
  ]
}