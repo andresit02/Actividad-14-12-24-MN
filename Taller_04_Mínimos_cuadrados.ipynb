{
  "nbformat": 4,
  "nbformat_minor": 0,
  "metadata": {
    "colab": {
      "provenance": [],
      "authorship_tag": "ABX9TyNqEwtkOtFgt9lzJqL29qb0",
      "include_colab_link": true
    },
    "kernelspec": {
      "name": "python3",
      "display_name": "Python 3"
    },
    "language_info": {
      "name": "python"
    },
    "widgets": {
      "application/vnd.jupyter.widget-state+json": {
        "d7d13bb920ac4f88878c7d546d09edb3": {
          "model_module": "@jupyter-widgets/controls",
          "model_name": "VBoxModel",
          "model_module_version": "1.5.0",
          "state": {
            "_dom_classes": [
              "widget-interact"
            ],
            "_model_module": "@jupyter-widgets/controls",
            "_model_module_version": "1.5.0",
            "_model_name": "VBoxModel",
            "_view_count": null,
            "_view_module": "@jupyter-widgets/controls",
            "_view_module_version": "1.5.0",
            "_view_name": "VBoxView",
            "box_style": "",
            "children": [
              "IPY_MODEL_14db2dffcaa44ecbb6c40b3df5590f2d",
              "IPY_MODEL_25c1f4f08b204abda9513e739c2033cf",
              "IPY_MODEL_01786a681fc64190ae0410b00a1a375a"
            ],
            "layout": "IPY_MODEL_0692cd5adfbf45b78490718c423690fe"
          }
        },
        "14db2dffcaa44ecbb6c40b3df5590f2d": {
          "model_module": "@jupyter-widgets/controls",
          "model_name": "FloatSliderModel",
          "model_module_version": "1.5.0",
          "state": {
            "_dom_classes": [],
            "_model_module": "@jupyter-widgets/controls",
            "_model_module_version": "1.5.0",
            "_model_name": "FloatSliderModel",
            "_view_count": null,
            "_view_module": "@jupyter-widgets/controls",
            "_view_module_version": "1.5.0",
            "_view_name": "FloatSliderView",
            "continuous_update": true,
            "description": "p2_x",
            "description_tooltip": null,
            "disabled": false,
            "layout": "IPY_MODEL_02b248a14389498aa8afda921372908e",
            "max": 12.3,
            "min": 5.5,
            "orientation": "horizontal",
            "readout": true,
            "readout_format": ".2f",
            "step": 0.1,
            "style": "IPY_MODEL_f287569028c94ce28e7c888eae88128b",
            "value": 8.9
          }
        },
        "25c1f4f08b204abda9513e739c2033cf": {
          "model_module": "@jupyter-widgets/controls",
          "model_name": "FloatSliderModel",
          "model_module_version": "1.5.0",
          "state": {
            "_dom_classes": [],
            "_model_module": "@jupyter-widgets/controls",
            "_model_module_version": "1.5.0",
            "_model_name": "FloatSliderModel",
            "_view_count": null,
            "_view_module": "@jupyter-widgets/controls",
            "_view_module_version": "1.5.0",
            "_view_name": "FloatSliderView",
            "continuous_update": true,
            "description": "p2_y",
            "description_tooltip": null,
            "disabled": false,
            "layout": "IPY_MODEL_3fa77b24d3f9432b9bc8e061e1f593a4",
            "max": 10,
            "min": -10,
            "orientation": "horizontal",
            "readout": true,
            "readout_format": ".2f",
            "step": 0.1,
            "style": "IPY_MODEL_7b10e2b36332484aada826fec63b96fa",
            "value": -2.7
          }
        },
        "01786a681fc64190ae0410b00a1a375a": {
          "model_module": "@jupyter-widgets/output",
          "model_name": "OutputModel",
          "model_module_version": "1.0.0",
          "state": {
            "_dom_classes": [],
            "_model_module": "@jupyter-widgets/output",
            "_model_module_version": "1.0.0",
            "_model_name": "OutputModel",
            "_view_count": null,
            "_view_module": "@jupyter-widgets/output",
            "_view_module_version": "1.0.0",
            "_view_name": "OutputView",
            "layout": "IPY_MODEL_aa22aa2e54a242ab95a4fbc80b32e10f",
            "msg_id": "",
            "outputs": [
              {
                "output_type": "display_data",
                "data": {
                  "text/plain": "<Figure size 1000x600 with 1 Axes>",
                  "image/png": "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\n"
                },
                "metadata": {}
              }
            ]
          }
        },
        "0692cd5adfbf45b78490718c423690fe": {
          "model_module": "@jupyter-widgets/base",
          "model_name": "LayoutModel",
          "model_module_version": "1.2.0",
          "state": {
            "_model_module": "@jupyter-widgets/base",
            "_model_module_version": "1.2.0",
            "_model_name": "LayoutModel",
            "_view_count": null,
            "_view_module": "@jupyter-widgets/base",
            "_view_module_version": "1.2.0",
            "_view_name": "LayoutView",
            "align_content": null,
            "align_items": null,
            "align_self": null,
            "border": null,
            "bottom": null,
            "display": null,
            "flex": null,
            "flex_flow": null,
            "grid_area": null,
            "grid_auto_columns": null,
            "grid_auto_flow": null,
            "grid_auto_rows": null,
            "grid_column": null,
            "grid_gap": null,
            "grid_row": null,
            "grid_template_areas": null,
            "grid_template_columns": null,
            "grid_template_rows": null,
            "height": null,
            "justify_content": null,
            "justify_items": null,
            "left": null,
            "margin": null,
            "max_height": null,
            "max_width": null,
            "min_height": null,
            "min_width": null,
            "object_fit": null,
            "object_position": null,
            "order": null,
            "overflow": null,
            "overflow_x": null,
            "overflow_y": null,
            "padding": null,
            "right": null,
            "top": null,
            "visibility": null,
            "width": null
          }
        },
        "02b248a14389498aa8afda921372908e": {
          "model_module": "@jupyter-widgets/base",
          "model_name": "LayoutModel",
          "model_module_version": "1.2.0",
          "state": {
            "_model_module": "@jupyter-widgets/base",
            "_model_module_version": "1.2.0",
            "_model_name": "LayoutModel",
            "_view_count": null,
            "_view_module": "@jupyter-widgets/base",
            "_view_module_version": "1.2.0",
            "_view_name": "LayoutView",
            "align_content": null,
            "align_items": null,
            "align_self": null,
            "border": null,
            "bottom": null,
            "display": null,
            "flex": null,
            "flex_flow": null,
            "grid_area": null,
            "grid_auto_columns": null,
            "grid_auto_flow": null,
            "grid_auto_rows": null,
            "grid_column": null,
            "grid_gap": null,
            "grid_row": null,
            "grid_template_areas": null,
            "grid_template_columns": null,
            "grid_template_rows": null,
            "height": null,
            "justify_content": null,
            "justify_items": null,
            "left": null,
            "margin": null,
            "max_height": null,
            "max_width": null,
            "min_height": null,
            "min_width": null,
            "object_fit": null,
            "object_position": null,
            "order": null,
            "overflow": null,
            "overflow_x": null,
            "overflow_y": null,
            "padding": null,
            "right": null,
            "top": null,
            "visibility": null,
            "width": null
          }
        },
        "f287569028c94ce28e7c888eae88128b": {
          "model_module": "@jupyter-widgets/controls",
          "model_name": "SliderStyleModel",
          "model_module_version": "1.5.0",
          "state": {
            "_model_module": "@jupyter-widgets/controls",
            "_model_module_version": "1.5.0",
            "_model_name": "SliderStyleModel",
            "_view_count": null,
            "_view_module": "@jupyter-widgets/base",
            "_view_module_version": "1.2.0",
            "_view_name": "StyleView",
            "description_width": "",
            "handle_color": null
          }
        },
        "3fa77b24d3f9432b9bc8e061e1f593a4": {
          "model_module": "@jupyter-widgets/base",
          "model_name": "LayoutModel",
          "model_module_version": "1.2.0",
          "state": {
            "_model_module": "@jupyter-widgets/base",
            "_model_module_version": "1.2.0",
            "_model_name": "LayoutModel",
            "_view_count": null,
            "_view_module": "@jupyter-widgets/base",
            "_view_module_version": "1.2.0",
            "_view_name": "LayoutView",
            "align_content": null,
            "align_items": null,
            "align_self": null,
            "border": null,
            "bottom": null,
            "display": null,
            "flex": null,
            "flex_flow": null,
            "grid_area": null,
            "grid_auto_columns": null,
            "grid_auto_flow": null,
            "grid_auto_rows": null,
            "grid_column": null,
            "grid_gap": null,
            "grid_row": null,
            "grid_template_areas": null,
            "grid_template_columns": null,
            "grid_template_rows": null,
            "height": null,
            "justify_content": null,
            "justify_items": null,
            "left": null,
            "margin": null,
            "max_height": null,
            "max_width": null,
            "min_height": null,
            "min_width": null,
            "object_fit": null,
            "object_position": null,
            "order": null,
            "overflow": null,
            "overflow_x": null,
            "overflow_y": null,
            "padding": null,
            "right": null,
            "top": null,
            "visibility": null,
            "width": null
          }
        },
        "7b10e2b36332484aada826fec63b96fa": {
          "model_module": "@jupyter-widgets/controls",
          "model_name": "SliderStyleModel",
          "model_module_version": "1.5.0",
          "state": {
            "_model_module": "@jupyter-widgets/controls",
            "_model_module_version": "1.5.0",
            "_model_name": "SliderStyleModel",
            "_view_count": null,
            "_view_module": "@jupyter-widgets/base",
            "_view_module_version": "1.2.0",
            "_view_name": "StyleView",
            "description_width": "",
            "handle_color": null
          }
        },
        "aa22aa2e54a242ab95a4fbc80b32e10f": {
          "model_module": "@jupyter-widgets/base",
          "model_name": "LayoutModel",
          "model_module_version": "1.2.0",
          "state": {
            "_model_module": "@jupyter-widgets/base",
            "_model_module_version": "1.2.0",
            "_model_name": "LayoutModel",
            "_view_count": null,
            "_view_module": "@jupyter-widgets/base",
            "_view_module_version": "1.2.0",
            "_view_name": "LayoutView",
            "align_content": null,
            "align_items": null,
            "align_self": null,
            "border": null,
            "bottom": null,
            "display": null,
            "flex": null,
            "flex_flow": null,
            "grid_area": null,
            "grid_auto_columns": null,
            "grid_auto_flow": null,
            "grid_auto_rows": null,
            "grid_column": null,
            "grid_gap": null,
            "grid_row": null,
            "grid_template_areas": null,
            "grid_template_columns": null,
            "grid_template_rows": null,
            "height": null,
            "justify_content": null,
            "justify_items": null,
            "left": null,
            "margin": null,
            "max_height": null,
            "max_width": null,
            "min_height": null,
            "min_width": null,
            "object_fit": null,
            "object_position": null,
            "order": null,
            "overflow": null,
            "overflow_x": null,
            "overflow_y": null,
            "padding": null,
            "right": null,
            "top": null,
            "visibility": null,
            "width": null
          }
        }
      }
    }
  },
  "cells": [
    {
      "cell_type": "markdown",
      "metadata": {
        "id": "view-in-github",
        "colab_type": "text"
      },
      "source": [
        "<a href=\"https://colab.research.google.com/github/andresit02/Actividad-14-12-24-MN/blob/main/Taller_04_M%C3%ADnimos_cuadrados.ipynb\" target=\"_parent\"><img src=\"https://colab.research.google.com/assets/colab-badge.svg\" alt=\"Open In Colab\"/></a>"
      ]
    },
    {
      "cell_type": "markdown",
      "source": [
        "### ***Realizado por: Andres P. Fernandez O.***"
      ],
      "metadata": {
        "id": "rlbZ4gn_Zh6K"
      }
    },
    {
      "cell_type": "code",
      "execution_count": null,
      "metadata": {
        "id": "f3l9etqVY9WS"
      },
      "outputs": [],
      "source": [
        "p1 = (5.4, 3.2)\n",
        "p2_i = (9.5, 0.7)\n",
        "p3 = (12.3, -3.6)"
      ]
    },
    {
      "cell_type": "code",
      "source": [
        "from ipywidgets import interact\n",
        "import matplotlib.pyplot as plt\n",
        "\n",
        "m = -1\n",
        "b = 8\n",
        "\n",
        "\n",
        "def update_plot(p2_x, p2_y):\n",
        "    x_coords = [p1[0], p2_x, p3[0]]\n",
        "    y_coords = [p1[1], p2_y, p3[1]]\n",
        "\n",
        "    plt.figure(figsize=(10, 6))\n",
        "    plt.scatter(x_coords, y_coords, color=\"red\")\n",
        "\n",
        "    x_line = [min(x_coords), max(x_coords)]\n",
        "    y_line = [m * x + b for x in x_line]\n",
        "    plt.plot(x_line, y_line, color=\"blue\")\n",
        "\n",
        "    plt.xlabel(\"X\")\n",
        "    plt.ylabel(\"Y\")\n",
        "    plt.title(\"Points and Line Plot\")\n",
        "    plt.show()\n",
        "\n",
        "\n",
        "_ = interact(update_plot, p2_x=(5.5, 12.3, 0.1), p2_y=(-10.0, 10.0, 0.1))"
      ],
      "metadata": {
        "id": "zFPkWWSxZPof",
        "outputId": "a12e3f98-d3c1-4dc9-bc9d-439807d4b414",
        "colab": {
          "base_uri": "https://localhost:8080/",
          "height": 628,
          "referenced_widgets": [
            "d7d13bb920ac4f88878c7d546d09edb3",
            "14db2dffcaa44ecbb6c40b3df5590f2d",
            "25c1f4f08b204abda9513e739c2033cf",
            "01786a681fc64190ae0410b00a1a375a",
            "0692cd5adfbf45b78490718c423690fe",
            "02b248a14389498aa8afda921372908e",
            "f287569028c94ce28e7c888eae88128b",
            "3fa77b24d3f9432b9bc8e061e1f593a4",
            "7b10e2b36332484aada826fec63b96fa",
            "aa22aa2e54a242ab95a4fbc80b32e10f"
          ]
        }
      },
      "execution_count": 3,
      "outputs": [
        {
          "output_type": "display_data",
          "data": {
            "text/plain": [
              "interactive(children=(FloatSlider(value=8.9, description='p2_x', max=12.3, min=5.5), FloatSlider(value=0.0, de…"
            ],
            "application/vnd.jupyter.widget-view+json": {
              "version_major": 2,
              "version_minor": 0,
              "model_id": "d7d13bb920ac4f88878c7d546d09edb3"
            }
          },
          "metadata": {}
        }
      ]
    }
  ]
}